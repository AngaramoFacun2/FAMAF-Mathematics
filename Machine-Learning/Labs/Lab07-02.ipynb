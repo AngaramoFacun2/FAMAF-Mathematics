{
 "cells": [
  {
   "cell_type": "code",
   "execution_count": 1,
   "id": "f2fa019e",
   "metadata": {},
   "outputs": [],
   "source": [
    "import numpy as np\n",
    "import pandas as pd\n",
    "\n",
    "from sklearn.datasets import load_breast_cancer\n",
    "from sklearn.model_selection import train_test_split\n",
    "from sklearn.tree import DecisionTreeClassifier\n",
    "from sklearn.ensemble import (\n",
    "    VotingClassifier, BaggingClassifier, RandomForestClassifier,\n",
    "    AdaBoostClassifier, GradientBoostingClassifier\n",
    ")\n",
    "from sklearn.metrics import (\n",
    "    accuracy_score, precision_score, recall_score,\n",
    "    confusion_matrix, f1_score, roc_auc_score\n",
    ")"
   ]
  },
  {
   "cell_type": "code",
   "execution_count": 2,
   "id": "c4114b32",
   "metadata": {},
   "outputs": [],
   "source": [
    "seed = 42"
   ]
  },
  {
   "cell_type": "markdown",
   "id": "5e7a3823",
   "metadata": {},
   "source": [
    "### **Ensemble Learning**"
   ]
  },
  {
   "cell_type": "code",
   "execution_count": 3,
   "id": "af25e076",
   "metadata": {},
   "outputs": [
    {
     "name": "stdout",
     "output_type": "stream",
     "text": [
      ".. _breast_cancer_dataset:\n",
      "\n",
      "Breast cancer wisconsin (diagnostic) dataset\n",
      "--------------------------------------------\n",
      "\n",
      "**Data Set Characteristics:**\n",
      "\n",
      "    :Number of Instances: 569\n",
      "\n",
      "    :Number of Attributes: 30 numeric, predictive attributes and the class\n",
      "\n",
      "    :Attribute Information:\n",
      "        - radius (mean of distances from center to points on the perimeter)\n",
      "        - texture (standard deviation of gray-scale values)\n",
      "        - perimeter\n",
      "        - area\n",
      "        - smoothness (local variation in radius lengths)\n",
      "        - compactness (perimeter^2 / area - 1.0)\n",
      "        - concavity (severity of concave portions of the contour)\n",
      "        - concave points (number of concave portions of the contour)\n",
      "        - symmetry\n",
      "        - fractal dimension (\"coastline approximation\" - 1)\n",
      "\n",
      "        The mean, standard error, and \"worst\" or largest (mean of the three\n",
      "        worst/largest values) of these features were computed for each image,\n",
      "        resulting in 30 features.  For instance, field 0 is Mean Radius, field\n",
      "        10 is Radius SE, field 20 is Worst Radius.\n",
      "\n",
      "        - class:\n",
      "                - WDBC-Malignant\n",
      "                - WDBC-Benign\n",
      "\n",
      "    :Summary Statistics:\n",
      "\n",
      "    ===================================== ====== ======\n",
      "                                           Min    Max\n",
      "    ===================================== ====== ======\n",
      "    radius (mean):                        6.981  28.11\n",
      "    texture (mean):                       9.71   39.28\n",
      "    perimeter (mean):                     43.79  188.5\n",
      "    area (mean):                          143.5  2501.0\n",
      "    smoothness (mean):                    0.053  0.163\n",
      "    compactness (mean):                   0.019  0.345\n",
      "    concavity (mean):                     0.0    0.427\n",
      "    concave points (mean):                0.0    0.201\n",
      "    symmetry (mean):                      0.106  0.304\n",
      "    fractal dimension (mean):             0.05   0.097\n",
      "    radius (standard error):              0.112  2.873\n",
      "    texture (standard error):             0.36   4.885\n",
      "    perimeter (standard error):           0.757  21.98\n",
      "    area (standard error):                6.802  542.2\n",
      "    smoothness (standard error):          0.002  0.031\n",
      "    compactness (standard error):         0.002  0.135\n",
      "    concavity (standard error):           0.0    0.396\n",
      "    concave points (standard error):      0.0    0.053\n",
      "    symmetry (standard error):            0.008  0.079\n",
      "    fractal dimension (standard error):   0.001  0.03\n",
      "    radius (worst):                       7.93   36.04\n",
      "    texture (worst):                      12.02  49.54\n",
      "    perimeter (worst):                    50.41  251.2\n",
      "    area (worst):                         185.2  4254.0\n",
      "    smoothness (worst):                   0.071  0.223\n",
      "    compactness (worst):                  0.027  1.058\n",
      "    concavity (worst):                    0.0    1.252\n",
      "    concave points (worst):               0.0    0.291\n",
      "    symmetry (worst):                     0.156  0.664\n",
      "    fractal dimension (worst):            0.055  0.208\n",
      "    ===================================== ====== ======\n",
      "\n",
      "    :Missing Attribute Values: None\n",
      "\n",
      "    :Class Distribution: 212 - Malignant, 357 - Benign\n",
      "\n",
      "    :Creator:  Dr. William H. Wolberg, W. Nick Street, Olvi L. Mangasarian\n",
      "\n",
      "    :Donor: Nick Street\n",
      "\n",
      "    :Date: November, 1995\n",
      "\n",
      "This is a copy of UCI ML Breast Cancer Wisconsin (Diagnostic) datasets.\n",
      "https://goo.gl/U2Uwz2\n",
      "\n",
      "Features are computed from a digitized image of a fine needle\n",
      "aspirate (FNA) of a breast mass.  They describe\n",
      "characteristics of the cell nuclei present in the image.\n",
      "\n",
      "Separating plane described above was obtained using\n",
      "Multisurface Method-Tree (MSM-T) [K. P. Bennett, \"Decision Tree\n",
      "Construction Via Linear Programming.\" Proceedings of the 4th\n",
      "Midwest Artificial Intelligence and Cognitive Science Society,\n",
      "pp. 97-101, 1992], a classification method which uses linear\n",
      "programming to construct a decision tree.  Relevant features\n",
      "were selected using an exhaustive search in the space of 1-4\n",
      "features and 1-3 separating planes.\n",
      "\n",
      "The actual linear program used to obtain the separating plane\n",
      "in the 3-dimensional space is that described in:\n",
      "[K. P. Bennett and O. L. Mangasarian: \"Robust Linear\n",
      "Programming Discrimination of Two Linearly Inseparable Sets\",\n",
      "Optimization Methods and Software 1, 1992, 23-34].\n",
      "\n",
      "This database is also available through the UW CS ftp server:\n",
      "\n",
      "ftp ftp.cs.wisc.edu\n",
      "cd math-prog/cpo-dataset/machine-learn/WDBC/\n",
      "\n",
      ".. topic:: References\n",
      "\n",
      "   - W.N. Street, W.H. Wolberg and O.L. Mangasarian. Nuclear feature extraction \n",
      "     for breast tumor diagnosis. IS&T/SPIE 1993 International Symposium on \n",
      "     Electronic Imaging: Science and Technology, volume 1905, pages 861-870,\n",
      "     San Jose, CA, 1993.\n",
      "   - O.L. Mangasarian, W.N. Street and W.H. Wolberg. Breast cancer diagnosis and \n",
      "     prognosis via linear programming. Operations Research, 43(4), pages 570-577, \n",
      "     July-August 1995.\n",
      "   - W.H. Wolberg, W.N. Street, and O.L. Mangasarian. Machine learning techniques\n",
      "     to diagnose breast cancer from fine-needle aspirates. Cancer Letters 77 (1994) \n",
      "     163-171.\n"
     ]
    }
   ],
   "source": [
    "cancer = load_breast_cancer()\n",
    "print(cancer.DESCR)"
   ]
  },
  {
   "cell_type": "code",
   "execution_count": 4,
   "id": "cb2361fb",
   "metadata": {},
   "outputs": [],
   "source": [
    "X = cancer.data\n",
    "y = cancer.target"
   ]
  },
  {
   "cell_type": "code",
   "execution_count": 5,
   "id": "8710bdfb",
   "metadata": {},
   "outputs": [],
   "source": [
    "X_train, X_aux, y_train, y_aux = \\\n",
    "    train_test_split(\n",
    "        X, y, test_size=0.25, random_state=seed, stratify=y\n",
    "    )\n",
    "\n",
    "X_val, X_test, y_val, y_test= \\\n",
    "    train_test_split(\n",
    "        X_aux, y_aux, test_size=0.75, random_state=seed, stratify=y_aux\n",
    "    )"
   ]
  },
  {
   "cell_type": "markdown",
   "id": "4c950b4f",
   "metadata": {},
   "source": [
    "#### **Voting**"
   ]
  },
  {
   "cell_type": "markdown",
   "id": "68acbb3a",
   "metadata": {},
   "source": [
    "##### - **Hard Voting**"
   ]
  },
  {
   "cell_type": "code",
   "execution_count": 6,
   "id": "5a70a9cd",
   "metadata": {},
   "outputs": [
    {
     "name": "stdout",
     "output_type": "stream",
     "text": [
      "Validation Acurracy: 0.94 (tree-1)\n",
      "Validation Acurracy: 0.94 (tree-2)\n",
      "Validation Acurracy: 0.97 (tree-3)\n",
      "\n",
      "Test Acurracy: 0.93 (Hard Voting)\n"
     ]
    }
   ],
   "source": [
    "tree1 = DecisionTreeClassifier(\n",
    "    criterion=\"gini\", \n",
    "    max_depth=1, \n",
    "    random_state=seed\n",
    ")\n",
    "tree2 = DecisionTreeClassifier(\n",
    "    criterion=\"gini\", \n",
    "    max_depth=2, \n",
    "    random_state=seed\n",
    ")\n",
    "tree3 = DecisionTreeClassifier(\n",
    "    criterion=\"gini\", \n",
    "    max_depth=3, \n",
    "    random_state=seed\n",
    ")\n",
    "\n",
    "for idx, clf in enumerate([tree1, tree2, tree3]):\n",
    "    clf.fit(X_train, y_train)\n",
    "    print(f\"Validation Acurracy: {clf.score(X_val, y_val):.2f} (tree-{idx + 1})\")\n",
    "\n",
    "hard_voting = VotingClassifier(\n",
    "    estimators=[(\"tree-1\", tree1), (\"tree-2\", tree2), (\"tree-3\", tree3)], \n",
    "    voting=\"hard\",\n",
    "    weights=None\n",
    ")\n",
    "hard_voting.fit(X_train, y_train)\n",
    "\n",
    "print(f\"\\nTest Acurracy: {hard_voting.score(X_test, y_test):.2f} (Hard Voting)\")"
   ]
  },
  {
   "cell_type": "markdown",
   "id": "de13bce3",
   "metadata": {},
   "source": [
    "##### - **Soft Voting**"
   ]
  },
  {
   "cell_type": "code",
   "execution_count": 7,
   "id": "ccac6e3a",
   "metadata": {},
   "outputs": [
    {
     "name": "stdout",
     "output_type": "stream",
     "text": [
      "Validation Acurracy: 0.94 (tree-1)\n",
      "Validation Acurracy: 0.94 (tree-2)\n",
      "Validation Acurracy: 0.97 (tree-3)\n",
      "\n",
      "Test Acurracy: 0.93 (Soft Voting)\n"
     ]
    }
   ],
   "source": [
    "tree1 = DecisionTreeClassifier(\n",
    "    criterion=\"gini\", \n",
    "    max_depth=1, \n",
    "    random_state=seed\n",
    ")\n",
    "tree2 = DecisionTreeClassifier(\n",
    "    criterion=\"gini\", \n",
    "    max_depth=2, \n",
    "    random_state=seed\n",
    ")\n",
    "tree3 = DecisionTreeClassifier(\n",
    "    criterion=\"gini\", \n",
    "    max_depth=3, \n",
    "    random_state=seed\n",
    ")\n",
    "\n",
    "for idx, clf in enumerate([tree1, tree2, tree3]):\n",
    "    clf.fit(X_train, y_train)\n",
    "    print(f\"Validation Acurracy: {clf.score(X_val, y_val):.2f} (tree-{idx + 1})\")\n",
    "\n",
    "soft_voting = VotingClassifier(\n",
    "    estimators=[(\"tree-1\", tree1), (\"tree-2\", tree2), (\"tree-3\", tree3)], \n",
    "    voting=\"soft\",\n",
    "    weights=None\n",
    ")\n",
    "soft_voting.fit(X_train, y_train)\n",
    "\n",
    "print(f\"\\nTest Acurracy: {soft_voting.score(X_test, y_test):.2f} (Soft Voting)\")"
   ]
  },
  {
   "cell_type": "markdown",
   "id": "3e3da055",
   "metadata": {},
   "source": [
    "#### **Bagging**"
   ]
  },
  {
   "cell_type": "code",
   "execution_count": 8,
   "id": "daf47321",
   "metadata": {},
   "outputs": [
    {
     "name": "stdout",
     "output_type": "stream",
     "text": [
      " OOB Accuracy: 0.96 (Bagging)\n",
      "Test Accuracy: 0.94 (Bagging)\n"
     ]
    }
   ],
   "source": [
    "tree = DecisionTreeClassifier(\n",
    "    criterion=\"entropy\", \n",
    "    max_depth=None, \n",
    "    random_state=seed\n",
    ")\n",
    "\n",
    "bagging = BaggingClassifier(\n",
    "    estimator=tree,\n",
    "    n_estimators=100,\n",
    "    bootstrap=True,\n",
    "    oob_score=True,\n",
    "    random_state=seed\n",
    ")\n",
    "bagging.fit(X_train, y_train)\n",
    "\n",
    "print(f\" OOB Accuracy: {bagging.oob_score_:.2f} (Bagging)\")\n",
    "print(f\"Test Accuracy: {bagging.score(X_test, y_test):.2f} (Bagging)\")"
   ]
  },
  {
   "cell_type": "markdown",
   "id": "e9e1cbfd",
   "metadata": {},
   "source": [
    "##### - **Random Forests**"
   ]
  },
  {
   "cell_type": "code",
   "execution_count": 9,
   "id": "73493f9a",
   "metadata": {},
   "outputs": [
    {
     "name": "stdout",
     "output_type": "stream",
     "text": [
      "Test Accuracy: 0.94 (Random Forest)\n"
     ]
    }
   ],
   "source": [
    "rf = RandomForestClassifier(\n",
    "    n_estimators=100,\n",
    "    criterion=\"gini\",\n",
    "    max_depth=None,\n",
    "    min_samples_split=2,\n",
    "    min_samples_leaf=1,\n",
    "    random_state=42\n",
    ")\n",
    "rf.fit(X_train, y_train)\n",
    "\n",
    "print(f\"Test Accuracy: {rf.score(X_test, y_test):.2f} (Random Forest)\")"
   ]
  },
  {
   "cell_type": "markdown",
   "id": "08d475ab",
   "metadata": {},
   "source": [
    "#### **Boosting**"
   ]
  },
  {
   "cell_type": "markdown",
   "id": "d847ac06",
   "metadata": {},
   "source": [
    "##### - **AdaBoost**"
   ]
  },
  {
   "cell_type": "code",
   "execution_count": 10,
   "id": "7c8e645c",
   "metadata": {},
   "outputs": [
    {
     "name": "stdout",
     "output_type": "stream",
     "text": [
      "Test Accuracy: 0.94 (AdaBoost)\n"
     ]
    }
   ],
   "source": [
    "tree = DecisionTreeClassifier(\n",
    "    criterion=\"entropy\", \n",
    "    max_depth=1, \n",
    "    random_state=seed\n",
    ")\n",
    "\n",
    "adaboost = AdaBoostClassifier(\n",
    "    estimator=tree,\n",
    "    n_estimators=50,\n",
    "    algorithm=\"SAMME.R\",\n",
    "    random_state=seed\n",
    ")\n",
    "adaboost.fit(X_train, y_train)\n",
    "\n",
    "print(f\"Test Accuracy: {adaboost.score(X_test, y_test):.2f} (AdaBoost)\")"
   ]
  },
  {
   "cell_type": "markdown",
   "id": "b9a5d08f",
   "metadata": {},
   "source": [
    "##### - **Gradient Boosting**"
   ]
  },
  {
   "cell_type": "code",
   "execution_count": 11,
   "id": "851f751b",
   "metadata": {},
   "outputs": [
    {
     "name": "stdout",
     "output_type": "stream",
     "text": [
      "Test Accuracy: 0.94 (Gradient Boosting)\n"
     ]
    }
   ],
   "source": [
    "gb = GradientBoostingClassifier(\n",
    "    learning_rate=0.1,\n",
    "    n_estimators=100,\n",
    "    max_depth=3,\n",
    "    random_state=seed\n",
    ")\n",
    "gb.fit(X_train, y_train)\n",
    "\n",
    "print(f\"Test Accuracy: {gb.score(X_test, y_test):.2f} (Gradient Boosting)\")"
   ]
  },
  {
   "cell_type": "markdown",
   "id": "7060a1b7",
   "metadata": {},
   "source": [
    "#### **Summary**"
   ]
  },
  {
   "cell_type": "code",
   "execution_count": 12,
   "id": "c138f20e",
   "metadata": {},
   "outputs": [],
   "source": [
    "def summary(models: dict) -> pd.DataFrame:\n",
    "\n",
    "    s = []\n",
    "\n",
    "    for name, model in models.items():\n",
    "        y_pred = model.predict(X_test)\n",
    "        y_proba = model.predict_proba(X_test)[:, 1] if hasattr(model, \"predict_proba\") else None\n",
    "\n",
    "        s.append({\n",
    "            \"Model\": name,\n",
    "            \"Accuracy\": accuracy_score(y_test, y_pred),\n",
    "            \"Precision\": precision_score(y_test, y_pred),\n",
    "            \"Recall\": recall_score(y_test, y_pred),\n",
    "            \"F1\": f1_score(y_test, y_pred),\n",
    "            \"AUC\": roc_auc_score(y_test, y_proba) if y_proba is not None else None\n",
    "        })\n",
    "\n",
    "    return pd.DataFrame(s)"
   ]
  },
  {
   "cell_type": "code",
   "execution_count": 13,
   "id": "aeb12a96",
   "metadata": {},
   "outputs": [
    {
     "data": {
      "text/html": [
       "<div>\n",
       "<style scoped>\n",
       "    .dataframe tbody tr th:only-of-type {\n",
       "        vertical-align: middle;\n",
       "    }\n",
       "\n",
       "    .dataframe tbody tr th {\n",
       "        vertical-align: top;\n",
       "    }\n",
       "\n",
       "    .dataframe thead th {\n",
       "        text-align: right;\n",
       "    }\n",
       "</style>\n",
       "<table border=\"1\" class=\"dataframe\">\n",
       "  <thead>\n",
       "    <tr style=\"text-align: right;\">\n",
       "      <th></th>\n",
       "      <th>Model</th>\n",
       "      <th>Accuracy</th>\n",
       "      <th>Precision</th>\n",
       "      <th>Recall</th>\n",
       "      <th>F1</th>\n",
       "      <th>AUC</th>\n",
       "    </tr>\n",
       "  </thead>\n",
       "  <tbody>\n",
       "    <tr>\n",
       "      <th>0</th>\n",
       "      <td>Hard Voting</td>\n",
       "      <td>0.9259</td>\n",
       "      <td>0.9412</td>\n",
       "      <td>0.9412</td>\n",
       "      <td>0.9412</td>\n",
       "      <td>NaN</td>\n",
       "    </tr>\n",
       "    <tr>\n",
       "      <th>1</th>\n",
       "      <td>Soft Voting</td>\n",
       "      <td>0.9259</td>\n",
       "      <td>0.9412</td>\n",
       "      <td>0.9412</td>\n",
       "      <td>0.9412</td>\n",
       "      <td>0.9509</td>\n",
       "    </tr>\n",
       "    <tr>\n",
       "      <th>2</th>\n",
       "      <td>Bagging</td>\n",
       "      <td>0.9444</td>\n",
       "      <td>0.9559</td>\n",
       "      <td>0.9559</td>\n",
       "      <td>0.9559</td>\n",
       "      <td>0.9932</td>\n",
       "    </tr>\n",
       "    <tr>\n",
       "      <th>3</th>\n",
       "      <td>Random Forest</td>\n",
       "      <td>0.9444</td>\n",
       "      <td>0.9429</td>\n",
       "      <td>0.9706</td>\n",
       "      <td>0.9565</td>\n",
       "      <td>0.9915</td>\n",
       "    </tr>\n",
       "    <tr>\n",
       "      <th>4</th>\n",
       "      <td>AdaBoost</td>\n",
       "      <td>0.9444</td>\n",
       "      <td>0.9429</td>\n",
       "      <td>0.9706</td>\n",
       "      <td>0.9565</td>\n",
       "      <td>0.9728</td>\n",
       "    </tr>\n",
       "    <tr>\n",
       "      <th>5</th>\n",
       "      <td>Gradient Boosting</td>\n",
       "      <td>0.9444</td>\n",
       "      <td>0.9306</td>\n",
       "      <td>0.9853</td>\n",
       "      <td>0.9571</td>\n",
       "      <td>0.9882</td>\n",
       "    </tr>\n",
       "  </tbody>\n",
       "</table>\n",
       "</div>"
      ],
      "text/plain": [
       "               Model  Accuracy  Precision  Recall      F1     AUC\n",
       "0        Hard Voting    0.9259     0.9412  0.9412  0.9412     NaN\n",
       "1        Soft Voting    0.9259     0.9412  0.9412  0.9412  0.9509\n",
       "2            Bagging    0.9444     0.9559  0.9559  0.9559  0.9932\n",
       "3      Random Forest    0.9444     0.9429  0.9706  0.9565  0.9915\n",
       "4           AdaBoost    0.9444     0.9429  0.9706  0.9565  0.9728\n",
       "5  Gradient Boosting    0.9444     0.9306  0.9853  0.9571  0.9882"
      ]
     },
     "execution_count": 13,
     "metadata": {},
     "output_type": "execute_result"
    }
   ],
   "source": [
    "models = {\n",
    "    \"Hard Voting\": hard_voting,\n",
    "    \"Soft Voting\": soft_voting,\n",
    "    \"Bagging\": bagging,\n",
    "    \"Random Forest\": rf,\n",
    "    \"AdaBoost\": adaboost,\n",
    "    \"Gradient Boosting\": gb\n",
    "}\n",
    "\n",
    "summary(models).round(4)"
   ]
  },
  {
   "cell_type": "code",
   "execution_count": null,
   "id": "ac762100",
   "metadata": {},
   "outputs": [],
   "source": []
  }
 ],
 "metadata": {
  "kernelspec": {
   "display_name": "base",
   "language": "python",
   "name": "python3"
  },
  "language_info": {
   "codemirror_mode": {
    "name": "ipython",
    "version": 3
   },
   "file_extension": ".py",
   "mimetype": "text/x-python",
   "name": "python",
   "nbconvert_exporter": "python",
   "pygments_lexer": "ipython3",
   "version": "3.11.7"
  }
 },
 "nbformat": 4,
 "nbformat_minor": 5
}

{
 "cells": [
  {
   "cell_type": "code",
   "execution_count": 1,
   "metadata": {},
   "outputs": [],
   "source": [
    "import math\n",
    "import random\n",
    "\n",
    "import functions"
   ]
  },
  {
   "cell_type": "markdown",
   "metadata": {},
   "source": [
    "### **Generating Discrete Random Variables**"
   ]
  },
  {
   "cell_type": "code",
   "execution_count": 2,
   "metadata": {},
   "outputs": [],
   "source": [
    "# exercise 1"
   ]
  },
  {
   "cell_type": "code",
   "execution_count": null,
   "metadata": {},
   "outputs": [],
   "source": []
  },
  {
   "cell_type": "code",
   "execution_count": 3,
   "metadata": {},
   "outputs": [],
   "source": [
    "# exercise 2"
   ]
  },
  {
   "cell_type": "code",
   "execution_count": 4,
   "metadata": {},
   "outputs": [],
   "source": [
    "N = 10000\n",
    "fun = lambda k: math.exp(k / N)"
   ]
  },
  {
   "cell_type": "code",
   "execution_count": 5,
   "metadata": {},
   "outputs": [
    {
     "name": "stdout",
     "output_type": "stream",
     "text": [
      "S = 17183.677439823703\n",
      "CPU times: user 2.73 ms, sys: 174 µs, total: 2.91 ms\n",
      "Wall time: 2.93 ms\n"
     ]
    }
   ],
   "source": [
    "%%time\n",
    "S = 0\n",
    "for k in range(1, N + 1):\n",
    "    S = S + fun(k)\n",
    "print(f'S = {S}')"
   ]
  },
  {
   "cell_type": "code",
   "execution_count": 6,
   "metadata": {},
   "outputs": [
    {
     "name": "stdout",
     "output_type": "stream",
     "text": [
      "S_approx_1 = 17574.033905845128\n",
      "CPU times: user 112 µs, sys: 25 µs, total: 137 µs\n",
      "Wall time: 140 µs\n"
     ]
    }
   ],
   "source": [
    "%%time\n",
    "S_approx_1 = N * functions.average(fun, N, Nsim=100)\n",
    "print(f'S_approx_1 = {S_approx_1}')"
   ]
  },
  {
   "cell_type": "code",
   "execution_count": 7,
   "metadata": {},
   "outputs": [
    {
     "name": "stdout",
     "output_type": "stream",
     "text": [
      "S_approx_2 = 100.50669600897406\n",
      "CPU times: user 98 µs, sys: 10 µs, total: 108 µs\n",
      "Wall time: 147 µs\n"
     ]
    }
   ],
   "source": [
    "%%time\n",
    "S_approx_2 = 0\n",
    "for k in range(1, 100 + 1):\n",
    "    S_approx_2 = S_approx_2 + fun(k)\n",
    "print(f'S_approx_2 = {S_approx_2}')"
   ]
  },
  {
   "cell_type": "code",
   "execution_count": 8,
   "metadata": {},
   "outputs": [],
   "source": [
    "# exercise 3"
   ]
  },
  {
   "cell_type": "code",
   "execution_count": 9,
   "metadata": {},
   "outputs": [],
   "source": [
    "def number_of_rolls():\n",
    "\n",
    "    N = 0\n",
    "    values = [0, 0, 0, 0, 0, 0, 0, 0, 0, 0, 0]\n",
    "\n",
    "    while not all(values):\n",
    "        \n",
    "        D1 = functions.DiscreteUniform_mod(1, 6)\n",
    "        D2 = functions.DiscreteUniform_mod(1, 6)\n",
    "\n",
    "        N = N + 1\n",
    "        values[(D1 + D2) - 2] = values[(D1 + D2) - 2] + 1\n",
    "    \n",
    "    return N"
   ]
  },
  {
   "cell_type": "code",
   "execution_count": 10,
   "metadata": {},
   "outputs": [
    {
     "name": "stdout",
     "output_type": "stream",
     "text": [
      "- Nsim = 100\n",
      "E[N] = 66.54\n",
      "sigma[N] = 37.65751452233669\n",
      "\n",
      "- Nsim = 1000\n",
      "E[N] = 62.534\n",
      "sigma[N] = 36.708048763179995\n",
      "\n",
      "- Nsim = 10000\n",
      "E[N] = 60.9512\n",
      "sigma[N] = 35.20906727762041\n",
      "\n",
      "- Nsim = 100000\n",
      "E[N] = 61.12109\n",
      "sigma[N] = 35.77466096571567\n",
      "\n"
     ]
    }
   ],
   "source": [
    "for Nsim in [100, 1000, 10000, 100000]:\n",
    "\n",
    "    E = 0\n",
    "    V = 0\n",
    "\n",
    "    for _ in range(Nsim):\n",
    "\n",
    "        N = number_of_rolls()\n",
    "\n",
    "        E = E + N\n",
    "        V = V + N**2\n",
    "\n",
    "    E = E / Nsim\n",
    "    V = V / Nsim - E**2\n",
    "    \n",
    "    print(f'- Nsim = {Nsim}\\nE[N] = {E}\\nsigma[N] = {math.sqrt(V)}\\n')"
   ]
  },
  {
   "cell_type": "code",
   "execution_count": 11,
   "metadata": {},
   "outputs": [
    {
     "name": "stdout",
     "output_type": "stream",
     "text": [
      "- Nsim = 100\n",
      "Pr(N <= 42) = 0.35\n",
      "\n",
      "- Nsim = 1000\n",
      "Pr(N <= 42) = 0.347\n",
      "\n",
      "- Nsim = 10000\n",
      "Pr(N <= 42) = 0.3624\n",
      "\n",
      "- Nsim = 100000\n",
      "Pr(N <= 42) = 0.35778\n",
      "\n"
     ]
    }
   ],
   "source": [
    "for Nsim in [100, 1000, 10000, 100000]:\n",
    "\n",
    "    SUM = 0\n",
    "\n",
    "    for _ in range(Nsim):\n",
    "\n",
    "        N = number_of_rolls()\n",
    "\n",
    "        if N <= 42:\n",
    "            SUM = SUM + 1\n",
    "\n",
    "    Pr = SUM / Nsim\n",
    "\n",
    "    print(f'- Nsim = {Nsim}\\nPr(N <= 42) = {Pr}\\n')"
   ]
  },
  {
   "cell_type": "code",
   "execution_count": 12,
   "metadata": {},
   "outputs": [],
   "source": [
    "# exercise 4"
   ]
  },
  {
   "cell_type": "code",
   "execution_count": 13,
   "metadata": {},
   "outputs": [],
   "source": [
    "Xs = [1, 2, 3, 4, 5, 6, 7, 8, 9, 10]\n",
    "Pr = [0.11, 0.14, 0.09, 0.08, 0.12, 0.10, 0.09, 0.07, 0.11, 0.09]"
   ]
  },
  {
   "cell_type": "code",
   "execution_count": 14,
   "metadata": {},
   "outputs": [],
   "source": [
    "def generateX_Rejection(Pr, n:int, c:float) -> int:\n",
    "\n",
    "    U = random.random()\n",
    "    Y = functions.DiscreteUniform(n)\n",
    "\n",
    "    while U >= Pr[Y - 1] / (c * (1 / n)):\n",
    "\n",
    "        U = random.random()\n",
    "        Y = functions.DiscreteUniform(n)\n",
    "\n",
    "    return Y\n",
    "\n",
    "\n",
    "def generateX_invTransform(X, Pr) -> int:\n",
    "    \n",
    "    U = random.random()\n",
    "\n",
    "    i = 0\n",
    "    F = Pr[i]\n",
    "    while U >= F:\n",
    "        i = i + 1\n",
    "        F = F + Pr[i]\n",
    "\n",
    "    return X[i]\n",
    "\n",
    "\n",
    "def generateX_URNA(X, Pr, n:int) -> int:\n",
    "\n",
    "    length = len(X)\n",
    "\n",
    "    A = list()\n",
    "    for i in range(length):\n",
    "        A = A + [X[i]] * int(n * Pr[i])\n",
    "    \n",
    "    k = functions.DiscreteUniform(n) - 1\n",
    "\n",
    "    return A[k]"
   ]
  },
  {
   "cell_type": "code",
   "execution_count": 15,
   "metadata": {},
   "outputs": [],
   "source": [
    "Nsim = 100000"
   ]
  },
  {
   "cell_type": "code",
   "execution_count": 16,
   "metadata": {},
   "outputs": [
    {
     "name": "stdout",
     "output_type": "stream",
     "text": [
      "CPU times: user 51.2 ms, sys: 2.86 ms, total: 54.1 ms\n",
      "Wall time: 55 ms\n"
     ]
    }
   ],
   "source": [
    "%%time\n",
    "for _ in range(Nsim):\n",
    "    generateX_Rejection(Pr, n=10, c=1.4)"
   ]
  },
  {
   "cell_type": "code",
   "execution_count": 17,
   "metadata": {},
   "outputs": [
    {
     "name": "stdout",
     "output_type": "stream",
     "text": [
      "CPU times: user 39.7 ms, sys: 2.26 ms, total: 41.9 ms\n",
      "Wall time: 42.4 ms\n"
     ]
    }
   ],
   "source": [
    "%%time\n",
    "for _ in range(Nsim):\n",
    "    generateX_invTransform(Xs, Pr)"
   ]
  },
  {
   "cell_type": "code",
   "execution_count": 18,
   "metadata": {},
   "outputs": [
    {
     "name": "stdout",
     "output_type": "stream",
     "text": [
      "CPU times: user 381 ms, sys: 4.81 ms, total: 385 ms\n",
      "Wall time: 387 ms\n"
     ]
    }
   ],
   "source": [
    "%%time\n",
    "for _ in range(Nsim):\n",
    "    generateX_URNA(Xs, Pr, n=100)"
   ]
  },
  {
   "cell_type": "code",
   "execution_count": 19,
   "metadata": {},
   "outputs": [],
   "source": [
    "# exercise 5"
   ]
  },
  {
   "cell_type": "code",
   "execution_count": 20,
   "metadata": {},
   "outputs": [],
   "source": [
    "Nsim = 100000\n",
    "\n",
    "n = 10\n",
    "p = 0.3"
   ]
  },
  {
   "cell_type": "code",
   "execution_count": 21,
   "metadata": {},
   "outputs": [
    {
     "name": "stdout",
     "output_type": "stream",
     "text": [
      "CPU times: user 55.7 ms, sys: 2.36 ms, total: 58 ms\n",
      "Wall time: 59.9 ms\n"
     ]
    }
   ],
   "source": [
    "%%time\n",
    "for _ in range(Nsim):\n",
    "    functions.Binomial(n, p)"
   ]
  },
  {
   "cell_type": "code",
   "execution_count": 22,
   "metadata": {},
   "outputs": [
    {
     "name": "stdout",
     "output_type": "stream",
     "text": [
      "CPU times: user 110 ms, sys: 3.24 ms, total: 113 ms\n",
      "Wall time: 115 ms\n"
     ]
    }
   ],
   "source": [
    "%%time\n",
    "for _ in range(Nsim):\n",
    "    for i in range(n):\n",
    "        functions.Bernoulli(p)"
   ]
  },
  {
   "cell_type": "code",
   "execution_count": 23,
   "metadata": {},
   "outputs": [
    {
     "name": "stdout",
     "output_type": "stream",
     "text": [
      "Pr = [0.02915, 0.12138, 0.2337, 0.26844, 0.19818, 0.10256, 0.03591, 0.00891, 0.00161, 0.00016, 0.0]\n",
      "\n",
      "E[X] = 2.99177\n",
      "Var[X] = 2.101682267100001\n"
     ]
    }
   ],
   "source": [
    "# Binomial(n, p)\n",
    "\n",
    "Pr = [0] * (n + 1)\n",
    "\n",
    "E = 0\n",
    "V = 0\n",
    "\n",
    "for _ in range(Nsim):\n",
    "\n",
    "    i = functions.Binomial(n, p)\n",
    "\n",
    "    Pr[i] = Pr[i] + 1\n",
    "\n",
    "    E = E + i\n",
    "    V = V + i**2\n",
    "\n",
    "for i in range(n + 1):\n",
    "    Pr[i] = Pr[i] / Nsim\n",
    "    \n",
    "E = E / Nsim\n",
    "V = V / Nsim - E**2\n",
    "\n",
    "print(f'Pr = {Pr}\\n\\nE[X] = {E}\\nVar[X] = {V}')"
   ]
  },
  {
   "cell_type": "code",
   "execution_count": 24,
   "metadata": {},
   "outputs": [
    {
     "name": "stdout",
     "output_type": "stream",
     "text": [
      "Pr = [0.02907, 0.12351, 0.23263, 0.26642, 0.19858, 0.10282, 0.03639, 0.00897, 0.00139, 0.00022, 0.0]\n",
      "\n",
      "E[X] = 2.99068\n",
      "Var[X] = 2.1117731376\n"
     ]
    }
   ],
   "source": [
    "# Bernoulli(p) (n times)\n",
    "\n",
    "Pr = [0] * (n + 1)\n",
    "\n",
    "E = 0\n",
    "V = 0\n",
    "\n",
    "for _ in range(Nsim):\n",
    "\n",
    "    i = 0\n",
    "    for _ in range(n):\n",
    "        i = i + functions.Bernoulli(p)\n",
    "\n",
    "    Pr[i] = Pr[i] + 1\n",
    "\n",
    "    E = E + i\n",
    "    V = V + i**2\n",
    "\n",
    "for i in range(n + 1):\n",
    "    Pr[i] = Pr[i] / Nsim\n",
    "\n",
    "E = E / Nsim\n",
    "V = V / Nsim - E**2\n",
    "\n",
    "print(f'Pr = {Pr}\\n\\nE[X] = {E}\\nVar[X] = {V}')"
   ]
  },
  {
   "cell_type": "code",
   "execution_count": 25,
   "metadata": {},
   "outputs": [],
   "source": [
    "# exercise 6"
   ]
  },
  {
   "cell_type": "code",
   "execution_count": 26,
   "metadata": {},
   "outputs": [],
   "source": [
    "pX = [0.15, 0.20, 0.10, 0.35, 0.20]"
   ]
  },
  {
   "cell_type": "code",
   "execution_count": 27,
   "metadata": {},
   "outputs": [],
   "source": [
    "Binomial_PMF = lambda k, n, p: math.comb(n, k) * p**k * (1 - p)**(n - k)\n",
    "\n",
    "n = 4\n",
    "p = 0.45\n",
    "\n",
    "pY = [0, 0, 0, 0, 0]\n",
    "for k in range(n + 1):\n",
    "    pY[k] = Binomial_PMF(k, n, p)"
   ]
  },
  {
   "cell_type": "code",
   "execution_count": 28,
   "metadata": {},
   "outputs": [],
   "source": [
    "c = max(pX) / min(pY)"
   ]
  },
  {
   "cell_type": "code",
   "execution_count": 29,
   "metadata": {},
   "outputs": [],
   "source": [
    "def generateX_invTransform():\n",
    "\n",
    "    U = random.random()\n",
    "\n",
    "    if U < 0.35:\n",
    "        X = 3\n",
    "    elif U < 0.55:\n",
    "        X = 1\n",
    "    elif U < 0.75:\n",
    "        X = 4\n",
    "    elif U < 0.9:\n",
    "        X = 0\n",
    "    else:\n",
    "        X = 2\n",
    "    \n",
    "    return X\n",
    "\n",
    "\n",
    "def generateX_Rejection(pX, n, p, pY, c):\n",
    "    \n",
    "    U = random.random()\n",
    "    Y = functions.Binomial(n, p)\n",
    "\n",
    "    while U >= pX[Y] / (c * pY[Y]):\n",
    "        \n",
    "        U = random.random()\n",
    "        Y = functions.Binomial(n, p)\n",
    "\n",
    "    return Y"
   ]
  },
  {
   "cell_type": "code",
   "execution_count": 30,
   "metadata": {},
   "outputs": [],
   "source": [
    "Nsim = 100000"
   ]
  },
  {
   "cell_type": "code",
   "execution_count": 31,
   "metadata": {},
   "outputs": [
    {
     "name": "stdout",
     "output_type": "stream",
     "text": [
      "CPU times: user 21.6 ms, sys: 1.09 ms, total: 22.7 ms\n",
      "Wall time: 23.4 ms\n"
     ]
    }
   ],
   "source": [
    "%%time\n",
    "for _ in range(Nsim):\n",
    "    generateX_invTransform()"
   ]
  },
  {
   "cell_type": "code",
   "execution_count": 32,
   "metadata": {},
   "outputs": [
    {
     "name": "stdout",
     "output_type": "stream",
     "text": [
      "CPU times: user 270 ms, sys: 3.69 ms, total: 274 ms\n",
      "Wall time: 275 ms\n"
     ]
    }
   ],
   "source": [
    "%%time\n",
    "for _ in range(Nsim):\n",
    "    generateX_Rejection(pX, n, p, pY, c)"
   ]
  },
  {
   "cell_type": "code",
   "execution_count": 33,
   "metadata": {},
   "outputs": [],
   "source": [
    "# exercise 7"
   ]
  },
  {
   "cell_type": "code",
   "execution_count": 34,
   "metadata": {},
   "outputs": [],
   "source": [
    "Nsim = 100000\n",
    "\n",
    "lambd = 128"
   ]
  },
  {
   "cell_type": "code",
   "execution_count": 35,
   "metadata": {},
   "outputs": [
    {
     "name": "stdout",
     "output_type": "stream",
     "text": [
      "CPU times: user 489 ms, sys: 7.83 ms, total: 497 ms\n",
      "Wall time: 514 ms\n"
     ]
    }
   ],
   "source": [
    "%%time\n",
    "for _ in range(Nsim):\n",
    "    functions.Poisson(lambd)"
   ]
  },
  {
   "cell_type": "code",
   "execution_count": 36,
   "metadata": {},
   "outputs": [
    {
     "name": "stdout",
     "output_type": "stream",
     "text": [
      "CPU times: user 411 ms, sys: 3.79 ms, total: 415 ms\n",
      "Wall time: 418 ms\n"
     ]
    }
   ],
   "source": [
    "%%time\n",
    "for _ in range(Nsim):\n",
    "    functions.Poisson_mod(lambd)"
   ]
  },
  {
   "cell_type": "code",
   "execution_count": 37,
   "metadata": {},
   "outputs": [
    {
     "name": "stdout",
     "output_type": "stream",
     "text": [
      "Pr(X > 150) = 0.02594\n"
     ]
    }
   ],
   "source": [
    "# Poisson(lambd)\n",
    "\n",
    "S = 0\n",
    "\n",
    "for _ in range(Nsim):\n",
    "\n",
    "    X = functions.Poisson(lambd)\n",
    "\n",
    "    if X > 150:\n",
    "        S = S + 1\n",
    "\n",
    "Pr = S / Nsim\n",
    "\n",
    "print(f'Pr(X > 150) = {Pr}')"
   ]
  },
  {
   "cell_type": "code",
   "execution_count": 38,
   "metadata": {},
   "outputs": [
    {
     "name": "stdout",
     "output_type": "stream",
     "text": [
      "Pr(X > 150) = 0.02558\n"
     ]
    }
   ],
   "source": [
    "# Poisson_mod(lambd)\n",
    "\n",
    "S = 0\n",
    "\n",
    "for _ in range(Nsim):\n",
    "\n",
    "    X = functions.Poisson_mod(lambd)\n",
    "\n",
    "    if X > 150:\n",
    "        S = S + 1\n",
    "\n",
    "Pr = S / Nsim\n",
    "\n",
    "print(f'Pr(X > 150) = {Pr}')"
   ]
  },
  {
   "cell_type": "code",
   "execution_count": 39,
   "metadata": {},
   "outputs": [],
   "source": [
    "# exercise 8"
   ]
  },
  {
   "cell_type": "code",
   "execution_count": 40,
   "metadata": {},
   "outputs": [],
   "source": [
    "Poisson_PMF = lambda i, lambd: (math.exp(-lambd) * lambd**i) / math.factorial(i)\n",
    "Poisson_CDF = lambda k, lambd: sum([Poisson_PMF(j, lambd) for j in range(k + 1)])"
   ]
  },
  {
   "cell_type": "code",
   "execution_count": 41,
   "metadata": {},
   "outputs": [],
   "source": [
    "def generateX_invTransform(k:int, lambd:float) -> int:\n",
    "\n",
    "    U = random.random()\n",
    "\n",
    "    S = Poisson_CDF(k, lambd)\n",
    "\n",
    "    i = 0\n",
    "    Pr = Poisson_PMF(i, lambd) / S\n",
    "    F = Pr\n",
    "\n",
    "    while U >= F:\n",
    "\n",
    "        i = i + 1\n",
    "        Pr =  Poisson_PMF(i, lambd) / S\n",
    "        F = F + Pr\n",
    "\n",
    "    return i \n",
    "\n",
    "def generateX_Rejection(k, lambd):\n",
    "\n",
    "    U = random.random()\n",
    "    Y = functions.Poisson(lambd)\n",
    "\n",
    "    S = Poisson_CDF(k, lambd)\n",
    "\n",
    "    while U >= S**(-2):\n",
    "        \n",
    "        U = random.random()\n",
    "        Y = functions.Poisson(lambd)\n",
    "\n",
    "    return Y"
   ]
  },
  {
   "cell_type": "code",
   "execution_count": 42,
   "metadata": {},
   "outputs": [],
   "source": [
    "Nsim = 100000\n",
    "\n",
    "k = 10\n",
    "lambd = 0.7"
   ]
  },
  {
   "cell_type": "code",
   "execution_count": 43,
   "metadata": {},
   "outputs": [
    {
     "name": "stdout",
     "output_type": "stream",
     "text": [
      "Pr(X > 2) = 0.03468\n"
     ]
    }
   ],
   "source": [
    "# inverse transform method\n",
    "\n",
    "S = 0\n",
    "\n",
    "for _ in range(Nsim):\n",
    "\n",
    "    X = generateX_invTransform(k, lambd)\n",
    "\n",
    "    if X > 2:\n",
    "        S = S + 1\n",
    "\n",
    "Pr = S / Nsim\n",
    "\n",
    "print(f'Pr(X > 2) = {Pr}')"
   ]
  },
  {
   "cell_type": "code",
   "execution_count": 44,
   "metadata": {},
   "outputs": [
    {
     "name": "stdout",
     "output_type": "stream",
     "text": [
      "Pr(X > 2) = 0.03438\n"
     ]
    }
   ],
   "source": [
    "# acceptance-rejection technique \n",
    "\n",
    "S = 0\n",
    "\n",
    "for _ in range(Nsim):\n",
    "\n",
    "    X = generateX_Rejection(k, lambd)\n",
    "\n",
    "    if X > 2:\n",
    "        S = S + 1\n",
    "\n",
    "Pr = S / Nsim\n",
    "\n",
    "print(f'Pr(X > 2) = {Pr}')"
   ]
  },
  {
   "cell_type": "code",
   "execution_count": 45,
   "metadata": {},
   "outputs": [
    {
     "name": "stdout",
     "output_type": "stream",
     "text": [
      "Pr(X > 2) = 0.03414158387347255\n"
     ]
    }
   ],
   "source": [
    "# exact value\n",
    "\n",
    "Pr = 1 - Poisson_CDF(2, lambd) / Poisson_CDF(k, lambd)\n",
    "print(f'Pr(X > 2) = {Pr}')"
   ]
  },
  {
   "cell_type": "code",
   "execution_count": 46,
   "metadata": {},
   "outputs": [],
   "source": [
    "# exercise 9"
   ]
  },
  {
   "cell_type": "code",
   "execution_count": 47,
   "metadata": {},
   "outputs": [],
   "source": [
    "Nsim = 100000\n",
    "\n",
    "p = 0.8"
   ]
  },
  {
   "cell_type": "code",
   "execution_count": 48,
   "metadata": {},
   "outputs": [
    {
     "name": "stdout",
     "output_type": "stream",
     "text": [
      "E[X] = 1.25158\n"
     ]
    }
   ],
   "source": [
    "S = 0\n",
    "\n",
    "for _ in range(Nsim):\n",
    "\n",
    "    X = functions.Geometric(p)\n",
    "    S = S + X\n",
    "    \n",
    "E = S / Nsim\n",
    "\n",
    "print(f'E[X] = {E}')"
   ]
  },
  {
   "cell_type": "code",
   "execution_count": 49,
   "metadata": {},
   "outputs": [
    {
     "name": "stdout",
     "output_type": "stream",
     "text": [
      "E[X] = 1.25108\n"
     ]
    }
   ],
   "source": [
    "S = 0\n",
    "\n",
    "for _ in range(Nsim):\n",
    "\n",
    "    X = 0\n",
    "    success = False\n",
    "    while not success:\n",
    "        if (functions.Bernoulli(p) == 1):\n",
    "            success = True\n",
    "        X = X + 1\n",
    "\n",
    "    S = S + X\n",
    "\n",
    "E = S / Nsim\n",
    "\n",
    "print(f'E[X] = {E}')"
   ]
  },
  {
   "cell_type": "code",
   "execution_count": 50,
   "metadata": {},
   "outputs": [],
   "source": [
    "# exercise 10"
   ]
  },
  {
   "cell_type": "code",
   "execution_count": 51,
   "metadata": {},
   "outputs": [],
   "source": [
    "def generateX():\n",
    "\n",
    "    U = random.random()\n",
    "\n",
    "    j = 1\n",
    "    S1 = 1/4\n",
    "    S2 = 1/6\n",
    "    Pr = S1 + S2\n",
    "    F = Pr\n",
    "\n",
    "    while U >= F:\n",
    "        j = j + 1\n",
    "        S1 = S1 * (1 / 2)\n",
    "        S2 = S2 * (2 / 3)\n",
    "        Pr = S1 + S2\n",
    "        F = F + Pr\n",
    "\n",
    "    return j"
   ]
  },
  {
   "cell_type": "code",
   "execution_count": 52,
   "metadata": {},
   "outputs": [
    {
     "name": "stdout",
     "output_type": "stream",
     "text": [
      "E[X] = 2.50584\n"
     ]
    }
   ],
   "source": [
    "Nsim = 100000\n",
    "\n",
    "S = 0\n",
    "for _ in range(Nsim):\n",
    "    X = generateX()\n",
    "    S = S + X\n",
    "E = S / Nsim\n",
    "\n",
    "print(f'E[X] = {E}')"
   ]
  },
  {
   "cell_type": "code",
   "execution_count": 53,
   "metadata": {},
   "outputs": [],
   "source": [
    "# exercise 11"
   ]
  },
  {
   "cell_type": "code",
   "execution_count": null,
   "metadata": {},
   "outputs": [],
   "source": []
  },
  {
   "cell_type": "code",
   "execution_count": 54,
   "metadata": {},
   "outputs": [],
   "source": [
    "# exercise 12"
   ]
  },
  {
   "cell_type": "code",
   "execution_count": null,
   "metadata": {},
   "outputs": [],
   "source": []
  }
 ],
 "metadata": {
  "kernelspec": {
   "display_name": "base",
   "language": "python",
   "name": "python3"
  },
  "language_info": {
   "codemirror_mode": {
    "name": "ipython",
    "version": 3
   },
   "file_extension": ".py",
   "mimetype": "text/x-python",
   "name": "python",
   "nbconvert_exporter": "python",
   "pygments_lexer": "ipython3",
   "version": "3.11.7"
  }
 },
 "nbformat": 4,
 "nbformat_minor": 2
}

{
 "cells": [
  {
   "cell_type": "code",
   "execution_count": 1,
   "metadata": {},
   "outputs": [],
   "source": [
    "import math\n",
    "import random\n",
    "\n",
    "import numpy as np\n",
    "import scipy.stats\n",
    "\n",
    "import functions"
   ]
  },
  {
   "cell_type": "code",
   "execution_count": 2,
   "metadata": {},
   "outputs": [],
   "source": [
    "seed = 42"
   ]
  },
  {
   "cell_type": "markdown",
   "metadata": {},
   "source": [
    "### **Statistical Analysis of Simulated Data**"
   ]
  },
  {
   "cell_type": "code",
   "execution_count": 3,
   "metadata": {},
   "outputs": [],
   "source": [
    "# exercise 1"
   ]
  },
  {
   "cell_type": "code",
   "execution_count": 4,
   "metadata": {},
   "outputs": [
    {
     "name": "stdout",
     "output_type": "stream",
     "text": [
      "- Nsim = 10280\n",
      "mean = -0.004564181439224627\n",
      "variance = 1.0278139080411315\n"
     ]
    }
   ],
   "source": [
    "random.seed(seed)\n",
    "\n",
    "n = 1\n",
    "Z = random.normalvariate() \n",
    "\n",
    "values = [Z]\n",
    "\n",
    "mean = Z\n",
    "variance = 0\n",
    "\n",
    "MSE = variance / n\n",
    "\n",
    "while (n < 100) or (math.sqrt(MSE) > 0.01):\n",
    "    \n",
    "    n = n + 1\n",
    "    Z = random.normalvariate()\n",
    "\n",
    "    values.append(Z)\n",
    "    \n",
    "    prev = mean\n",
    "    mean = prev + (Z - prev) / n\n",
    "    variance = (n - 2) / (n - 1) * variance + n * (mean - prev)**2 \n",
    "\n",
    "    MSE = variance / n\n",
    "\n",
    "print(f'- Nsim = {n}\\nmean = {mean}\\nvariance = {variance}')"
   ]
  },
  {
   "cell_type": "code",
   "execution_count": 5,
   "metadata": {},
   "outputs": [],
   "source": [
    "# exercise 2"
   ]
  },
  {
   "cell_type": "code",
   "execution_count": 6,
   "metadata": {},
   "outputs": [],
   "source": [
    "fun_a = lambda x: math.exp(x) / math.sqrt(2 * x)\n",
    "\n",
    "aux_b = lambda x: x**2 * math.exp(-x**2)\n",
    "fun_b = lambda y: 2 * aux_b((1 - y) / y) / y**2"
   ]
  },
  {
   "cell_type": "code",
   "execution_count": 7,
   "metadata": {},
   "outputs": [
    {
     "name": "stdout",
     "output_type": "stream",
     "text": [
      "- Nsim = 42120\n",
      "I = 2.067024565424683\n",
      "S = 2.0522839920653744\n"
     ]
    }
   ],
   "source": [
    "random.seed(seed)\n",
    "\n",
    "fun = fun_a # fun_a, fun_b\n",
    "tol = 0.01\n",
    "\n",
    "###################################################################\n",
    "\n",
    "n = 1\n",
    "U = random.random()\n",
    "f = fun(U)\n",
    "\n",
    "mean = f\n",
    "variance = 0\n",
    "\n",
    "MSE = variance / n\n",
    "\n",
    "while (n < 100) or (math.sqrt(MSE) > tol):\n",
    "    \n",
    "    n = n + 1\n",
    "    U = random.random()\n",
    "    f = fun(U)\n",
    "    \n",
    "    prev = mean\n",
    "    mean = prev + (f - prev) / n\n",
    "    variance = (n - 2) / (n - 1) * variance + n * (mean - prev)**2\n",
    "\n",
    "    MSE = variance / n\n",
    "\n",
    "###################################################################\n",
    "\n",
    "print(f'- Nsim = {n}\\nI = {mean}\\nS = {math.sqrt(variance)}')"
   ]
  },
  {
   "cell_type": "code",
   "execution_count": 8,
   "metadata": {},
   "outputs": [
    {
     "name": "stdout",
     "output_type": "stream",
     "text": [
      "- Nsim = 42120\n",
      "I = 2.067024565424683\n",
      "S = 2.0522839920653744\n"
     ]
    }
   ],
   "source": [
    "def MonteCarlo_integration_v1(fun, tol):\n",
    "\n",
    "    n = 1\n",
    "    U = random.random()\n",
    "    f = fun(U)\n",
    "\n",
    "    mean = f\n",
    "    variance = 0\n",
    "\n",
    "    MSE = variance / n\n",
    "\n",
    "    while (n < 100) or (math.sqrt(MSE) > tol):\n",
    "\n",
    "        n = n + 1\n",
    "        U = random.random()\n",
    "        f = fun(U)\n",
    "        \n",
    "        prev = mean\n",
    "        mean = prev + (f - prev) / n\n",
    "        variance = (n - 2) / (n - 1) * variance + n * (mean - prev)**2\n",
    "\n",
    "        MSE = variance / n\n",
    "\n",
    "    return n, mean, variance\n",
    "\n",
    "# test\n",
    "\n",
    "random.seed(seed)\n",
    "\n",
    "n, mean, variance = MonteCarlo_integration_v1(fun_a, tol=0.01)\n",
    "print(f'- Nsim = {n}\\nI = {mean}\\nS = {math.sqrt(variance)}')"
   ]
  },
  {
   "cell_type": "code",
   "execution_count": 9,
   "metadata": {},
   "outputs": [],
   "source": [
    "# exercise 3"
   ]
  },
  {
   "cell_type": "code",
   "execution_count": 10,
   "metadata": {},
   "outputs": [],
   "source": [
    "aux_c = lambda x: math.sin(x) / x\n",
    "a = math.pi\n",
    "b = 2 * math.pi\n",
    "fun_c = lambda y: aux_c(a + (b - a) * y) * (b - a)\n",
    "\n",
    "aux_d = lambda x: 3 / (3 + x**4)\n",
    "fun_d = lambda y: aux_d((1 - y) / y) / y**2"
   ]
  },
  {
   "cell_type": "code",
   "execution_count": 11,
   "metadata": {},
   "outputs": [],
   "source": [
    "# CI(90%) ~> Z_(alpha/2) = 1.64\n",
    "# CI(95%) ~> Z_(alpha/2) = 1.96\n",
    "# CI(98%) ~> Z_(alpha/2) = 2.33\n",
    "# CI(98%) ~> Z_(alpha/2) = 2.58"
   ]
  },
  {
   "cell_type": "code",
   "execution_count": 12,
   "metadata": {},
   "outputs": [
    {
     "name": "stdout",
     "output_type": "stream",
     "text": [
      "- Nsim = 681318\n",
      "I = -0.4338076518672658\n",
      "S = 0.21056621047634985\n",
      "CI(95%) = (-0.4343076516564167, -0.43330765207811484)\n"
     ]
    }
   ],
   "source": [
    "random.seed(seed)\n",
    "\n",
    "fun = fun_c # fun_c, fun_d\n",
    "Z = 1.96    # Z := Z_(alpha/2) => P(|Z| <= 1.96) = 0.95\n",
    "L = 0.001   # 2 * Z_(alpha/2) * sigma / sqrt(n) <= L \n",
    "\n",
    "###################################################################\n",
    "\n",
    "tol = L / (2 * Z)\n",
    "\n",
    "n = 1\n",
    "U = random.random()\n",
    "f = fun(U)\n",
    "\n",
    "mean = f\n",
    "variance = 0\n",
    "\n",
    "MSE = variance / n\n",
    "\n",
    "while (n < 100) or (math.sqrt(MSE) > tol):\n",
    "    \n",
    "    n = n + 1\n",
    "    U = random.random()\n",
    "    f = fun(U)\n",
    "    \n",
    "    prev = mean\n",
    "    mean = prev + (f - prev) / n\n",
    "    variance = (n - 2) / (n - 1) * variance + n * (mean - prev)**2 \n",
    "\n",
    "    MSE = variance / n\n",
    "\n",
    "lower_limit = mean - Z * math.sqrt(variance / n)\n",
    "upper_limit = mean + Z * math.sqrt(variance / n)\n",
    "\n",
    "###################################################################\n",
    "\n",
    "print(f'- Nsim = {n}\\nI = {mean}\\nS = {math.sqrt(variance)}\\nCI(95%) = ({lower_limit}, {upper_limit})')"
   ]
  },
  {
   "cell_type": "code",
   "execution_count": 13,
   "metadata": {},
   "outputs": [
    {
     "name": "stdout",
     "output_type": "stream",
     "text": [
      "- Nsim = 681318\n",
      "I = -0.4338076518672658\n",
      "S = 0.21056621047634985\n",
      "CI(95%) = (-0.4343076516564167, -0.43330765207811484)\n"
     ]
    }
   ],
   "source": [
    "def MonteCarlo_integration_v2(fun, Z, L):\n",
    "    \n",
    "    tol = L / (2 * Z)\n",
    "\n",
    "    n = 1\n",
    "    U = random.random()\n",
    "    f = fun(U)\n",
    "\n",
    "    mean = f\n",
    "    variance = 0\n",
    "\n",
    "    MSE = variance / n\n",
    "\n",
    "    while (n < 100) or (math.sqrt(MSE) > tol):\n",
    "        \n",
    "        n = n + 1\n",
    "        U = random.random()\n",
    "        f = fun(U)\n",
    "        \n",
    "        prev = mean\n",
    "        mean = prev + (f - prev) / n\n",
    "        variance = (n - 2) / (n - 1) * variance + n * (mean - prev)**2 \n",
    "\n",
    "        MSE = variance / n\n",
    "\n",
    "    return n, mean, variance\n",
    "\n",
    "# test\n",
    "\n",
    "random.seed(seed)\n",
    "\n",
    "n, mean, variance = MonteCarlo_integration_v2(fun_c, Z=1.96, L=0.001)\n",
    "lower_limit = mean - Z * math.sqrt(variance / n)\n",
    "upper_limit = mean + Z * math.sqrt(variance / n)\n",
    "print(f'- Nsim = {n}\\nI = {mean}\\nS = {math.sqrt(variance)}\\nCI(95%) = ({lower_limit}, {upper_limit})')"
   ]
  },
  {
   "cell_type": "code",
   "execution_count": 14,
   "metadata": {},
   "outputs": [],
   "source": [
    "# exercise 4"
   ]
  },
  {
   "cell_type": "code",
   "execution_count": null,
   "metadata": {},
   "outputs": [],
   "source": []
  },
  {
   "cell_type": "code",
   "execution_count": 15,
   "metadata": {},
   "outputs": [],
   "source": [
    "# exercise 5"
   ]
  },
  {
   "cell_type": "code",
   "execution_count": null,
   "metadata": {},
   "outputs": [],
   "source": []
  },
  {
   "cell_type": "code",
   "execution_count": 16,
   "metadata": {},
   "outputs": [],
   "source": [
    "# exercise 6"
   ]
  },
  {
   "cell_type": "code",
   "execution_count": 17,
   "metadata": {},
   "outputs": [
    {
     "name": "stdout",
     "output_type": "stream",
     "text": [
      "- Nsim = 1683\n",
      "pi = 3.144385026737968\n"
     ]
    }
   ],
   "source": [
    "random.seed(seed)\n",
    "\n",
    "tol = 0.01\n",
    "\n",
    "####################################################\n",
    "\n",
    "n = 0\n",
    "p = 0\n",
    "\n",
    "while n < 100 or math.sqrt((p * (1 - p)) / n) > tol:\n",
    "    \n",
    "    n = n + 1\n",
    "\n",
    "    U = 2 * random.random() - 1\n",
    "    V = 2 * random.random() - 1\n",
    "\n",
    "    if U**2 + V**2 < 1:\n",
    "        X = 1\n",
    "    else:\n",
    "        X = 0\n",
    "\n",
    "    p = p + (X - p) / n\n",
    "    \n",
    "####################################################\n",
    "\n",
    "print(f'- Nsim = {n}\\npi = {4 * p}')"
   ]
  },
  {
   "cell_type": "code",
   "execution_count": 18,
   "metadata": {},
   "outputs": [
    {
     "name": "stdout",
     "output_type": "stream",
     "text": [
      "- Nsim = 25963\n",
      "pi = 3.138774409736924\n",
      "IC(95%) = (3.1187750013294018, 3.1587738181444465)\n"
     ]
    }
   ],
   "source": [
    "random.seed(seed)\n",
    "\n",
    "Z = 1.96    # Z_(alpha/2) => P(|Z| <= 1.96) = 0.95\n",
    "L = 0.01    # 2 * Z_(alpha/2) * sigma / sqrt(n) <= L\n",
    "\n",
    "####################################################\n",
    "\n",
    "tol = L / (2 * Z)\n",
    "\n",
    "n = 0\n",
    "p = 0\n",
    "\n",
    "while n < 100 or math.sqrt((p * (1 - p)) / n) > tol:\n",
    "    \n",
    "    n = n + 1\n",
    "\n",
    "    U = 2 * random.random() - 1\n",
    "    V = 2 * random.random() - 1\n",
    "\n",
    "    if U**2 + V**2 < 1:\n",
    "        X = 1\n",
    "    else:\n",
    "        X = 0\n",
    "\n",
    "    p = p + (X - p) / n\n",
    "\n",
    "lower_limit = p - Z * math.sqrt((p * (1 - p)) / n)\n",
    "upper_limit = p + Z * math.sqrt((p * (1 - p)) / n)\n",
    "    \n",
    "####################################################\n",
    "\n",
    "print(f'- Nsim = {n}\\npi = {4 * p}\\nIC(95%) = ({4 * lower_limit}, {4 * upper_limit})')"
   ]
  },
  {
   "cell_type": "markdown",
   "metadata": {},
   "source": [
    "### **Statistical Validation Techniques**"
   ]
  },
  {
   "cell_type": "code",
   "execution_count": 19,
   "metadata": {},
   "outputs": [],
   "source": [
    "# exercise 7"
   ]
  },
  {
   "cell_type": "code",
   "execution_count": 20,
   "metadata": {},
   "outputs": [
    {
     "name": "stdout",
     "output_type": "stream",
     "text": [
      "t_obs = 0.8617021276595745\n"
     ]
    }
   ],
   "source": [
    "# H0: Se verifica la teoría genética de Mendel\n",
    "# H1: NO se verifica la teoría genética de Mendel\n",
    "\n",
    "# Estadístico: T = sum_{i=1}^{k} (N_{i} - n * p_{i}) / (n * p_{i}) ~ Chi-Squared(k - 1)\n",
    "\n",
    "n_obs = 564\n",
    "p_vec = np.array([0.25, 0.50, 0.25])\n",
    "freq_obs = np.array([141, 291, 132])\n",
    "freq_exp = n_obs * p_vec\n",
    "\n",
    "k = len(freq_obs)\n",
    "t_obs = sum((freq_obs - freq_exp)**2 / freq_exp)\n",
    "\n",
    "print(f't_obs = {t_obs}')"
   ]
  },
  {
   "cell_type": "code",
   "execution_count": 21,
   "metadata": {},
   "outputs": [
    {
     "name": "stdout",
     "output_type": "stream",
     "text": [
      "-Pearson's Chi-Squared Test\n",
      "p-value = 0.6499557054800363\n"
     ]
    }
   ],
   "source": [
    "# Pearson's Chi-Squared Test\n",
    "\n",
    "p_value = scipy.stats.chi2.sf(t_obs, df=k-1)\n",
    "print(f'-Pearson\\'s Chi-Squared Test\\np-value = {p_value}')"
   ]
  },
  {
   "cell_type": "code",
   "execution_count": 22,
   "metadata": {},
   "outputs": [
    {
     "name": "stdout",
     "output_type": "stream",
     "text": [
      "- Simulation\n",
      "p-value = 0.64231\n"
     ]
    }
   ],
   "source": [
    "np.random.seed(seed)\n",
    "\n",
    "# Simulation\n",
    "\n",
    "Nsim = 100000\n",
    "\n",
    "p_value = 0\n",
    "for _ in range(Nsim):\n",
    "\n",
    "    freq_sim = np.zeros(k, dtype=int)\n",
    "\n",
    "    freq_sim[0] = scipy.stats.binom.rvs(n_obs, p_vec[0])\n",
    "    for i in range(1, k-1):\n",
    "        n = n_obs - sum(freq_sim[:i])\n",
    "        p = p_vec[i] / (1 - sum(p_vec[:i]))\n",
    "        freq_sim[i] = scipy.stats.binom.rvs(n, p)\n",
    "    freq_sim[-1] = n_obs - sum(freq_sim[:-1])\n",
    "\n",
    "    t_sim = sum((freq_sim - freq_exp)**2 / freq_exp)\n",
    "    if t_sim > t_obs:\n",
    "        p_value = p_value + 1\n",
    "\n",
    "p_value = p_value / Nsim\n",
    "print(f'- Simulation\\np-value = {p_value}')"
   ]
  },
  {
   "cell_type": "code",
   "execution_count": 23,
   "metadata": {},
   "outputs": [],
   "source": [
    "# exercise 8"
   ]
  },
  {
   "cell_type": "code",
   "execution_count": 24,
   "metadata": {},
   "outputs": [
    {
     "name": "stdout",
     "output_type": "stream",
     "text": [
      "t_obs = 2.18\n"
     ]
    }
   ],
   "source": [
    "# H0: El dado es honesto (D ~ U{1, 6})\n",
    "# H1: El dado NO es honesto\n",
    "\n",
    "n_obs = 1000\n",
    "p_vec = np.array([1 / 6] * 6)\n",
    "freq_obs = np.array([158, 172, 164, 181, 160, 165])\n",
    "freq_exp = n_obs * p_vec\n",
    "\n",
    "k = len(freq_obs)\n",
    "t_obs = sum((freq_obs - freq_exp)**2 / freq_exp)\n",
    "\n",
    "print(f't_obs = {t_obs}')"
   ]
  },
  {
   "cell_type": "code",
   "execution_count": 25,
   "metadata": {},
   "outputs": [
    {
     "name": "stdout",
     "output_type": "stream",
     "text": [
      "-Pearson's Chi-Squared Test\n",
      "p-value = 0.8237195392577814\n"
     ]
    }
   ],
   "source": [
    "# Pearson's Chi-Squared Test\n",
    "\n",
    "p_value = scipy.stats.chi2.sf(t_obs, df=k-1)\n",
    "print(f'-Pearson\\'s Chi-Squared Test\\np-value = {p_value}')"
   ]
  },
  {
   "cell_type": "code",
   "execution_count": 26,
   "metadata": {},
   "outputs": [
    {
     "name": "stdout",
     "output_type": "stream",
     "text": [
      "- Simulation\n",
      "p-value = 0.82249\n"
     ]
    }
   ],
   "source": [
    "np.random.seed(seed)\n",
    "\n",
    "# Simulation\n",
    "\n",
    "Nsim = 100000\n",
    "\n",
    "p_value = 0\n",
    "for _ in range(Nsim):\n",
    "\n",
    "    freq_sim = np.zeros(k, dtype=int)\n",
    "    \n",
    "    freq_sim[0] = scipy.stats.binom.rvs(n_obs, p_vec[0])\n",
    "    for i in range(1, k-1):\n",
    "        n = n_obs - sum(freq_sim[:i])\n",
    "        p = p_vec[i] / (1 - sum(p_vec[:i]))\n",
    "        freq_sim[i] = scipy.stats.binom.rvs(n, p)\n",
    "    freq_sim[-1] = n_obs - sum(freq_sim[:-1])\n",
    "\n",
    "    t_sim = sum((freq_sim - freq_exp)**2 / freq_exp)\n",
    "    if t_sim > t_obs:\n",
    "        p_value = p_value + 1\n",
    "\n",
    "p_value = p_value / Nsim\n",
    "print(f'- Simulation\\np-value = {p_value}')"
   ]
  },
  {
   "cell_type": "code",
   "execution_count": 27,
   "metadata": {},
   "outputs": [],
   "source": [
    "# exercise 9"
   ]
  },
  {
   "cell_type": "code",
   "execution_count": 28,
   "metadata": {},
   "outputs": [],
   "source": [
    "def Kolmogorov_Smirnov(data, F):\n",
    "    \n",
    "    n = len(data)\n",
    "    data_ = sorted(data.copy())\n",
    "\n",
    "    d = 0\n",
    "    for j in range(n):\n",
    "        d = max(d, (j + 1) / n - F(data_[j]), F(data_[j]) - j / n)\n",
    "\n",
    "    return d"
   ]
  },
  {
   "cell_type": "code",
   "execution_count": 29,
   "metadata": {},
   "outputs": [],
   "source": [
    "G = lambda x: x if (0 < x < 1) else 0"
   ]
  },
  {
   "cell_type": "code",
   "execution_count": 30,
   "metadata": {},
   "outputs": [
    {
     "data": {
      "text/plain": [
       "0.24"
      ]
     },
     "execution_count": 30,
     "metadata": {},
     "output_type": "execute_result"
    }
   ],
   "source": [
    "# H0: Los siguientes 10 números son aleatorios\n",
    "# H1: Los siguientes 10 números NO son aleatorios\n",
    "\n",
    "# D = sup |Fe(x) - F(x)|\n",
    "#   = max {max(j/n - F(X_(j))), max(F(X_(j)) - (j-1)/n)} , j = 1,...,n\n",
    "\n",
    "data = np.array([0.12, 0.18, 0.06, 0.33, 0.72, 0.83, 0.36, 0.27, 0.77, 0.74])\n",
    "\n",
    "n = len(data)\n",
    "d_obs = Kolmogorov_Smirnov(data, G)\n",
    "d_obs"
   ]
  },
  {
   "cell_type": "code",
   "execution_count": 31,
   "metadata": {},
   "outputs": [
    {
     "name": "stdout",
     "output_type": "stream",
     "text": [
      "p-value = 0.5325\n"
     ]
    }
   ],
   "source": [
    "np.random.seed(seed)\n",
    "\n",
    "# Simulation\n",
    "\n",
    "Nsim = 100000\n",
    "\n",
    "p_value = 0\n",
    "for _ in range(Nsim):\n",
    "\n",
    "    sample = np.random.random(n)\n",
    "    d_sim = Kolmogorov_Smirnov(sample, G)\n",
    "    if d_sim > d_obs:\n",
    "        p_value = p_value + 1\n",
    "\n",
    "p_value = p_value / Nsim\n",
    "print(f'p-value = {p_value}')"
   ]
  },
  {
   "cell_type": "code",
   "execution_count": 32,
   "metadata": {},
   "outputs": [],
   "source": [
    "# exercise 10"
   ]
  },
  {
   "cell_type": "code",
   "execution_count": 33,
   "metadata": {},
   "outputs": [
    {
     "data": {
      "text/plain": [
       "0.3922544552361856"
      ]
     },
     "execution_count": 33,
     "metadata": {},
     "output_type": "execute_result"
    }
   ],
   "source": [
    "# H0: Los siguientes 13 valores provienen de una distribución exponencial con media 50\n",
    "# H1: Los siguientes 13 valores NO provienen de una distribución exponencial\n",
    "\n",
    "F = lambda x: 1 - np.exp(- x / 50)\n",
    "data = np.array([86, 133, 75, 22, 11, 144, 78, 122, 8, 146, 33, 41, 99], dtype=float)\n",
    "\n",
    "n = len(data)\n",
    "d_obs = Kolmogorov_Smirnov(data, F)\n",
    "d_obs"
   ]
  },
  {
   "cell_type": "code",
   "execution_count": 34,
   "metadata": {},
   "outputs": [
    {
     "name": "stdout",
     "output_type": "stream",
     "text": [
      "p-value = 0.02573\n"
     ]
    }
   ],
   "source": [
    "np.random.seed(seed)\n",
    "\n",
    "# Simulation\n",
    "\n",
    "Nsim = 100000\n",
    "\n",
    "p_value = 0\n",
    "for _ in range(Nsim):\n",
    "\n",
    "    sample = np.random.random(n)\n",
    "    d_sim = Kolmogorov_Smirnov(sample, G)\n",
    "    if d_sim > d_obs:\n",
    "        p_value = p_value + 1\n",
    "\n",
    "p_value = p_value / Nsim\n",
    "print(f'p-value = {p_value}')"
   ]
  },
  {
   "cell_type": "code",
   "execution_count": 35,
   "metadata": {},
   "outputs": [],
   "source": [
    "# exercise 11"
   ]
  },
  {
   "cell_type": "code",
   "execution_count": 36,
   "metadata": {},
   "outputs": [
    {
     "name": "stdout",
     "output_type": "stream",
     "text": [
      "t_obs = 31.499330934155324\n"
     ]
    }
   ],
   "source": [
    "# H0: Los datos obtenidos provienen de una distribución binomial con parámetros (n = 8, p) con p desconocido\n",
    "# H1: Los datos obtenidos NO provienen de una distribución binomial \n",
    "\n",
    "data = np.array([6, 7, 3, 4, 7, 3, 7, 2, 6, 3, 7, 8, 2, 1, 3, 5, 8, 7])\n",
    "n = 8\n",
    "p = np.mean(data) / n\n",
    "\n",
    "n_obs = len(data)\n",
    "p_vec = np.array([scipy.stats.binom.pmf(i, n, p) for i in range(n + 1)])\n",
    "freq_obs = np.bincount(data)\n",
    "freq_exp = n_obs * p_vec\n",
    "\n",
    "k = len(freq_obs)\n",
    "m = 1\n",
    "t_obs = sum((freq_obs - freq_exp)**2 / freq_exp)\n",
    "\n",
    "print(f't_obs = {t_obs}')"
   ]
  },
  {
   "cell_type": "code",
   "execution_count": 37,
   "metadata": {},
   "outputs": [
    {
     "name": "stdout",
     "output_type": "stream",
     "text": [
      "-Pearson's Chi-Squared Test\n",
      "p-value = 5.027994320424078e-05\n"
     ]
    }
   ],
   "source": [
    "# Pearson's Chi-Squared Test\n",
    "\n",
    "p_value = scipy.stats.chi2.sf(t_obs, df=k-m-1)\n",
    "print(f'-Pearson\\'s Chi-Squared Test\\np-value = {p_value}')"
   ]
  },
  {
   "cell_type": "code",
   "execution_count": 38,
   "metadata": {},
   "outputs": [
    {
     "name": "stdout",
     "output_type": "stream",
     "text": [
      "- Simulation\n",
      "p-value = 0.0101\n"
     ]
    }
   ],
   "source": [
    "np.random.seed(seed)\n",
    "\n",
    "# Simulation\n",
    "\n",
    "Nsim = 10000\n",
    "\n",
    "p_value = 0\n",
    "for _ in range(Nsim):\n",
    "\n",
    "    sample = [scipy.stats.binom.rvs(n, p) for _ in range(n_obs)]\n",
    "    p_hat = np.mean(sample) / n\n",
    "\n",
    "    p_sim = np.array([scipy.stats.binom.pmf(i, n, p_hat) for i in range(n + 1)])\n",
    "    freq_sim = np.zeros(n + 1, dtype=int)\n",
    "    for i in sample:\n",
    "        freq_sim[i] = freq_sim[i] + 1       \n",
    "    freq_est = n_obs * p_sim\n",
    "\n",
    "    t_sim = sum((freq_sim - freq_est)**2 / freq_est)\n",
    "    if t_sim > t_obs:\n",
    "        p_value = p_value + 1\n",
    "\n",
    "p_value = p_value / Nsim\n",
    "print(f'- Simulation\\np-value = {p_value}')"
   ]
  },
  {
   "cell_type": "code",
   "execution_count": 39,
   "metadata": {},
   "outputs": [],
   "source": [
    "# exercise 12"
   ]
  },
  {
   "cell_type": "code",
   "execution_count": null,
   "metadata": {},
   "outputs": [],
   "source": []
  },
  {
   "cell_type": "code",
   "execution_count": 40,
   "metadata": {},
   "outputs": [],
   "source": [
    "# exercise 13"
   ]
  },
  {
   "cell_type": "code",
   "execution_count": null,
   "metadata": {},
   "outputs": [],
   "source": []
  },
  {
   "cell_type": "code",
   "execution_count": 41,
   "metadata": {},
   "outputs": [],
   "source": [
    "# exercise 14"
   ]
  },
  {
   "cell_type": "code",
   "execution_count": null,
   "metadata": {},
   "outputs": [],
   "source": []
  },
  {
   "cell_type": "code",
   "execution_count": 42,
   "metadata": {},
   "outputs": [],
   "source": [
    "# exercise 15"
   ]
  },
  {
   "cell_type": "code",
   "execution_count": 43,
   "metadata": {},
   "outputs": [
    {
     "name": "stdout",
     "output_type": "stream",
     "text": [
      "d_obs = 0.26949936321059237\n"
     ]
    }
   ],
   "source": [
    "# H0: Las observaciones provienen de una v.a con distribución exponencial de parametro lambda desconocido\n",
    "# H1: Las observaciones NO provienen de una v.a con distribución exponencial \n",
    "\n",
    "data = np.array([1.6, 10.3, 3.5, 13.5, 18.4, 7.7, 24.3, 10.7, 8.4, 4.9, 7.9, 12, 16.2, 6.8, 14.7])\n",
    "\n",
    "n_obs = len(data)\n",
    "l_hat = 1 / np.mean(data)\n",
    "F_hat = lambda x: 1 - np.exp(-l_hat*x)\n",
    "\n",
    "d_obs = Kolmogorov_Smirnov(data, F_hat)\n",
    "print(f'd_obs = {d_obs}')"
   ]
  },
  {
   "cell_type": "code",
   "execution_count": 44,
   "metadata": {},
   "outputs": [
    {
     "name": "stdout",
     "output_type": "stream",
     "text": [
      "p-value = 0.1871\n"
     ]
    }
   ],
   "source": [
    "np.random.seed(seed)\n",
    "\n",
    "# Simulation 1\n",
    "\n",
    "Nsim = 10000\n",
    "\n",
    "p_value = 0\n",
    "for _ in range(Nsim):\n",
    "\n",
    "    sample = np.random.random(n_obs)\n",
    "    d_sim = Kolmogorov_Smirnov(sample, G)\n",
    "    if d_sim > d_obs:\n",
    "        p_value = p_value + 1\n",
    "\n",
    "p_value = p_value / Nsim\n",
    "print(f'p-value = {p_value}')"
   ]
  },
  {
   "cell_type": "code",
   "execution_count": 45,
   "metadata": {},
   "outputs": [
    {
     "name": "stdout",
     "output_type": "stream",
     "text": [
      "p-value = 0.04821\n"
     ]
    }
   ],
   "source": [
    "np.random.seed(seed)\n",
    "\n",
    "# Simulation 2\n",
    "\n",
    "Nsim = 100000\n",
    "\n",
    "p_value = 0\n",
    "for _ in range(Nsim):\n",
    "\n",
    "    sample = [functions.Exp(l_hat) for _ in range(n_obs)]\n",
    "\n",
    "    l_sim = 1 / np.mean(sample)\n",
    "    F_sim = lambda x: 1 - np.exp(-l_sim*x) \n",
    "\n",
    "    d_sim = Kolmogorov_Smirnov(sample, F_sim)\n",
    "    if d_sim > d_obs:\n",
    "        p_value = p_value + 1\n",
    "\n",
    "p_value = p_value / Nsim\n",
    "print(f'p-value = {p_value}')"
   ]
  },
  {
   "cell_type": "code",
   "execution_count": 46,
   "metadata": {},
   "outputs": [],
   "source": [
    "# exercise 16"
   ]
  },
  {
   "cell_type": "code",
   "execution_count": null,
   "metadata": {},
   "outputs": [],
   "source": []
  }
 ],
 "metadata": {
  "kernelspec": {
   "display_name": "base",
   "language": "python",
   "name": "python3"
  },
  "language_info": {
   "codemirror_mode": {
    "name": "ipython",
    "version": 3
   },
   "file_extension": ".py",
   "mimetype": "text/x-python",
   "name": "python",
   "nbconvert_exporter": "python",
   "pygments_lexer": "ipython3",
   "version": "3.11.7"
  }
 },
 "nbformat": 4,
 "nbformat_minor": 2
}

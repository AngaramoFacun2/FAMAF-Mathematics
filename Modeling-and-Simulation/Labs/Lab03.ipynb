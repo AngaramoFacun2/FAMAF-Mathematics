{
 "cells": [
  {
   "cell_type": "code",
   "execution_count": 1,
   "metadata": {},
   "outputs": [],
   "source": [
    "import math\n",
    "import random\n",
    "\n",
    "import functions"
   ]
  },
  {
   "cell_type": "code",
   "execution_count": 2,
   "metadata": {},
   "outputs": [],
   "source": [
    "seed = 42"
   ]
  },
  {
   "cell_type": "markdown",
   "metadata": {},
   "source": [
    "### **Random Numbers - Monte Carlo Method**"
   ]
  },
  {
   "cell_type": "code",
   "execution_count": 3,
   "metadata": {},
   "outputs": [],
   "source": [
    "# exercise 1"
   ]
  },
  {
   "cell_type": "code",
   "execution_count": 4,
   "metadata": {},
   "outputs": [
    {
     "name": "stdout",
     "output_type": "stream",
     "text": [
      " - seed = 3792\n",
      "seq = [3792, 3792, 3792, 3792, 3792, 3792, 3792, 3792, 3792, 3792]\n",
      "\n",
      " - seed = 1004\n",
      "seq = [80, 64, 40, 16, 2, 0, 0, 0, 0, 0]\n",
      "\n",
      " - seed = 2100\n",
      "seq = [4100, 8100, 6100, 2100, 4100, 8100, 6100, 2100, 4100, 8100]\n",
      "\n",
      " - seed = 1234\n",
      "seq = [5227, 3215, 3362, 3030, 1809, 2724, 4201, 6484, 422, 1780]\n",
      "\n"
     ]
    }
   ],
   "source": [
    "# middle-square method\n",
    "for seed in [3792, 1004, 2100, 1234]:\n",
    "    print(f' - seed = {seed}')\n",
    "    seq = []\n",
    "    for _ in range(10):\n",
    "        seed = functions.middle_square(seed)\n",
    "        seq.append(seed)\n",
    "    print(f'seq = {seq}\\n')"
   ]
  },
  {
   "cell_type": "code",
   "execution_count": 5,
   "metadata": {},
   "outputs": [
    {
     "name": "stdout",
     "output_type": "stream",
     "text": [
      " - seed = 4\n",
      "seq = [24, 28, 16, 20, 8, 12, 0, 4, 24, 28]\n",
      "\n",
      " - seed = 50\n",
      "seq = [30, 26, 6, 2, 14, 10, 22, 18, 30, 26]\n",
      "\n"
     ]
    }
   ],
   "source": [
    "# linear congruential generator\n",
    "for seed in [4, 50]:\n",
    "    print(f' - seed = {seed}')\n",
    "    seq = []\n",
    "    for _ in range(10):\n",
    "        seed = functions.lcg(a=5, c=4, M=2**5, seed=seed)\n",
    "        seq.append(seed)\n",
    "    print(f'seq = {seq}\\n')"
   ]
  },
  {
   "cell_type": "code",
   "execution_count": 6,
   "metadata": {},
   "outputs": [],
   "source": [
    "# exercise 2"
   ]
  },
  {
   "cell_type": "code",
   "execution_count": 7,
   "metadata": {},
   "outputs": [
    {
     "name": "stdout",
     "output_type": "stream",
     "text": [
      "- N = 100\n",
      "Pr = 0.57\n",
      "\n",
      "- N = 1000\n",
      "Pr = 0.688\n",
      "\n",
      "- N = 10000\n",
      "Pr = 0.6672\n",
      "\n",
      "- N = 100000\n",
      "Pr = 0.66715\n",
      "\n",
      "- N = 1000000\n",
      "Pr = 0.666765\n",
      "\n"
     ]
    }
   ],
   "source": [
    "random.seed(seed)\n",
    "\n",
    "for N in [100, 1000, 10000, 100000, 1000000]:\n",
    "\n",
    "    win = 0\n",
    "\n",
    "    for _ in range(N):\n",
    "\n",
    "        U = random.random()\n",
    "\n",
    "        if U < 0.5:\n",
    "            W1, W2 = random.random(), random.random()\n",
    "            X = W1 + W2\n",
    "        else:\n",
    "            W1, W2, W3 = random.random(), random.random(), random.random()\n",
    "            X = W1 + W2 + W3\n",
    "        \n",
    "        if X >= 1:\n",
    "            win = win + 1\n",
    "\n",
    "    Pr = win / N\n",
    "    \n",
    "    print(f'- N = {N}\\nPr = {Pr}\\n')"
   ]
  },
  {
   "cell_type": "code",
   "execution_count": 8,
   "metadata": {},
   "outputs": [],
   "source": [
    "# exercise 3"
   ]
  },
  {
   "cell_type": "code",
   "execution_count": null,
   "metadata": {},
   "outputs": [],
   "source": []
  },
  {
   "cell_type": "code",
   "execution_count": 9,
   "metadata": {},
   "outputs": [],
   "source": [
    "# exercise 4"
   ]
  },
  {
   "cell_type": "code",
   "execution_count": 10,
   "metadata": {},
   "outputs": [],
   "source": [
    "N = 1000000"
   ]
  },
  {
   "cell_type": "code",
   "execution_count": 11,
   "metadata": {},
   "outputs": [
    {
     "name": "stdout",
     "output_type": "stream",
     "text": [
      "Pr(T < 4) = 0.650339\n"
     ]
    }
   ],
   "source": [
    "random.seed(seed)\n",
    "\n",
    "SUM_T = 0\n",
    "\n",
    "for _ in range(N):\n",
    "\n",
    "    U = random.random()\n",
    "\n",
    "    if U <= 0.4:\n",
    "        T = random.expovariate(lambd=1/3)\n",
    "    elif U <= 0.72:\n",
    "        T = random.expovariate(lambd=1/4)\n",
    "    else:\n",
    "        T = random.expovariate(lambd=1/5)\n",
    "\n",
    "    if T < 4:\n",
    "        SUM_T = SUM_T + 1\n",
    "\n",
    "Pr_T = SUM_T / N\n",
    "\n",
    "print(f'Pr(T < 4) = {Pr_T}')"
   ]
  },
  {
   "cell_type": "code",
   "execution_count": 12,
   "metadata": {},
   "outputs": [
    {
     "name": "stdout",
     "output_type": "stream",
     "text": [
      "- Supermarket Checkout 1\n",
      "P(SupermarketCheckout_1 | T > 4) = 0.30184893368148\n",
      "\n",
      "- Supermarket Checkout 2\n",
      "P(SupermarketCheckout_2 | T > 4) = 0.3372226241988669\n",
      "\n",
      "- Supermarket Checkout 3\n",
      "P(SupermarketCheckout_3 | T > 4) = 0.35950901015555065\n",
      "\n"
     ]
    }
   ],
   "source": [
    "random.seed(seed)\n",
    "\n",
    "supermarket = {\n",
    "    '1': [0.40, 3], \n",
    "    '2': [0.32, 4],\n",
    "    '3': [0.28, 5]\n",
    "}\n",
    "\n",
    "for key in supermarket.keys():\n",
    "\n",
    "    print(f'- Supermarket Checkout {key}')\n",
    "\n",
    "    SUM_X = 0\n",
    "\n",
    "    Pr_SC = supermarket[key][0]\n",
    "    lambd = 1 / supermarket[key][1]\n",
    "\n",
    "    for _ in range(N):\n",
    "\n",
    "        X = random.expovariate(lambd)\n",
    "\n",
    "        if X > 4:\n",
    "            SUM_X = SUM_X + 1\n",
    "\n",
    "    Pr_X = SUM_X / N\n",
    "    print(f'P(SupermarketCheckout_{key} | T > 4) = {Pr_SC * Pr_X / (1 - Pr_T)}\\n')"
   ]
  },
  {
   "cell_type": "code",
   "execution_count": 13,
   "metadata": {},
   "outputs": [],
   "source": [
    "# exercise 5"
   ]
  },
  {
   "cell_type": "code",
   "execution_count": 14,
   "metadata": {},
   "outputs": [
    {
     "name": "stdout",
     "output_type": "stream",
     "text": [
      "- N = 100\n",
      "I = 0.5909883281979662\n",
      "\n",
      "- N = 1000\n",
      "I = 0.5973811763411108\n",
      "\n",
      "- N = 10000\n",
      "I = 0.5889213340158216\n",
      "\n",
      "- N = 100000\n",
      "I = 0.5894959822935626\n",
      "\n",
      "- N = 1000000\n",
      "I = 0.5887673819635554\n",
      "\n"
     ]
    }
   ],
   "source": [
    "fun_a = lambda x: (1 - x**2)**(3/2)\n",
    "\n",
    "for N in [100, 1000, 10000, 100000, 1000000]:\n",
    "    I = functions.MonteCarlo_integration(fun_a, N, seed)\n",
    "    print(f'- N = {N}\\nI = {I}\\n')"
   ]
  },
  {
   "cell_type": "code",
   "execution_count": 15,
   "metadata": {},
   "outputs": [
    {
     "name": "stdout",
     "output_type": "stream",
     "text": [
      "- N = 100\n",
      "I = 0.4986325599439123\n",
      "\n",
      "- N = 1000\n",
      "I = 0.49345273184503485\n",
      "\n",
      "- N = 10000\n",
      "I = 0.4906489813372289\n",
      "\n",
      "- N = 100000\n",
      "I = 0.49047454663120255\n",
      "\n",
      "- N = 1000000\n",
      "I = 0.49035197596878083\n",
      "\n"
     ]
    }
   ],
   "source": [
    "fun_b = lambda x: x / (x**2 - 1)\n",
    "a = 2\n",
    "b = 3\n",
    "aux_b = lambda y: fun_b(a + (b - a) * y) * (b - a)\n",
    "\n",
    "for N in [100, 1000, 10000, 100000, 1000000]:\n",
    "    I = functions.MonteCarlo_integration(aux_b, N, seed)\n",
    "    print(f'- N = {N}\\nI = {I}\\n')"
   ]
  },
  {
   "cell_type": "code",
   "execution_count": 16,
   "metadata": {},
   "outputs": [
    {
     "name": "stdout",
     "output_type": "stream",
     "text": [
      "- N = 100\n",
      "I = 0.43590937951447606\n",
      "\n",
      "- N = 1000\n",
      "I = 0.4900947816364412\n",
      "\n",
      "- N = 10000\n",
      "I = 0.49685856786867016\n",
      "\n",
      "- N = 100000\n",
      "I = 0.5016109637249375\n",
      "\n",
      "- N = 1000000\n",
      "I = 0.5001028321930531\n",
      "\n"
     ]
    }
   ],
   "source": [
    "fun_c = lambda x: x * (1 + x**2)**(-2)\n",
    "aux_c = lambda y: fun_c((1 - y) / y) / y**2\n",
    "\n",
    "for N in [100, 1000, 10000, 100000, 1000000]:\n",
    "    I = functions.MonteCarlo_integration(aux_c, N, seed)\n",
    "    print(f'- N = {N}\\nI = {I}\\n')"
   ]
  },
  {
   "cell_type": "code",
   "execution_count": 17,
   "metadata": {},
   "outputs": [
    {
     "name": "stdout",
     "output_type": "stream",
     "text": [
      "- N = 100\n",
      "I = 1.7151668821747146\n",
      "\n",
      "- N = 1000\n",
      "I = 1.7263565423859275\n",
      "\n",
      "- N = 10000\n",
      "I = 1.7715437465398933\n",
      "\n",
      "- N = 100000\n",
      "I = 1.7786433851435623\n",
      "\n",
      "- N = 1000000\n",
      "I = 1.7740364684160068\n",
      "\n"
     ]
    }
   ],
   "source": [
    "fun_d = lambda x: math.exp(-x**2)\n",
    "aux_d = lambda y: fun_d((1 - y) / y) / y**2\n",
    "\n",
    "for N in [100, 1000, 10000, 100000, 1000000]:\n",
    "    I = 2 * functions.MonteCarlo_integration(aux_d, N, seed)\n",
    "    print(f'- N = {N}\\nI = {I}\\n')"
   ]
  },
  {
   "cell_type": "code",
   "execution_count": 18,
   "metadata": {},
   "outputs": [
    {
     "name": "stdout",
     "output_type": "stream",
     "text": [
      "- N = 100\n",
      "I = 4.943814487120138\n",
      "\n",
      "- N = 1000\n",
      "I = 4.698913328904464\n",
      "\n",
      "- N = 10000\n",
      "I = 4.875264680371235\n",
      "\n",
      "- N = 100000\n",
      "I = 4.883476025602864\n",
      "\n",
      "- N = 1000000\n",
      "I = 4.907809518676328\n",
      "\n"
     ]
    }
   ],
   "source": [
    "fun_e = lambda x1, x2: math.exp((x1 + x2)**2)\n",
    "\n",
    "for N in [100, 1000, 10000, 100000, 1000000]:\n",
    "    I = functions.MonteCarlo_double_integration(fun_e, N, seed)\n",
    "    print(f'- N = {N}\\nI = {I}\\n')"
   ]
  },
  {
   "cell_type": "code",
   "execution_count": 19,
   "metadata": {},
   "outputs": [
    {
     "name": "stdout",
     "output_type": "stream",
     "text": [
      "- N = 100\n",
      "I = 0.49941217863856613\n",
      "\n",
      "- N = 1000\n",
      "I = 0.5106401422627539\n",
      "\n",
      "- N = 10000\n",
      "I = 0.5034004609194893\n",
      "\n",
      "- N = 100000\n",
      "I = 0.497914604885332\n",
      "\n",
      "- N = 1000000\n",
      "I = 0.5001496743651787\n",
      "\n"
     ]
    }
   ],
   "source": [
    "fun_f = lambda x1, x2: math.exp(-(x1 + x2)) if x1 > x2 else 0\n",
    "aux_f = lambda y1, y2: fun_f((1 - y1) / y1, (1 - y2) / y2) / (y1 * y2)**2\n",
    "\n",
    "for N in [100, 1000, 10000, 100000, 1000000]:\n",
    "    I = functions.MonteCarlo_double_integration(aux_f, N, seed)\n",
    "    print(f'- N = {N}\\nI = {I}\\n')"
   ]
  },
  {
   "cell_type": "code",
   "execution_count": 20,
   "metadata": {},
   "outputs": [],
   "source": [
    "# exercise 6"
   ]
  },
  {
   "cell_type": "code",
   "execution_count": 21,
   "metadata": {},
   "outputs": [
    {
     "name": "stdout",
     "output_type": "stream",
     "text": [
      "- N = 100\n",
      "pi = 2.8\n",
      "\n",
      "- N = 1000\n",
      "pi = 3.244\n",
      "\n",
      "- N = 10000\n",
      "pi = 3.1304\n",
      "\n",
      "- N = 100000\n",
      "pi = 3.14276\n",
      "\n",
      "- N = 1000000\n",
      "pi = 3.142124\n",
      "\n"
     ]
    }
   ],
   "source": [
    "random.seed(seed)\n",
    "\n",
    "for N in [100, 1000, 10000, 100000, 1000000]:\n",
    "    IN = 0\n",
    "    for _ in range(N):\n",
    "        U = 2 * random.random() - 1\n",
    "        V = 2 * random.random() - 1\n",
    "        if (U**2 + V**2) <= 1:\n",
    "            IN = IN + 1\n",
    "    pi = 4 * IN / N\n",
    "    print(f'- N = {N}\\npi = {pi}\\n')"
   ]
  },
  {
   "cell_type": "code",
   "execution_count": 22,
   "metadata": {},
   "outputs": [],
   "source": [
    "# exercise 7"
   ]
  },
  {
   "cell_type": "code",
   "execution_count": null,
   "metadata": {},
   "outputs": [],
   "source": []
  },
  {
   "cell_type": "code",
   "execution_count": 23,
   "metadata": {},
   "outputs": [],
   "source": [
    "# exercise 8"
   ]
  },
  {
   "cell_type": "code",
   "execution_count": 24,
   "metadata": {},
   "outputs": [
    {
     "name": "stdout",
     "output_type": "stream",
     "text": [
      "- Nsim = 1000\n",
      "E = 2.948\n",
      "\n",
      "- Nsim = 10000\n",
      "E = 2.9993\n",
      "\n",
      "- Nsim = 100000\n",
      "E = 2.99767\n",
      "\n",
      "- Nsim = 1000000\n",
      "E = 2.999644\n",
      "\n"
     ]
    }
   ],
   "source": [
    "random.seed(seed)\n",
    "\n",
    "for Nsim in [1000, 10000, 100000, 1000000]:\n",
    "\n",
    "    SUM = 0\n",
    "\n",
    "    for _ in range(Nsim):\n",
    "\n",
    "        MUL = 1\n",
    "        N = 0\n",
    "        U = random.random()\n",
    "        while MUL * U >= math.exp(-3):\n",
    "            MUL = MUL * U\n",
    "            N = N + 1\n",
    "            U = random.random()\n",
    "\n",
    "        SUM = SUM + N\n",
    "    \n",
    "    E = SUM / Nsim\n",
    "\n",
    "    print(f'- Nsim = {Nsim}\\nE = {E}\\n')"
   ]
  },
  {
   "cell_type": "code",
   "execution_count": 25,
   "metadata": {},
   "outputs": [
    {
     "name": "stdout",
     "output_type": "stream",
     "text": [
      "Pr(N = 0) = 0.049856\n",
      "Pr(N = 1) = 0.149482\n",
      "Pr(N = 2) = 0.223708\n",
      "Pr(N = 3) = 0.224096\n",
      "Pr(N = 4) = 0.167992\n",
      "Pr(N = 5) = 0.10085\n",
      "Pr(N = 6) = 0.05047\n"
     ]
    }
   ],
   "source": [
    "random.seed(seed)\n",
    "\n",
    "Nsim = 1000000\n",
    "\n",
    "SUM = [0, 0, 0, 0, 0, 0, 0]\n",
    "\n",
    "for _ in range(Nsim):\n",
    "\n",
    "    MUL = 1\n",
    "    N = 0\n",
    "    U = random.random()\n",
    "    while MUL * U >= math.exp(-3):\n",
    "        MUL = MUL * U\n",
    "        N = N + 1\n",
    "        U = random.random()\n",
    "    \n",
    "    if (0 <= N <= 6):\n",
    "        SUM[N] = SUM[N] + 1\n",
    "\n",
    "Pr = [0, 0, 0, 0, 0, 0, 0]\n",
    "for i in [0, 1, 2, 3, 4, 5, 6]:\n",
    "    Pr[i] = SUM[i] / Nsim\n",
    "    print(f'Pr(N = {i}) = {Pr[i]}')"
   ]
  },
  {
   "cell_type": "code",
   "execution_count": 26,
   "metadata": {},
   "outputs": [],
   "source": [
    "# exercise 9"
   ]
  },
  {
   "cell_type": "code",
   "execution_count": 27,
   "metadata": {},
   "outputs": [
    {
     "name": "stdout",
     "output_type": "stream",
     "text": [
      "- N = 100\n",
      "Pr = 0.48\n",
      "\n",
      "- N = 1000\n",
      "Pr = 0.576\n",
      "\n",
      "- N = 10000\n",
      "Pr = 0.5542\n",
      "\n",
      "- N = 100000\n",
      "Pr = 0.55321\n",
      "\n",
      "- N = 1000000\n",
      "Pr = 0.556062\n",
      "\n"
     ]
    }
   ],
   "source": [
    "random.seed(seed)\n",
    "\n",
    "for N in [100, 1000, 10000, 100000, 1000000]:\n",
    "\n",
    "    win = 0\n",
    "\n",
    "    for _ in range(N):\n",
    "\n",
    "        U = random.randint(1, 6)\n",
    "\n",
    "        if (U == 1) or (U == 6):\n",
    "            V = random.randint(1, 6)\n",
    "            X = 2 * V\n",
    "        else:\n",
    "            V, W = random.randint(1, 6), random.randint(1, 6)\n",
    "            X = V + W\n",
    "        \n",
    "        if X > 6:\n",
    "            win = win + 1\n",
    "            \n",
    "    Pr = win / N\n",
    "    \n",
    "    print(f'- N = {N}\\nPr = {Pr}\\n')"
   ]
  },
  {
   "cell_type": "code",
   "execution_count": null,
   "metadata": {},
   "outputs": [],
   "source": []
  }
 ],
 "metadata": {
  "kernelspec": {
   "display_name": "base",
   "language": "python",
   "name": "python3"
  },
  "language_info": {
   "codemirror_mode": {
    "name": "ipython",
    "version": 3
   },
   "file_extension": ".py",
   "mimetype": "text/x-python",
   "name": "python",
   "nbconvert_exporter": "python",
   "pygments_lexer": "ipython3",
   "version": "3.11.7"
  }
 },
 "nbformat": 4,
 "nbformat_minor": 2
}

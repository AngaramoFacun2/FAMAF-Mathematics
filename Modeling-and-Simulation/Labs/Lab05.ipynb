{
 "cells": [
  {
   "cell_type": "code",
   "execution_count": 1,
   "metadata": {},
   "outputs": [],
   "source": [
    "import math\n",
    "import random\n",
    "\n",
    "import functions"
   ]
  },
  {
   "cell_type": "code",
   "execution_count": 2,
   "metadata": {},
   "outputs": [],
   "source": [
    "seed = 42"
   ]
  },
  {
   "cell_type": "markdown",
   "metadata": {},
   "source": [
    "### **Generating Continuous Random Variables**"
   ]
  },
  {
   "cell_type": "code",
   "execution_count": 3,
   "metadata": {},
   "outputs": [],
   "source": [
    "# exercise 1"
   ]
  },
  {
   "cell_type": "code",
   "execution_count": 4,
   "metadata": {},
   "outputs": [],
   "source": [
    "def generateX1():\n",
    "    \n",
    "    U = random.random()\n",
    "\n",
    "    if U < 0.25:\n",
    "        X = 2 * (math.sqrt(U) + 1)\n",
    "    else:\n",
    "        X = 6 * (1 - math.sqrt((1 - U) / 3))\n",
    "\n",
    "    return X\n",
    "\n",
    "\n",
    "def generateX2():\n",
    "    \n",
    "    U = random.random()\n",
    "\n",
    "    if U < 0.6:\n",
    "        X = math.sqrt((35 / 3) * U + 9) - 3\n",
    "    else:\n",
    "        X = ((35 * U - 19) / 2)**(1 / 3)\n",
    "    \n",
    "    return X\n",
    "\n",
    "\n",
    "def generateX3():\n",
    "    \n",
    "    U = random.random()\n",
    "\n",
    "    if U < 0.0625:\n",
    "        X = math.log(16 * U) / 4\n",
    "    else:\n",
    "        X = 4 * U - 1 / 4\n",
    "\n",
    "    return X "
   ]
  },
  {
   "cell_type": "code",
   "execution_count": 5,
   "metadata": {},
   "outputs": [
    {
     "name": "stdout",
     "output_type": "stream",
     "text": [
      "E[X] = 3.6674212890584137\n"
     ]
    }
   ],
   "source": [
    "random.seed(seed)\n",
    "\n",
    "# test\n",
    "\n",
    "# E[X1] = 11/3    ≈ 3.6667\n",
    "# E[X2] = 67/70   ≈ 0.9571\n",
    "# E[X3] = 223/128 ≈ 1.7422\n",
    "\n",
    "generateX = generateX1 # generateX1, generateX2, generateX3\n",
    "\n",
    "Nsim = 100000\n",
    "SUM = 0\n",
    "for _ in range(Nsim):\n",
    "    SUM = SUM + generateX()\n",
    "E = SUM / Nsim\n",
    "print(f'E[X] = {E}')"
   ]
  },
  {
   "cell_type": "code",
   "execution_count": 6,
   "metadata": {},
   "outputs": [],
   "source": [
    "# exercise 2"
   ]
  },
  {
   "cell_type": "code",
   "execution_count": 7,
   "metadata": {},
   "outputs": [],
   "source": [
    "def Pareto(alpha):\n",
    "    \n",
    "    U = random.random()\n",
    "    X = (1 - U)**(-1/alpha)\n",
    "\n",
    "    return X\n",
    "\n",
    "\n",
    "def Erlang(k, mu):\n",
    "    \n",
    "    X = functions.Gamma(k, lambd=1/mu)\n",
    "    return X\n",
    "\n",
    "\n",
    "def Weibull(lambd, beta):\n",
    "    \n",
    "    U = random.random()\n",
    "    X = lambd * (-math.log(1 - U))**(1/beta)\n",
    "\n",
    "    return X"
   ]
  },
  {
   "cell_type": "code",
   "execution_count": 8,
   "metadata": {},
   "outputs": [
    {
     "name": "stdout",
     "output_type": "stream",
     "text": [
      "- Pareto Distribution\n",
      "E[X] = 1.166965697386403\n",
      "V[X] = 0.0390385690477153\n",
      "\n",
      "- Erlang Distribution\n",
      "E[X] = 10.012484310767041\n",
      "V[X] = 19.997252995594977\n",
      "\n",
      "- Weibull Distribution\n",
      "E[X] = 2.751336676855296\n",
      "V[X] = 0.3968786130127393\n",
      "\n"
     ]
    }
   ],
   "source": [
    "random.seed(seed)\n",
    "\n",
    "# test\n",
    "\n",
    "Nsim = 100000\n",
    "\n",
    "# Pareto\n",
    "\n",
    "alpha = 7\n",
    "\n",
    "E_pareto = 0\n",
    "V_pareto = 0\n",
    "for _ in range(Nsim):\n",
    "    X = Pareto(alpha)\n",
    "    E_pareto = E_pareto + X\n",
    "    V_pareto = V_pareto + X**2\n",
    "E_pareto = E_pareto / Nsim\n",
    "V_pareto = V_pareto / Nsim - E_pareto**2\n",
    "\n",
    "print(f'- Pareto Distribution\\nE[X] = {E_pareto}\\nV[X] = {V_pareto}\\n')\n",
    "\n",
    "# Erlang\n",
    "\n",
    "mu = 2\n",
    "k = 5\n",
    "\n",
    "E_erlang = 0\n",
    "V_erlang = 0\n",
    "for _ in range(Nsim):\n",
    "    X = Erlang(k, mu)\n",
    "    E_erlang = E_erlang + X\n",
    "    V_erlang = V_erlang + X**2\n",
    "E_erlang = E_erlang / Nsim\n",
    "V_erlang = V_erlang / Nsim - E_erlang**2\n",
    "\n",
    "print(f'- Erlang Distribution\\nE[X] = {E_erlang}\\nV[X] = {V_erlang}\\n')\n",
    "\n",
    "# Weibull\n",
    "\n",
    "lambd = 3\n",
    "beta = 5\n",
    "\n",
    "E_weibull = 0\n",
    "V_weibull = 0\n",
    "for _ in range(Nsim):\n",
    "    X = Weibull(lambd, beta)\n",
    "    E_weibull = E_weibull + X\n",
    "    V_weibull = V_weibull + X**2\n",
    "E_weibull = E_weibull / Nsim\n",
    "V_weibull = V_weibull / Nsim - E_weibull**2\n",
    "\n",
    "print(f'- Weibull Distribution\\nE[X] = {E_weibull}\\nV[X] = {V_weibull}\\n')"
   ]
  },
  {
   "cell_type": "code",
   "execution_count": 9,
   "metadata": {},
   "outputs": [],
   "source": [
    "# exercise 3"
   ]
  },
  {
   "cell_type": "code",
   "execution_count": 10,
   "metadata": {},
   "outputs": [],
   "source": [
    "def generateX_Composition():\n",
    "\n",
    "    U = random.random()\n",
    "\n",
    "    if U < 0.5:\n",
    "        X = functions.Exp(3)\n",
    "    elif U < 0.8:\n",
    "        X = functions.Exp(5)\n",
    "    else:\n",
    "        X = functions.Exp(7)\n",
    "\n",
    "    return X"
   ]
  },
  {
   "cell_type": "code",
   "execution_count": 11,
   "metadata": {},
   "outputs": [
    {
     "name": "stdout",
     "output_type": "stream",
     "text": [
      "E[X] = 0.2567822658633229\n"
     ]
    }
   ],
   "source": [
    "random.seed(seed)\n",
    "\n",
    "# test\n",
    "\n",
    "Nsim = 100000\n",
    "\n",
    "SUM = 0\n",
    "for _ in range(Nsim):\n",
    "    X = generateX_Composition()\n",
    "    SUM = SUM + X\n",
    "E = SUM / Nsim\n",
    "print(f'E[X] = {E}') # E[X] = 0.5*(1/3) + 0.3*(1/5) + 0.2*(1/7) = 134/525 ≈ 0.2552"
   ]
  },
  {
   "cell_type": "code",
   "execution_count": 12,
   "metadata": {},
   "outputs": [],
   "source": [
    "# exercise 4"
   ]
  },
  {
   "cell_type": "code",
   "execution_count": 13,
   "metadata": {},
   "outputs": [],
   "source": [
    "def generateX():\n",
    "\n",
    "    U = random.random()\n",
    "    Y = functions.Exp(lambd=1)\n",
    "    X = U**(1/Y)\n",
    "\n",
    "    return X"
   ]
  },
  {
   "cell_type": "code",
   "execution_count": 14,
   "metadata": {},
   "outputs": [],
   "source": [
    "# exercise 5"
   ]
  },
  {
   "cell_type": "code",
   "execution_count": 15,
   "metadata": {},
   "outputs": [
    {
     "name": "stdout",
     "output_type": "stream",
     "text": [
      "M = [2.4950306343115587, 1.1426549099605734, 2.1430838876755987, 0.8378066894923755, 0.7106566355109266, 0.5596308106762552, 0.5427376137562917, 0.644194135330114, 1.9532886135362577, 2.9204752613926392]\n",
      "m = [0.05217056992034956, 0.0986551207492592, 0.12762100504281837, 0.17153359104712942, 0.21740124790870205, 0.07824923701122817, 0.045697833828154975, 0.0010865879218421362, 0.05570116260045826, 0.14312448312350326]\n"
     ]
    }
   ],
   "source": [
    "# M = max{X1, ..., Xn} => F_M(x) = F_X1(x) ... F_Xn(x)\n",
    "# m = min{X1, ..., Xn} => F_m(x) = 1 - (1 - F_X1(x)) ... (1 - F_Xn(x))\n",
    "\n",
    "M = []\n",
    "m = []\n",
    "\n",
    "for _ in range(10):\n",
    "\n",
    "    X1 = functions.Exp(1)\n",
    "    X2 = functions.Exp(2)\n",
    "    X3 = functions.Exp(3)\n",
    "\n",
    "    M.append(max(X1, X2, X3))\n",
    "    m.append(min(X1, X2, X3))\n",
    "\n",
    "print(f'M = {M}\\nm = {m}')"
   ]
  },
  {
   "cell_type": "code",
   "execution_count": 16,
   "metadata": {},
   "outputs": [],
   "source": [
    "# exercise 6"
   ]
  },
  {
   "cell_type": "code",
   "execution_count": 17,
   "metadata": {},
   "outputs": [],
   "source": [
    "def generateX_invTransform(n:int):\n",
    "    \n",
    "    U = random.random()\n",
    "    X = U**(1/n)\n",
    "    \n",
    "    return X\n",
    "    \n",
    "\n",
    "def generateX_Rejection(n:int):\n",
    "    \n",
    "    U = random.random()\n",
    "    Y = random.random()\n",
    "    while U >= Y**(n-1):\n",
    "        U = random.random()\n",
    "        Y = random.random()\n",
    "    return Y\n",
    "\n",
    "def generateX_MAX(n:int):\n",
    "\n",
    "    MAX = 0\n",
    "    for _ in range(n):\n",
    "        MAX = max(MAX, random.random())\n",
    "    return MAX"
   ]
  },
  {
   "cell_type": "code",
   "execution_count": 18,
   "metadata": {},
   "outputs": [
    {
     "name": "stdout",
     "output_type": "stream",
     "text": [
      "E[X] = 0.7499849004941358\n"
     ]
    }
   ],
   "source": [
    "random.seed(seed)\n",
    "\n",
    "# test\n",
    "\n",
    "# E[X] = n/(n+1) for n = 1, 2, ...\n",
    "\n",
    "# generateX_invTransform\n",
    "# generateX_Rejection\n",
    "# generateX_MAX\n",
    "generateX = generateX_invTransform\n",
    "\n",
    "Nsim = 100000\n",
    "\n",
    "SUM = 0\n",
    "for _ in range(Nsim):\n",
    "    SUM = SUM + generateX(n=3)\n",
    "E = SUM / Nsim\n",
    "print(f'E[X] = {E}')"
   ]
  },
  {
   "cell_type": "code",
   "execution_count": 19,
   "metadata": {},
   "outputs": [],
   "source": [
    "# exercise 7"
   ]
  },
  {
   "cell_type": "code",
   "execution_count": 20,
   "metadata": {},
   "outputs": [],
   "source": [
    "def generateX_invTransform():\n",
    "    \n",
    "    U = random.random()\n",
    "    X = math.exp(U)\n",
    "    \n",
    "    return X\n",
    "    \n",
    "\n",
    "def generateX_Rejection():\n",
    "    \n",
    "    U = random.random()\n",
    "    Y = (math.e - 1) * random.random() + 1\n",
    "    while U >= 1 / Y:\n",
    "        U = random.random()\n",
    "        Y = (math.e - 1) * random.random() + 1\n",
    "    return Y"
   ]
  },
  {
   "cell_type": "code",
   "execution_count": 21,
   "metadata": {},
   "outputs": [
    {
     "name": "stdout",
     "output_type": "stream",
     "text": [
      "E[X] = 1.7186924683474711\n"
     ]
    }
   ],
   "source": [
    "random.seed(seed)\n",
    "\n",
    "# E[X] = e-1 ≈ 1.7183 \n",
    "\n",
    "# generateX_invTransform\n",
    "# generateX_Rejection\n",
    "generateX = generateX_invTransform\n",
    "\n",
    "Nsim = 100000\n",
    "\n",
    "SUM = 0\n",
    "for _ in range(Nsim):\n",
    "    SUM = SUM + generateX()\n",
    "E = SUM / Nsim\n",
    "print(f'E[X] = {E}')"
   ]
  },
  {
   "cell_type": "code",
   "execution_count": 22,
   "metadata": {},
   "outputs": [
    {
     "name": "stdout",
     "output_type": "stream",
     "text": [
      "Pr(X < 2) = 0.69279\n"
     ]
    }
   ],
   "source": [
    "random.seed(seed)\n",
    "\n",
    "# Pr(X < 2) = ln(2) ≈ 0.6931 \n",
    "\n",
    "# generateX_invTransform\n",
    "# generateX_Rejection\n",
    "generateX = generateX_invTransform\n",
    "\n",
    "Nsim = 100000\n",
    "\n",
    "SUM = 0\n",
    "for _ in range(Nsim):\n",
    "    X = generateX()\n",
    "    if X < 2:\n",
    "        SUM = SUM + 1\n",
    "Pr = SUM / Nsim\n",
    "print(f'Pr(X < 2) = {Pr}')"
   ]
  },
  {
   "cell_type": "code",
   "execution_count": 23,
   "metadata": {},
   "outputs": [],
   "source": [
    "# exercise 8"
   ]
  },
  {
   "cell_type": "code",
   "execution_count": 24,
   "metadata": {},
   "outputs": [],
   "source": [
    "def generateX_SUM():\n",
    "\n",
    "    U = random.random()\n",
    "    V = random.random()\n",
    "    X = U + V\n",
    "\n",
    "    return X\n",
    "\n",
    "\n",
    "def generateX_invTransform():\n",
    "\n",
    "    U = random.random()\n",
    "\n",
    "    if U < 0.5:\n",
    "        X = math.sqrt(2 * U)\n",
    "    else:\n",
    "        X = 2 - math.sqrt(2 * (1 - U))\n",
    "    \n",
    "    return X\n",
    "\n",
    "\n",
    "def generateX_Rejection():\n",
    "\n",
    "    fx = lambda x: x if x <= 1 else 2 - x\n",
    "\n",
    "    U = random.random()\n",
    "    Y = 2 * random.random() \n",
    "    while U >= fx(Y):\n",
    "        U = random.random()\n",
    "        Y = 2 * random.random() \n",
    "    \n",
    "    return Y"
   ]
  },
  {
   "cell_type": "code",
   "execution_count": 25,
   "metadata": {},
   "outputs": [
    {
     "name": "stdout",
     "output_type": "stream",
     "text": [
      "E[X] = 1.001440744369603\n"
     ]
    }
   ],
   "source": [
    "random.seed(seed)\n",
    "\n",
    "# E[X] = E[U + V] = E[U] + E[V] = 1/2 + 1/2 = 1 \n",
    "\n",
    "# generateX_SUM\n",
    "# generateX_invTransform\n",
    "# generateX_Rejection\n",
    "generateX = generateX_Rejection\n",
    "\n",
    "Nsim = 100000\n",
    "\n",
    "SUM = 0\n",
    "for _ in range(Nsim):\n",
    "    SUM = SUM + generateX()\n",
    "E = SUM / Nsim\n",
    "print(f'E[X] = {E}')"
   ]
  },
  {
   "cell_type": "code",
   "execution_count": 26,
   "metadata": {},
   "outputs": [
    {
     "name": "stdout",
     "output_type": "stream",
     "text": [
      "Pr(X > x0) = 0.12536\n"
     ]
    }
   ],
   "source": [
    "random.seed(seed)\n",
    "\n",
    "# P(X > x0) = 0.125 <=> x0 = 1.5\n",
    "\n",
    "# generateX_SUM\n",
    "# generateX_invTransform\n",
    "# generateX_Rejection\n",
    "generateX = generateX_invTransform\n",
    "\n",
    "Nsim = 100000\n",
    "\n",
    "SUM = 0\n",
    "for _ in range(Nsim):\n",
    "    X = generateX()\n",
    "    if X > 1.5:\n",
    "        SUM = SUM + 1\n",
    "Pr = SUM / Nsim\n",
    "print(f'Pr(X > x0) = {Pr}')\n"
   ]
  },
  {
   "cell_type": "code",
   "execution_count": 27,
   "metadata": {},
   "outputs": [],
   "source": [
    "# exercise 9"
   ]
  },
  {
   "cell_type": "code",
   "execution_count": 28,
   "metadata": {},
   "outputs": [],
   "source": [
    "def Normal_with_Exp():\n",
    "    \n",
    "    U = random.random()\n",
    "    Y = functions.Exp(lambd=1)\n",
    "    while U >= math.exp(- (Y-1)**2 / 2):\n",
    "        U = random.random()\n",
    "        Y = functions.Exp(lambd=1)\n",
    "\n",
    "    if random.random() < 0.5:\n",
    "        Z = Y\n",
    "    else:\n",
    "        Z = -Y\n",
    "\n",
    "    return Z \n",
    "\n",
    "\n",
    "def Normal_Polar():\n",
    "    \n",
    "    r = math.sqrt(functions.Exp(1/2))\n",
    "    theta = 2 * math.pi * random.random()\n",
    "\n",
    "    Z1 = r * math.cos(theta)\n",
    "    Z2 = r * math.sin(theta)\n",
    "\n",
    "    return Z1, Z2"
   ]
  },
  {
   "cell_type": "code",
   "execution_count": 29,
   "metadata": {},
   "outputs": [
    {
     "name": "stdout",
     "output_type": "stream",
     "text": [
      "E[Z] = 0.00237902735690805\n",
      "V[Z] = 1.0002470969376387\n"
     ]
    }
   ],
   "source": [
    "random.seed(seed)\n",
    "\n",
    "# Z ~ N(0,1)\n",
    "\n",
    "# Normal_with_Exp\n",
    "# Normal_Polar\n",
    "generateZ = Normal_with_Exp\n",
    "\n",
    "Nsim = 100000\n",
    "\n",
    "E = 0\n",
    "V = 0\n",
    "for _ in range(Nsim):\n",
    "    Z = generateZ() # Z | Z, _\n",
    "    E = E + Z       \n",
    "    V = V + Z**2   \n",
    "E = E / Nsim\n",
    "V = V / Nsim - E**2\n",
    "\n",
    "\n",
    "print(f'E[Z] = {E}\\nV[Z] = {V}')"
   ]
  },
  {
   "cell_type": "code",
   "execution_count": 30,
   "metadata": {},
   "outputs": [],
   "source": [
    "# exercise 11"
   ]
  },
  {
   "cell_type": "code",
   "execution_count": null,
   "metadata": {},
   "outputs": [],
   "source": []
  },
  {
   "cell_type": "code",
   "execution_count": 31,
   "metadata": {},
   "outputs": [],
   "source": [
    "# exercise 12"
   ]
  },
  {
   "cell_type": "code",
   "execution_count": null,
   "metadata": {},
   "outputs": [],
   "source": []
  },
  {
   "cell_type": "code",
   "execution_count": 32,
   "metadata": {},
   "outputs": [],
   "source": [
    "# exercise 13"
   ]
  },
  {
   "cell_type": "code",
   "execution_count": 33,
   "metadata": {},
   "outputs": [],
   "source": [
    "def PoissonProcess(lambd, T):\n",
    "\n",
    "    N = 0\n",
    "    seq = []\n",
    "\n",
    "    t = functions.Exp(lambd)\n",
    "    while t <= T:\n",
    "\n",
    "        N = N + 1\n",
    "        seq.append(t)\n",
    "\n",
    "        t = t + functions.Exp(lambd)\n",
    "    \n",
    "    return N, seq"
   ]
  },
  {
   "cell_type": "code",
   "execution_count": 34,
   "metadata": {},
   "outputs": [
    {
     "name": "stdout",
     "output_type": "stream",
     "text": [
      "E[N(3)] = 20.99928\n"
     ]
    }
   ],
   "source": [
    "random.seed(seed)\n",
    "\n",
    "# test\n",
    "\n",
    "lambd = 7\n",
    "T = 3\n",
    "\n",
    "# E[N(T)] = lambd * T\n",
    "\n",
    "Nsim = 100000\n",
    "SUM = 0\n",
    "for _ in range(Nsim):\n",
    "    N, _ = PoissonProcess(lambd, T)\n",
    "    SUM = SUM + N\n",
    "E = SUM / Nsim\n",
    "print(f'E[N({T})] = {E}')"
   ]
  },
  {
   "cell_type": "code",
   "execution_count": 35,
   "metadata": {},
   "outputs": [],
   "source": [
    "# exercise 14"
   ]
  },
  {
   "cell_type": "code",
   "execution_count": 36,
   "metadata": {},
   "outputs": [
    {
     "name": "stdout",
     "output_type": "stream",
     "text": [
      "E[fans] = 150.2118\n"
     ]
    }
   ],
   "source": [
    "random.seed(seed)\n",
    "\n",
    "Nsim = 100000\n",
    "\n",
    "SUM = 0\n",
    "for _ in range(Nsim):\n",
    "    buses, _ = PoissonProcess(lambd=5, T=1)\n",
    "    fans = sum([functions.DiscreteUniform_mod(20, 40) for _ in range(buses)])\n",
    "    SUM = SUM + fans\n",
    "E = SUM / Nsim\n",
    "print(f'E[fans] = {E}')"
   ]
  },
  {
   "cell_type": "code",
   "execution_count": 37,
   "metadata": {},
   "outputs": [],
   "source": [
    "# exercise 15"
   ]
  },
  {
   "cell_type": "code",
   "execution_count": 38,
   "metadata": {},
   "outputs": [],
   "source": [
    "def PoissonProcess_mod(lambd_, T, Inter, Lambd):\n",
    "    \n",
    "    N = 0\n",
    "    seq = []\n",
    "\n",
    "    j = 0\n",
    "    t = functions.Exp(Lambd[j])\n",
    "\n",
    "    while t <= T:\n",
    "\n",
    "        if t <= Inter[j]:\n",
    "            U = random.random()\n",
    "            if U < lambd_(t) / Lambd[j]:\n",
    "                N = N + 1\n",
    "                seq.append(t)\n",
    "            t = t + functions.Exp(Lambd[j])\n",
    "        \n",
    "        else:\n",
    "            t = Inter[j] + (Lambd[j] / Lambd[j + 1]) * (t - Inter[j])    \n",
    "            j = j + 1\n",
    "\n",
    "    return N, seq"
   ]
  },
  {
   "cell_type": "code",
   "execution_count": null,
   "metadata": {},
   "outputs": [],
   "source": []
  }
 ],
 "metadata": {
  "kernelspec": {
   "display_name": "base",
   "language": "python",
   "name": "python3"
  },
  "language_info": {
   "codemirror_mode": {
    "name": "ipython",
    "version": 3
   },
   "file_extension": ".py",
   "mimetype": "text/x-python",
   "name": "python",
   "nbconvert_exporter": "python",
   "pygments_lexer": "ipython3",
   "version": "3.11.7"
  }
 },
 "nbformat": 4,
 "nbformat_minor": 2
}

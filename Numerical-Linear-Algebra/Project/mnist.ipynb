{
 "cells": [
  {
   "cell_type": "code",
   "execution_count": null,
   "metadata": {
    "executionInfo": {
     "elapsed": 2937,
     "status": "ok",
     "timestamp": 1699905378318,
     "user": {
      "displayName": "Facundo Angaramo",
      "userId": "12131873686079184890"
     },
     "user_tz": 180
    },
    "id": "80uuq10TQKmd"
   },
   "outputs": [],
   "source": [
    "# Importar bibliotecas\n",
    "import numpy as np\n",
    "import pandas as pd\n",
    "\n",
    "import matplotlib as mpl\n",
    "import matplotlib.pyplot as plt\n",
    "import seaborn as sns\n",
    "\n",
    "from sklearn.datasets import fetch_openml\n",
    "from sklearn.preprocessing import StandardScaler\n",
    "from sklearn.svm import SVC\n",
    "from sklearn.pipeline import Pipeline\n",
    "from sklearn.model_selection import cross_val_score, GridSearchCV\n",
    "from sklearn.metrics import confusion_matrix, classification_report"
   ]
  },
  {
   "cell_type": "code",
   "execution_count": null,
   "metadata": {
    "executionInfo": {
     "elapsed": 4,
     "status": "ok",
     "timestamp": 1699905378318,
     "user": {
      "displayName": "Facundo Angaramo",
      "userId": "12131873686079184890"
     },
     "user_tz": 180
    },
    "id": "mXF4snu5QKmh"
   },
   "outputs": [],
   "source": [
    "# Ignorar mensajes de advertencia para mejorar la legibilidad\n",
    "import warnings\n",
    "warnings.filterwarnings('ignore')"
   ]
  },
  {
   "cell_type": "code",
   "execution_count": null,
   "metadata": {
    "executionInfo": {
     "elapsed": 4,
     "status": "ok",
     "timestamp": 1699905378319,
     "user": {
      "displayName": "Facundo Angaramo",
      "userId": "12131873686079184890"
     },
     "user_tz": 180
    },
    "id": "MQ82idsnQKmh"
   },
   "outputs": [],
   "source": [
    "# Establecer el estilo de las gráficas utilizando el estilo 'ggplot'\n",
    "plt.style.use('ggplot')"
   ]
  },
  {
   "cell_type": "markdown",
   "metadata": {
    "id": "6eXgzyGLQKmi"
   },
   "source": [
    "# **MNIST**"
   ]
  },
  {
   "cell_type": "markdown",
   "metadata": {
    "id": "PgYPjzzlQKmj"
   },
   "source": [
    "**MNIST** es un conjunto de 70.000 imágenes pequeñas de dígitos escritos a mano por alumnos de instituto y empleados de la Oficina del Censo de EE.UU. Cada imagen está etiquetada con el dígito al que representa. Este conjunto se ha estudiado tanto que, a menudo, se le llama el ‘Hello, Word’ del *Machine Learning*."
   ]
  },
  {
   "cell_type": "code",
   "execution_count": null,
   "metadata": {
    "executionInfo": {
     "elapsed": 61962,
     "status": "ok",
     "timestamp": 1699905440277,
     "user": {
      "displayName": "Facundo Angaramo",
      "userId": "12131873686079184890"
     },
     "user_tz": 180
    },
    "id": "z9Oq6m_hQKmj"
   },
   "outputs": [],
   "source": [
    "# Cargar el dataset 'MNIST'\n",
    "mnist = fetch_openml('mnist_784', version=1, as_frame=False)"
   ]
  },
  {
   "cell_type": "code",
   "execution_count": null,
   "metadata": {
    "executionInfo": {
     "elapsed": 9,
     "status": "ok",
     "timestamp": 1699905440277,
     "user": {
      "displayName": "Facundo Angaramo",
      "userId": "12131873686079184890"
     },
     "user_tz": 180
    },
    "id": "rkrl62ziQKmk"
   },
   "outputs": [],
   "source": [
    "# Separar las features (píxeles) y las labels en el dataset\n",
    "X, y = mnist['data'], mnist['target']\n",
    "\n",
    "# Convertir las lables de string a integer\n",
    "y = y.astype(np.uint8)"
   ]
  },
  {
   "cell_type": "code",
   "execution_count": null,
   "metadata": {
    "colab": {
     "base_uri": "https://localhost:8080/"
    },
    "executionInfo": {
     "elapsed": 7,
     "status": "ok",
     "timestamp": 1699905440277,
     "user": {
      "displayName": "Facundo Angaramo",
      "userId": "12131873686079184890"
     },
     "user_tz": 180
    },
    "id": "rym-q5T1QKmk",
    "outputId": "69837257-0041-4158-b618-4efead7ee592"
   },
   "outputs": [],
   "source": [
    "# Imprimir las dimensiones del conjunto features (X) y del conjunto de labels (y)\n",
    "print('dim(X) =', X.shape)\n",
    "print('dim(y) =', y.shape)"
   ]
  },
  {
   "cell_type": "markdown",
   "metadata": {
    "id": "z7hwdI0mQKml"
   },
   "source": [
    "Hay 70.000 imágenes y cada imagen tiene 784 features. Esto se debe a que cada imagen tiene 28x28 pixeles y cada feature representa simplemente la intensidad de un pixel, desde 0 (blanco) hasta 255 (negro)."
   ]
  },
  {
   "cell_type": "code",
   "execution_count": null,
   "metadata": {
    "executionInfo": {
     "elapsed": 3,
     "status": "ok",
     "timestamp": 1699905441132,
     "user": {
      "displayName": "Facundo Angaramo",
      "userId": "12131873686079184890"
     },
     "user_tz": 180
    },
    "id": "cNusgXbDQZDo"
   },
   "outputs": [],
   "source": [
    "def plot_digits(instances, images_per_row=10, **options) -> None:\n",
    "\n",
    "    size = 28\n",
    "    images_per_row = min(len(instances), images_per_row)\n",
    "    n_rows = (len(instances) - 1) // images_per_row + 1\n",
    "\n",
    "    n_empty = n_rows * images_per_row - len(instances)\n",
    "    padded_instances = np.concatenate([instances, np.zeros((n_empty, size * size))], axis=0)\n",
    "\n",
    "    image_grid = padded_instances.reshape((n_rows, images_per_row, size, size))\n",
    "\n",
    "    big_image = image_grid.transpose(0, 2, 1, 3).reshape(n_rows * size,\n",
    "                                                         images_per_row * size)\n",
    "\n",
    "    plt.imshow(big_image, cmap = mpl.cm.binary, **options)\n",
    "    plt.axis('off')"
   ]
  },
  {
   "cell_type": "code",
   "execution_count": null,
   "metadata": {
    "colab": {
     "base_uri": "https://localhost:8080/",
     "height": 807
    },
    "executionInfo": {
     "elapsed": 1223,
     "status": "ok",
     "timestamp": 1699905442353,
     "user": {
      "displayName": "Facundo Angaramo",
      "userId": "12131873686079184890"
     },
     "user_tz": 180
    },
    "id": "FJFwq0s3QKmm",
    "outputId": "6be0e5f0-5dfc-422e-e590-02caef4b63c0"
   },
   "outputs": [],
   "source": [
    "# Crear un gráfico mostrando los primeros 100 dígitos del dataset\n",
    "plt.figure(figsize=(12, 10))\n",
    "plot_digits(X[:100], images_per_row=10)\n",
    "plt.show()"
   ]
  },
  {
   "cell_type": "code",
   "execution_count": null,
   "metadata": {
    "colab": {
     "base_uri": "https://localhost:8080/",
     "height": 570
    },
    "executionInfo": {
     "elapsed": 674,
     "status": "ok",
     "timestamp": 1699905443024,
     "user": {
      "displayName": "Facundo Angaramo",
      "userId": "12131873686079184890"
     },
     "user_tz": 180
    },
    "id": "ye30siNKQKmm",
    "outputId": "44fb512a-d035-4ee9-a8f2-12371ddef1a9"
   },
   "outputs": [],
   "source": [
    "# Calcular la cantidad de ocurrencias de cada dígito en el dataset 'MNIST'\n",
    "unique, counts = np.unique(y, return_counts=True)\n",
    "\n",
    "# Crear un gráfico de barras para visualizar la distribución de los dígitos en el conjunto de datos\n",
    "plt.figure(figsize=(12, 6))\n",
    "plt.bar(unique, counts, align='center', alpha=0.7, color='steelblue')\n",
    "plt.xticks(unique)\n",
    "plt.title('Distribution of Digits in MNIST Dataset')\n",
    "plt.xlabel('Digits')\n",
    "plt.ylabel('Number of Digits')\n",
    "plt.show()"
   ]
  },
  {
   "cell_type": "code",
   "execution_count": null,
   "metadata": {
    "id": "_3JFPWGqQKmm"
   },
   "outputs": [],
   "source": [
    "# Dividir el conjunto de datos 'MNIST' en train y test\n",
    "X_train, X_test, y_train, y_test = X[:60000], X[60000:], y[:60000], y[60000:]\n",
    "\n",
    "# Establecer una semilla aleatoria\n",
    "np.random.seed(42)\n",
    "\n",
    "# Seleccionar 30,000 muestras aleatorias del conjunto de train\n",
    "indices_train = np.random.choice(len(X_train), 30000, replace=False)\n",
    "X_train, y_train = X_train[indices_train], y_train[indices_train]\n",
    "\n",
    "# Seleccionar 5,000 muestras aleatorias del conjunto de test\n",
    "indices_test = np.random.choice(len(X_test), 5000, replace=False)\n",
    "X_test, y_test = X_test[indices_test], y_test[indices_test]"
   ]
  },
  {
   "cell_type": "code",
   "execution_count": null,
   "metadata": {
    "id": "MirO6NUIQKmn"
   },
   "outputs": [],
   "source": [
    "# Crear un pipeline que incluye escalado y un clasificador SVM\n",
    "pipeline = Pipeline([\n",
    "    ('scaler', StandardScaler()),\n",
    "    ('svc', SVC(class_weight='balanced'))\n",
    "])"
   ]
  },
  {
   "cell_type": "code",
   "execution_count": null,
   "metadata": {
    "id": "arES0rWNQKmn",
    "outputId": "760c4612-5d1f-4f6e-8538-a3535088209d"
   },
   "outputs": [],
   "source": [
    "# Entrenar un modelo básico como baseline usando Cross-Validation\n",
    "pipeline.named_steps['svc'].set_params(kernel='linear')\n",
    "cv_scores = cross_val_score(pipeline, X_train, y_train, cv=5)\n",
    "print(\"Cross-Validation Scores:\", cv_scores)\n",
    "print(\"Mean CV Score:\", cv_scores.mean())"
   ]
  },
  {
   "cell_type": "code",
   "execution_count": null,
   "metadata": {
    "id": "2AfwHsqiQKmn",
    "outputId": "9169620d-ec89-4a80-8e61-60b322db8045"
   },
   "outputs": [],
   "source": [
    "# Entrenar un clasificador SVM con kernel RBF\n",
    "param_grid_rbf = {\n",
    "    'svc__kernel': ['rbf'],\n",
    "    'svc__C': [0.1, 1.0, 10.0],\n",
    "    'svc__gamma': ['scale', 'auto']\n",
    "}\n",
    "\n",
    "svc_rbf = GridSearchCV(\n",
    "    pipeline, \n",
    "    param_grid_rbf, \n",
    "    cv=5\n",
    ")\n",
    "svc_rbf.fit(X_train, y_train)"
   ]
  },
  {
   "cell_type": "code",
   "execution_count": null,
   "metadata": {
    "id": "wOfBnl3YQKmn",
    "outputId": "4884cad0-72c0-4a77-daa0-90292b3a67bc"
   },
   "outputs": [],
   "source": [
    "# Resultados de entrenamiento obtenidos para el clasficador SVM con kernel RBF\n",
    "svcRBF_results = pd.DataFrame(svc_rbf.cv_results_)\n",
    "svcRBF_results[['param_svc__kernel', 'param_svc__C', 'param_svc__gamma','mean_test_score', 'std_test_score']]\\\n",
    "    .sort_values(by='mean_test_score', ascending=False).reset_index(drop=True).head()"
   ]
  },
  {
   "cell_type": "code",
   "execution_count": null,
   "metadata": {
    "id": "HFHsAK8GQKmn"
   },
   "outputs": [],
   "source": [
    "# Realizar predicciones en el conjunto de test\n",
    "y_pred = svc_rbf.best_estimator_.predict(X_test)"
   ]
  },
  {
   "cell_type": "code",
   "execution_count": null,
   "metadata": {
    "id": "IQIpniOwQKmn",
    "outputId": "154e4812-aca8-4f25-a37f-b076a44e5310"
   },
   "outputs": [],
   "source": [
    "# Imprimir la matriz de confusión para evaluar las predicciones del modelo en el conjunto de test\n",
    "print(confusion_matrix(y_test, y_pred))\n",
    "\n",
    "# Imprimir un informe de clasificación para evaluar el rendimiento del modelo en el conjunto de test\n",
    "print(classification_report(y_test, y_pred))"
   ]
  },
  {
   "cell_type": "code",
   "execution_count": null,
   "metadata": {
    "id": "b7O1bxaPQKmn",
    "outputId": "de0e330b-1bcb-4afa-81a2-a96f5201e79e"
   },
   "outputs": [],
   "source": [
    "# Calcular y normalizar la matriz de confusión\n",
    "cm = confusion_matrix(y_test, y_pred)\n",
    "row_sums = cm.sum(axis=1, keepdims=True)\n",
    "norm_conf_mx = cm / row_sums\n",
    "\n",
    "# Establecer los elementos diagonales a 0 para resaltar los errores\n",
    "np.fill_diagonal(norm_conf_mx, 0)\n",
    "\n",
    "# Visualizar la matriz de confusión normalizada con resaltado de errores\n",
    "plt.figure(figsize=(12, 10))\n",
    "plt.matshow(norm_conf_mx, cmap=plt.cm.gray)\n",
    "plt.title('Normalized Confusion Matrix with Highlighted Errors')\n",
    "plt.xlabel('Predicted Label')\n",
    "plt.ylabel('True Label')\n",
    "plt.xticks(np.arange(10))\n",
    "plt.yticks(np.arange(10))\n",
    "plt.grid(False)\n",
    "plt.show()"
   ]
  },
  {
   "cell_type": "code",
   "execution_count": null,
   "metadata": {
    "id": "z7IGFqmsQKmo"
   },
   "outputs": [],
   "source": []
  }
 ],
 "metadata": {
  "colab": {
   "provenance": []
  },
  "kernelspec": {
   "display_name": "base",
   "language": "python",
   "name": "python3"
  },
  "language_info": {
   "codemirror_mode": {
    "name": "ipython",
    "version": 3
   },
   "file_extension": ".py",
   "mimetype": "text/x-python",
   "name": "python",
   "nbconvert_exporter": "python",
   "pygments_lexer": "ipython3",
   "version": "3.11.7"
  }
 },
 "nbformat": 4,
 "nbformat_minor": 0
}

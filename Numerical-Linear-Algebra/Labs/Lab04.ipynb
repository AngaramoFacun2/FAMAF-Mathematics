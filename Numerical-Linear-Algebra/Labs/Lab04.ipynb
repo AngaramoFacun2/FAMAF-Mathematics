{
 "cells": [
  {
   "cell_type": "code",
   "execution_count": 1,
   "metadata": {},
   "outputs": [],
   "source": [
    "import numpy as np\n",
    "import matplotlib.pyplot as plt\n",
    "\n",
    "import functions\n",
    "\n",
    "from scipy.optimize import linprog"
   ]
  },
  {
   "cell_type": "code",
   "execution_count": 2,
   "metadata": {},
   "outputs": [],
   "source": [
    "plt.style.use('ggplot')"
   ]
  },
  {
   "cell_type": "code",
   "execution_count": 3,
   "metadata": {},
   "outputs": [],
   "source": [
    "# Ejercicio 3"
   ]
  },
  {
   "cell_type": "code",
   "execution_count": 4,
   "metadata": {},
   "outputs": [],
   "source": [
    "def givens(x1: float, x2: float) -> tuple[float, float]:\n",
    "    '''\n",
    "    Calcula los parámetros de una rotación de Givens.\n",
    "    '''\n",
    "\n",
    "    c = 1\n",
    "    s = 0\n",
    "\n",
    "    ax1 = abs(x1)\n",
    "    ax2 = abs(x2)\n",
    "\n",
    "    if ax1 + ax2 != 0:\n",
    "\n",
    "        if ax2 > ax1:\n",
    "            tau = - x1 / x2\n",
    "            s = - np.sign(x2) / np.sqrt(1 + tau**2)\n",
    "            c = s * tau\n",
    "        else:\n",
    "            tau = - x2 / x1\n",
    "            c = np.sign(x1) / np.sqrt(1 + tau**2)\n",
    "            s = c * tau\n",
    "\n",
    "    return c, s\n",
    "\n",
    "\n",
    "def householder(x: np.ndarray) -> tuple[np.ndarray, float]:\n",
    "    '''\n",
    "    Calcula los parámetros de una reflexión de Householder.\n",
    "    '''\n",
    "\n",
    "    n = len(x)\n",
    "\n",
    "    rho = 0\n",
    "    u = x.copy()\n",
    "    u[0] = 1\n",
    "\n",
    "    if n == 1:\n",
    "        sigma = 0\n",
    "    else:\n",
    "        sigma = sum(x[1:]**2)\n",
    "\n",
    "    if (sigma != 0) or (x[0] < 0):\n",
    "\n",
    "        mu = np.sqrt(x[0]**2 + sigma)\n",
    "\n",
    "        if x[0] <= 0:\n",
    "            gamma = x[0] - mu\n",
    "        else:\n",
    "            gamma = - sigma / (x[0] + mu)\n",
    "\n",
    "        rho = 2 * gamma**2 / (gamma**2 + sigma)\n",
    "        u = u / gamma\n",
    "        u[0] = 1\n",
    "\n",
    "    return u, rho"
   ]
  },
  {
   "cell_type": "code",
   "execution_count": 5,
   "metadata": {},
   "outputs": [
    {
     "name": "stdout",
     "output_type": "stream",
     "text": [
      "G @ x = [1.41421356 0.        ]\n"
     ]
    }
   ],
   "source": [
    "# givens\n",
    "x1 = 1\n",
    "x2 = 1\n",
    "x = np.array([x1, x2])\n",
    "\n",
    "c, s = givens(x1, x2)\n",
    "G = np.array([[c, -s], [s, c]])\n",
    "\n",
    "print(f'G @ x = {G @ x}')"
   ]
  },
  {
   "cell_type": "code",
   "execution_count": 6,
   "metadata": {},
   "outputs": [
    {
     "name": "stdout",
     "output_type": "stream",
     "text": [
      "x = [0.60067766 0.47371533 0.26442926]\n",
      "\n",
      "y = [8.09408851e-01 1.25498604e-16 6.59191586e-17]\n",
      "\n",
      "norm(x, 2) == y[0]: True\n"
     ]
    }
   ],
   "source": [
    "# householder\n",
    "n = 3\n",
    "x = np.random.random(n)\n",
    "print(f'x = {x}\\n')\n",
    "\n",
    "u, rho = householder(x)\n",
    "Q = np.eye(n) - rho * np.outer(u, u.T)\n",
    "\n",
    "y = Q @ x\n",
    "print(f'y = {y}\\n')\n",
    "\n",
    "isclose = np.isclose(np.linalg.norm(x, ord=2), y[0])\n",
    "print(f'norm(x, 2) == y[0]: {isclose}')"
   ]
  },
  {
   "cell_type": "code",
   "execution_count": 7,
   "metadata": {},
   "outputs": [],
   "source": [
    "def qrgivens(A: np.ndarray) -> tuple[np.ndarray, np.ndarray]:\n",
    "    '''\n",
    "    Realiza la descomposición QR de la matriz A utilizando \n",
    "    el método de rotaciones de Givens (sin pivoteo).\n",
    "    '''\n",
    "\n",
    "    m, n = A.shape\n",
    "\n",
    "    Q = np.eye(m)\n",
    "    R = A.copy()\n",
    "    p = min(m-1, n)\n",
    "\n",
    "    for j in range(p):\n",
    "        for i in range(j+1, m):\n",
    "\n",
    "            if R[i, j] != 0:\n",
    "\n",
    "                c, s = givens(R[j, j], R[i, j])\n",
    "                G = np.array([[c, -s], [s, c]])\n",
    "\n",
    "                R[[j, i], j:] = G @ R[[j, i], j:]\n",
    "                Q[:, [j, i]] = Q[:, [j, i]] @ G.T\n",
    "\n",
    "    if (m <= n) and (R[m-1, m-1] < 0):\n",
    "\n",
    "        R[m-1, m-1:] = - R[m-1, m-1:]\n",
    "        Q[:, m-1] = - Q[:, m-1]\n",
    "\n",
    "    return Q, R\n",
    "\n",
    "\n",
    "def qrhouseholder(A: np.ndarray) -> tuple[np.ndarray, np.ndarray]:\n",
    "    '''\n",
    "    Realiza la descomposición QR de la matriz A utilizando \n",
    "    el método de transformaciones de Householder (sin pivoteo).\n",
    "    '''\n",
    "\n",
    "    m, n = A.shape\n",
    "\n",
    "    Q = np.eye(m)\n",
    "    R = A.copy()\n",
    "    p = min(m, n)\n",
    "\n",
    "    for j in range(p):\n",
    "\n",
    "        u, rho = householder(R[j:, j])\n",
    "        w = rho * u\n",
    "        R[j:, j:] = R[j:, j:] - np.outer(w, u.T @ R[j:, j:])\n",
    "        Q[:, j:] = Q[:, j:] - Q[:, j:] @ np.outer(w, u.T)\n",
    "\n",
    "    return Q, R"
   ]
  },
  {
   "cell_type": "code",
   "execution_count": 8,
   "metadata": {},
   "outputs": [
    {
     "name": "stdout",
     "output_type": "stream",
     "text": [
      "A =\n",
      "[[0.31713342 0.15758919 0.47507622 0.71193663]\n",
      " [0.44637345 0.48063933 0.79558325 0.00749452]\n",
      " [0.96709122 0.84593322 0.04085844 0.7403825 ]]\n"
     ]
    }
   ],
   "source": [
    "# test\n",
    "m = 3\n",
    "n = 4\n",
    "A = np.random.random((m, n))\n",
    "\n",
    "print('A =')\n",
    "print(A)"
   ]
  },
  {
   "cell_type": "code",
   "execution_count": 9,
   "metadata": {},
   "outputs": [
    {
     "name": "stdout",
     "output_type": "stream",
     "text": [
      "Q_givens =\n",
      "[[ 0.28535994 -0.80289409  0.52338397]\n",
      " [ 0.40165146  0.5960048   0.69530884]\n",
      " [ 0.87019872 -0.01180465 -0.49255948]]\n",
      "\n",
      "R_givens =\n",
      "[[ 1.11134526e+00  9.74149137e-01  4.90669859e-01  8.50448282e-01]\n",
      " [-4.33835176e-18  1.49949978e-01  9.22532316e-02 -5.75882895e-01]\n",
      " [-6.10913979e-17 -3.25517377e-19  7.81698132e-01  1.31448038e-02]]\n",
      "\n",
      "norm(A - Q_givens @ R_givens, fro) = 3.435672288390888e-16\n"
     ]
    }
   ],
   "source": [
    "# qrgivens\n",
    "Q_givens, R_givens = qrgivens(A)\n",
    "\n",
    "print('Q_givens =')\n",
    "print(Q_givens)\n",
    "\n",
    "print('\\nR_givens =')\n",
    "print(R_givens)\n",
    "\n",
    "QR_givens = Q_givens @ R_givens\n",
    "print('\\nnorm(A - Q_givens @ R_givens, fro) =', np.linalg.norm(A - QR_givens, ord='fro'))"
   ]
  },
  {
   "cell_type": "code",
   "execution_count": 10,
   "metadata": {},
   "outputs": [
    {
     "name": "stdout",
     "output_type": "stream",
     "text": [
      "Q_householder =\n",
      "[[ 0.28535994 -0.80289409  0.52338397]\n",
      " [ 0.40165146  0.5960048   0.69530884]\n",
      " [ 0.87019872 -0.01180465 -0.49255948]]\n",
      "\n",
      "R_householder =\n",
      "[[ 1.11134526e+00  9.74149137e-01  4.90669859e-01  8.50448282e-01]\n",
      " [ 5.55111512e-17  1.49949978e-01  9.22532316e-02 -5.75882895e-01]\n",
      " [ 0.00000000e+00 -2.77555756e-17  7.81698132e-01  1.31448038e-02]]\n",
      "\n",
      "norm(A - Q_householder @ R_householder, fro) = 3.8068485930024564e-16\n"
     ]
    }
   ],
   "source": [
    "# householder\n",
    "Q_householder, R_householder = qrhouseholder(A)\n",
    "\n",
    "print('Q_householder =')\n",
    "print(Q_householder)\n",
    "\n",
    "print('\\nR_householder =')\n",
    "print(R_householder)\n",
    "\n",
    "QR_householder = Q_householder @ R_householder\n",
    "print('\\nnorm(A - Q_householder @ R_householder, fro) =', np.linalg.norm(A - QR_householder, ord='fro'))"
   ]
  },
  {
   "cell_type": "code",
   "execution_count": 11,
   "metadata": {},
   "outputs": [],
   "source": [
    "# Ejercicio 4"
   ]
  },
  {
   "cell_type": "code",
   "execution_count": 12,
   "metadata": {},
   "outputs": [],
   "source": [
    "def qrgivensp(A: np.ndarray) -> tuple[np.ndarray, np.ndarray, np.ndarray]:\n",
    "    '''\n",
    "    Realiza la descomposición QR de la matriz A utilizando \n",
    "    el método de rotaciones de Givens con pivoteo de columnas.\n",
    "    '''\n",
    "    \n",
    "    m, n = A.shape\n",
    "\n",
    "    Q = np.eye(m)\n",
    "    R = A.copy()\n",
    "    P = np.eye(n)\n",
    "    c = np.sum(R**2, axis=0)\n",
    "\n",
    "    for j in range(min(m - 1, n)):\n",
    "\n",
    "        l = j + np.argmax(c[j:])\n",
    "\n",
    "        if c[l] == 0:\n",
    "            break\n",
    "\n",
    "        R[:, [j, l]] = R[:, [l, j]]\n",
    "        P[:, [j, l]] = P[:, [l, j]]\n",
    "        c[[j, l]] = c[[l, j]]\n",
    "\n",
    "        for i in range(j+1, m):\n",
    "\n",
    "            if R[i, j] != 0:\n",
    "\n",
    "                cos, sin = givens(R[j, j], R[i, j])\n",
    "                G = np.array([[cos, -sin], [sin, cos]])\n",
    "\n",
    "                R[[j, i], j:] = G @ R[[j, i], j:]\n",
    "                Q[:, [j, i]] = Q[:, [j, i]] @ G.T\n",
    "\n",
    "        c[j:] = c[j:] - R[j, j:]**2\n",
    "\n",
    "    if (m <= n) and (R[m-1, m-1] < 0):\n",
    "\n",
    "        R[m-1, m-1:] = -R[m-1, m-1:]\n",
    "        Q[:, m-1] = -Q[:, m-1]\n",
    "\n",
    "    return Q, R, P\n",
    "\n",
    "\n",
    "def qrhouseholderp(A: np.ndarray) -> tuple[np.ndarray, np.ndarray, np.ndarray]:\n",
    "    '''\n",
    "    Realiza la descomposición QR de la matriz A utilizando \n",
    "    el método de reflexiones de Householder con pivoteo de columnas.\n",
    "    '''\n",
    "    \n",
    "    m, n = A.shape\n",
    "\n",
    "    Q = np.eye(m)\n",
    "    R = A.copy()\n",
    "    P = np.eye(n)\n",
    "    c = np.sum(R**2, axis=0)\n",
    "\n",
    "    for j in range(min(m, n)):\n",
    "\n",
    "        l = j + np.argmax(c[j:])\n",
    "\n",
    "        if c[l] == 0:\n",
    "            break\n",
    "\n",
    "        R[:, [j, l]] = R[:, [l, j]]\n",
    "        P[:, [j, l]] = P[:, [l, j]]\n",
    "        c[[j, l]] = c[[l, j]]\n",
    "\n",
    "        u, rho = householder(R[j:, j])\n",
    "        w = rho * u\n",
    "\n",
    "        R[j:, j:] = R[j:, j:] - np.outer(w, u.T @ R[j:, j:])\n",
    "        Q[:, j:] = Q[:, j:] - np.outer(Q[:, j:] @ w, u)\n",
    "        c[j:] = c[j:] - R[j, j:]**2\n",
    "\n",
    "    return Q, R, P"
   ]
  },
  {
   "cell_type": "code",
   "execution_count": 13,
   "metadata": {},
   "outputs": [
    {
     "name": "stdout",
     "output_type": "stream",
     "text": [
      "A =\n",
      "[[0.35276308 0.35276308]\n",
      " [0.55154067 0.55154067]\n",
      " [0.77386615 0.77386615]\n",
      " [0.32472311 0.32472311]]\n"
     ]
    }
   ],
   "source": [
    "# test\n",
    "m = 4\n",
    "n = 2\n",
    "A = np.random.random((m, n))\n",
    "A[:, 1] = A[:, 0]\n",
    "\n",
    "print('A =')\n",
    "print(A)"
   ]
  },
  {
   "cell_type": "code",
   "execution_count": 14,
   "metadata": {},
   "outputs": [
    {
     "name": "stdout",
     "output_type": "stream",
     "text": [
      "Q_givens =\n",
      "[[ 0.33141886 -0.1744351   0.91752693 -0.13370968]\n",
      " [ 0.51816924 -0.72228844 -0.36484146 -0.27693098]\n",
      " [ 0.72704274  0.65395529 -0.15822468 -0.13680751]\n",
      " [ 0.30507547 -0.14217698  0.          0.94165528]]\n",
      "\n",
      "R_givens =\n",
      "[[ 1.06440257e+00  1.06440257e+00]\n",
      " [-1.53333207e-17  6.33009059e-17]\n",
      " [ 6.06842889e-17  1.29331248e-33]\n",
      " [-9.45045222e-18  3.89495044e-34]]\n",
      "\n",
      "norm(A @ P_givens - Q_givens @ R_givens, fro) = 1.6653345369377348e-16\n"
     ]
    }
   ],
   "source": [
    "# qrgivens\n",
    "Q_givens, R_givens, P_givens = qrgivensp(A)\n",
    "\n",
    "print('Q_givens =')\n",
    "print(Q_givens)\n",
    "\n",
    "print('\\nR_givens =')\n",
    "print(R_givens)\n",
    "\n",
    "QR_givens = Q_givens @ R_givens\n",
    "print('\\nnorm(A @ P_givens - Q_givens @ R_givens, fro) =', np.linalg.norm(A @ P_givens - QR_givens, ord='fro'))"
   ]
  },
  {
   "cell_type": "code",
   "execution_count": 15,
   "metadata": {},
   "outputs": [
    {
     "name": "stdout",
     "output_type": "stream",
     "text": [
      "Q_householder =\n",
      "[[ 0.33141886  0.51816924  0.72704274  0.30507547]\n",
      " [ 0.51816924  0.59840423 -0.56347862 -0.23644209]\n",
      " [ 0.72704274 -0.56347862  0.20938371 -0.33175166]\n",
      " [ 0.30507547 -0.23644209 -0.33175166  0.8607932 ]]\n",
      "\n",
      "R_householder =\n",
      "[[1.06440257e+00 1.06440257e+00]\n",
      " [2.22044605e-16 2.22044605e-16]\n",
      " [2.22044605e-16 2.22044605e-16]\n",
      " [5.55111512e-17 5.55111512e-17]]\n",
      "\n",
      "norm(A @ P_householder - Q_householder @ R_householder, fro) = 5.087681048627601e-16\n"
     ]
    }
   ],
   "source": [
    "# householder\n",
    "Q_householder, R_householder, P_householder = qrhouseholderp(A)\n",
    "\n",
    "print('Q_householder =')\n",
    "print(Q_householder)\n",
    "\n",
    "print('\\nR_householder =')\n",
    "print(R_householder)\n",
    "\n",
    "QR_householder = Q_householder @ R_householder\n",
    "print('\\nnorm(A @ P_householder - Q_householder @ R_householder, fro) =', np.linalg.norm(A @ P_householder - QR_householder, ord='fro'))"
   ]
  },
  {
   "cell_type": "code",
   "execution_count": 16,
   "metadata": {},
   "outputs": [],
   "source": [
    "# Ejercicio 7"
   ]
  },
  {
   "cell_type": "code",
   "execution_count": 17,
   "metadata": {},
   "outputs": [],
   "source": [
    "def sol_cuadmin(A: np.ndarray, b: np.ndarray, qr) -> tuple[np.ndarray, float]:\n",
    "    '''\n",
    "    Resuelve el problema de cuadrados mínimos (minimizar ||Ax - b||_2) \n",
    "    utlizando la descomposición QR con pivoteo de columnas.\n",
    "    '''\n",
    "\n",
    "    # Calcula la descomposición QR de la matriz A.\n",
    "    Q, R, P = qr(A)\n",
    "    # Calcula q = Q.T @ b\n",
    "    q = Q.T @ b\n",
    "    # Determina el rango de R.\n",
    "    p = np.sum(np.isclose(np.diag(R), 0) == False)\n",
    "    # Calcula la solución de minimizar ||A @ x - b||_2 y el residuo mínimo.\n",
    "    x = P @ np.concatenate((functions.sol_trsupfil(R[:p, :p], q[:p]), np.zeros(A.shape[1]-p)))\n",
    "    r2 = np.linalg.norm(q[p:])\n",
    "\n",
    "    return x, r2"
   ]
  },
  {
   "cell_type": "code",
   "execution_count": 18,
   "metadata": {},
   "outputs": [],
   "source": [
    "# Ejercicio 8"
   ]
  },
  {
   "cell_type": "code",
   "execution_count": 19,
   "metadata": {},
   "outputs": [
    {
     "name": "stdout",
     "output_type": "stream",
     "text": [
      "- epsilon = 0.1\n",
      "\n",
      "x_cholesky = [0.54726368 0.54726368]\n",
      "norm(A_epsilon @ x_cholesky - b, 2) = 1.3401566701313368\n",
      "\n",
      "x_qr = [0.54726368 0.54726368]\n",
      "norm(A_epsilon @ x_qr - b, 2) = 1.3401566701313363\n",
      "\n",
      "- epsilon = 0.001\n",
      "\n",
      "x_cholesky = [0.50049975 0.50049975]\n",
      "norm(A_epsilon @ x_cholesky - b, 2) = 1.4135061022154272\n",
      "\n",
      "x_qr = [0.50049975 0.50049975]\n",
      "norm(A_epsilon @ x_qr - b, 2) = 1.4135061022154276\n",
      "\n",
      "- epsilon = 0.0001\n",
      "\n",
      "x_cholesky = [0.50004999 0.50005   ]\n",
      "norm(A_epsilon @ x_cholesky - b, 2) = 1.4141428481596192\n",
      "\n",
      "x_qr = [0.50005 0.50005]\n",
      "norm(A_epsilon @ x_qr - b, 2) = 1.4141428481596194\n",
      "\n"
     ]
    }
   ],
   "source": [
    "A = lambda epsilon: np.array([[1, 1], [epsilon, 0], [0, epsilon]], dtype=float)\n",
    "b = np.array([1, 1, 1])\n",
    "\n",
    "for epsilon in [0.1, 0.001, 0.0001]:\n",
    "\n",
    "    print(f'- epsilon = {epsilon}\\n')\n",
    "\n",
    "    A_epsilon = A(epsilon)\n",
    "\n",
    "    # cholesky\n",
    "    x_cholesky = functions.sol_defpos(A_epsilon.T @ A_epsilon, A_epsilon.T @ b)\n",
    "    print(f'x_cholesky = {x_cholesky}')\n",
    "    print(f'norm(A_epsilon @ x_cholesky - b, 2) = {np.linalg.norm(A_epsilon @ x_cholesky - b, ord=2)}\\n')\n",
    "\n",
    "    # qr\n",
    "    x_qr, r2 = sol_cuadmin(A_epsilon, b, qrhouseholderp)\n",
    "    print(f'x_qr = {x_qr}')\n",
    "    print(f'norm(A_epsilon @ x_qr - b, 2) = {r2}\\n')"
   ]
  },
  {
   "cell_type": "code",
   "execution_count": 20,
   "metadata": {},
   "outputs": [],
   "source": [
    "# Ejercicio 9"
   ]
  },
  {
   "cell_type": "code",
   "execution_count": 21,
   "metadata": {},
   "outputs": [],
   "source": [
    "n = 100\n",
    "\n",
    "A = np.zeros((n, n-2))\n",
    "A[:n-2, :n-2] =  - np.diag(np.ones(n-2)) + 2 * np.diag(np.ones(n-3), -1) - np.diag(np.ones(n-4), -2)\n",
    "A[-2, -2] = -1\n",
    "A[-2, -1] = 2\n",
    "A[-1, -1] = -1\n",
    "\n",
    "b = np.zeros(n)\n",
    "b[0], b[-1] = 1, 1"
   ]
  },
  {
   "cell_type": "code",
   "execution_count": 22,
   "metadata": {},
   "outputs": [
    {
     "name": "stdout",
     "output_type": "stream",
     "text": [
      "norm(A @ x_cholesky - b, 2) = 0.19999999999999954\n"
     ]
    }
   ],
   "source": [
    "# cholesky\n",
    "x_cholesky = functions.sol_defpos(A.T @ A, A.T @ b)\n",
    "print(f'norm(A @ x_cholesky - b, 2) = {np.linalg.norm(A @ x_cholesky - b, ord=2)}')"
   ]
  },
  {
   "cell_type": "code",
   "execution_count": 23,
   "metadata": {},
   "outputs": [
    {
     "name": "stdout",
     "output_type": "stream",
     "text": [
      "norm(A @ x_qr - b, 2) = 0.20000000000001594\n"
     ]
    }
   ],
   "source": [
    "# qr\n",
    "x_qr, r2 = sol_cuadmin(A, b, qrhouseholderp)\n",
    "print(f'norm(A @ x_qr - b, 2) = {r2}')"
   ]
  },
  {
   "cell_type": "code",
   "execution_count": 24,
   "metadata": {},
   "outputs": [],
   "source": [
    "# Ejercicio 10"
   ]
  },
  {
   "cell_type": "code",
   "execution_count": 25,
   "metadata": {},
   "outputs": [],
   "source": [
    "data = np.array([[1, 1], [2, 2], [3, 3], [4, 4], [5, 5], [6, 6], [7, 7], [8, 8], [9, 9], [10, 0]])"
   ]
  },
  {
   "cell_type": "code",
   "execution_count": 26,
   "metadata": {},
   "outputs": [
    {
     "data": {
      "image/png": "[encoded data removed]",
      "text/plain": [
       "<Figure size 640x480 with 1 Axes>"
      ]
     },
     "metadata": {},
     "output_type": "display_data"
    }
   ],
   "source": [
    "plt.scatter(data[:, 0], data[:, 1], color='orchid', alpha=0.75)\n",
    "plt.xlabel(r'$x_1$')\n",
    "plt.ylabel(r'$x_2$')\n",
    "plt.show()"
   ]
  },
  {
   "cell_type": "code",
   "execution_count": 27,
   "metadata": {},
   "outputs": [],
   "source": [
    "m = len(data)\n",
    "n = 2\n",
    "\n",
    "A = np.zeros((m, n))\n",
    "A[:, 0] = data[:, 0]\n",
    "A[:, 1] = 1\n",
    "\n",
    "b = data[:, 1]"
   ]
  },
  {
   "cell_type": "code",
   "execution_count": 28,
   "metadata": {},
   "outputs": [
    {
     "name": "stdout",
     "output_type": "stream",
     "text": [
      "x_1 = [ 1. -0.]\n",
      "norm(A @ x_1 - b, 1) = 10.0\n"
     ]
    }
   ],
   "source": [
    "# Norma 1\n",
    "\n",
    "c = np.hstack((np.zeros(n), np.ones(m)))\n",
    "I = np.eye(m)\n",
    "A_ub = np.vstack((np.hstack((A, -I)), np.hstack((-A, -I))))\n",
    "b_ub = np.hstack((b, -b))\n",
    "\n",
    "x_1 = linprog(c, A_ub, b_ub).x[:2]\n",
    "\n",
    "print(f'x_1 = {x_1}')\n",
    "print(f'norm(A @ x_1 - b, 1) = {np.linalg.norm(A @ x_1 - b, ord=1)}')"
   ]
  },
  {
   "cell_type": "code",
   "execution_count": 29,
   "metadata": {},
   "outputs": [
    {
     "name": "stdout",
     "output_type": "stream",
     "text": [
      "x_2 = [0.45454545 2.        ]\n",
      "norm(A @ x_2 - b, 2) = 8.090398349558905\n"
     ]
    }
   ],
   "source": [
    "# Norma 2\n",
    "\n",
    "x_2, r_2 = sol_cuadmin(A, b, qrhouseholderp)\n",
    "\n",
    "print(f'x_2 = {x_2}')\n",
    "print(f'norm(A @ x_2 - b, 2) = {r_2}')"
   ]
  },
  {
   "cell_type": "code",
   "execution_count": 30,
   "metadata": {},
   "outputs": [
    {
     "name": "stdout",
     "output_type": "stream",
     "text": [
      "x_inf = [0.  4.5]\n",
      "norm(A @ x_inf - b, 1) = 4.5\n"
     ]
    }
   ],
   "source": [
    "# Norma Inf\n",
    "\n",
    "c = np.hstack((np.zeros(n), np.ones(1)))\n",
    "e = np.ones(m).reshape(-1, 1)\n",
    "A_ub = np.vstack((np.hstack((A, -e)), np.hstack((-A, -e))))\n",
    "b_ub = np.hstack((b, -b))\n",
    "\n",
    "x_inf = linprog(c, A_ub, b_ub).x[:2]\n",
    "\n",
    "print(f'x_inf = {x_inf}')\n",
    "print(f'norm(A @ x_inf - b, 1) = {np.linalg.norm(A @ x_inf - b, ord=np.inf)}')"
   ]
  },
  {
   "cell_type": "code",
   "execution_count": 31,
   "metadata": {},
   "outputs": [
    {
     "data": {
      "image/png": "[encoded data removed]",
      "text/plain": [
       "<Figure size 640x480 with 1 Axes>"
      ]
     },
     "metadata": {},
     "output_type": "display_data"
    }
   ],
   "source": [
    "plt.scatter(data[:, 0], data[:, 1], color='orchid', alpha=0.75)\n",
    "plt.plot(data[:, 0], A @ x_1, color='coral', label=r'$\\|\\cdot\\|_1$')\n",
    "plt.plot(data[:, 0], A @ x_2, color='steelblue', label=r'$\\|\\cdot\\|_2$')\n",
    "plt.plot(data[:, 0], A @ x_inf, color='olive', label=r'$\\|\\cdot\\|_\\infty$')\n",
    "plt.xlabel(r'$x_1$')\n",
    "plt.ylabel(r'$x_2$')\n",
    "plt.legend()\n",
    "plt.show()"
   ]
  },
  {
   "cell_type": "code",
   "execution_count": 32,
   "metadata": {},
   "outputs": [],
   "source": [
    "# Ejercicio 11"
   ]
  },
  {
   "cell_type": "code",
   "execution_count": 33,
   "metadata": {},
   "outputs": [],
   "source": [
    "data = np.loadtxt('data/dryer2.dat')"
   ]
  },
  {
   "cell_type": "code",
   "execution_count": 34,
   "metadata": {},
   "outputs": [],
   "source": [
    "t, u, y = data[:, 0], data[:, 1], data[:, 4]"
   ]
  },
  {
   "cell_type": "code",
   "execution_count": 35,
   "metadata": {},
   "outputs": [
    {
     "data": {
      "image/png": "[encoded data removed]",
      "text/plain": [
       "<Figure size 640x480 with 1 Axes>"
      ]
     },
     "metadata": {},
     "output_type": "display_data"
    }
   ],
   "source": [
    "plt.scatter(t, u, color='tomato', label=r'$u(t)$', alpha=0.25)\n",
    "plt.plot(t, y, color='steelblue', label=r'$y(t)$')\n",
    "plt.xlabel(r'$t$')\n",
    "plt.ylabel(r'$u(t)$ - $y(t)$')\n",
    "plt.legend()\n",
    "plt.show()"
   ]
  },
  {
   "cell_type": "code",
   "execution_count": 36,
   "metadata": {},
   "outputs": [],
   "source": [
    "tau = 100\n",
    "N = 500\n",
    "\n",
    "U1 = np.zeros((N-tau+1, tau+1))\n",
    "for i in range(N-tau+1):\n",
    "    U1[i] = u[i: i+tau+1]\n",
    "\n",
    "h, r2 = sol_cuadmin(U1, y[tau: N+1], qrhouseholderp)\n",
    "\n",
    "U2 = np.zeros((len(t)-N, tau+1))\n",
    "for i in range(len(t)-N):\n",
    "    U2[i] = u[N-tau+i: N+i+1]"
   ]
  },
  {
   "cell_type": "code",
   "execution_count": 37,
   "metadata": {},
   "outputs": [
    {
     "data": {
      "image/png": "[encoded data removed]",
      "text/plain": [
       "<Figure size 640x480 with 1 Axes>"
      ]
     },
     "metadata": {},
     "output_type": "display_data"
    }
   ],
   "source": [
    "plt.scatter(t, u, color='coral', label=r'$u(t)$', alpha=0.25)\n",
    "plt.plot(t, y, color='steelblue', label=r'$y_{obs}(t)$')\n",
    "plt.plot(t[N:], U2 @ h, color='olive', label=r'$y_{est}(t)$')\n",
    "plt.xlabel(r'$t$')\n",
    "plt.ylabel(r'$u(t)$ - $y(t)$')\n",
    "plt.legend()\n",
    "plt.show()"
   ]
  },
  {
   "cell_type": "code",
   "execution_count": null,
   "metadata": {},
   "outputs": [],
   "source": []
  }
 ],
 "metadata": {
  "kernelspec": {
   "display_name": "base",
   "language": "python",
   "name": "python3"
  },
  "language_info": {
   "codemirror_mode": {
    "name": "ipython",
    "version": 3
   },
   "file_extension": ".py",
   "mimetype": "text/x-python",
   "name": "python",
   "nbconvert_exporter": "python",
   "pygments_lexer": "ipython3",
   "version": "3.11.7"
  }
 },
 "nbformat": 4,
 "nbformat_minor": 2
}

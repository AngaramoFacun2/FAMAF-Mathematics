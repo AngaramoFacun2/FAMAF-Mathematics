{
 "cells": [
  {
   "cell_type": "code",
   "execution_count": 1,
   "metadata": {},
   "outputs": [],
   "source": [
    "import numpy as np\n",
    "import matplotlib.pyplot as plt\n",
    "\n",
    "import functions"
   ]
  },
  {
   "cell_type": "code",
   "execution_count": 2,
   "metadata": {},
   "outputs": [],
   "source": [
    "plt.style.use('ggplot')"
   ]
  },
  {
   "cell_type": "code",
   "execution_count": 3,
   "metadata": {},
   "outputs": [],
   "source": [
    "# Ejercicio 5"
   ]
  },
  {
   "cell_type": "code",
   "execution_count": 4,
   "metadata": {},
   "outputs": [],
   "source": [
    "def egauss(A: np.ndarray, b: np.ndarray) -> tuple[np.ndarray, np.ndarray]:\n",
    "    '''\n",
    "    Calcula la eliminación Gaussiana (sin pivoteo) de un sistema Ax = b.\n",
    "    '''\n",
    "    \n",
    "    n = A.shape[0]\n",
    "    U = A.copy()\n",
    "    y = b.copy()\n",
    "\n",
    "    for k in range(n-1):\n",
    "        \n",
    "        assert U[k, k] != 0, 'Error: Existe k en {0, 1, ..., n-2} tal que det(A_k) = 0.'\n",
    "\n",
    "        v = U[k+1:, k] / U[k, k]\n",
    "        U[k+1:, k] = 0\n",
    "        U[k+1:, k+1:] = U[k+1:, k+1:] - np.outer(v, U[k, k+1:])\n",
    "        y[k+1:] = y[k+1:] - y[k] * v\n",
    "\n",
    "    return U, y"
   ]
  },
  {
   "cell_type": "code",
   "execution_count": 5,
   "metadata": {},
   "outputs": [
    {
     "name": "stdout",
     "output_type": "stream",
     "text": [
      "||A @ x - b|| = 8.723589337723468e-13\n"
     ]
    }
   ],
   "source": [
    "# TEST\n",
    "n = 100\n",
    "\n",
    "I = np.eye(n)\n",
    "E = np.diag(np.ones(n-1), 1) + np.diag(np.ones(n-1), -1)\n",
    "A = 2*I - E\n",
    "\n",
    "b = np.random.random(n)\n",
    "\n",
    "U, y = egauss(A, b)\n",
    "x = functions.sol_trsupfil(U, y)\n",
    "print('||A @ x - b|| =', np.linalg.norm(A @ x - b, ord=2))"
   ]
  },
  {
   "cell_type": "code",
   "execution_count": 6,
   "metadata": {},
   "outputs": [],
   "source": [
    "# Ejercicio 6"
   ]
  },
  {
   "cell_type": "code",
   "execution_count": 7,
   "metadata": {},
   "outputs": [],
   "source": [
    "def dlu(A: np.ndarray) -> tuple[np.ndarray, np.ndarray]:\n",
    "    '''\n",
    "    Calcula la descomposición LU (sin pivoteo) de una matriz A.\n",
    "    '''\n",
    "\n",
    "    n = A.shape[0]\n",
    "    dLU = A.copy()\n",
    "\n",
    "    for k in range(n-1):\n",
    "\n",
    "        assert dLU[k, k] != 0, 'Error: Existe k en {0, 1, ..., n-2} tal que det(A_k) = 0.'\n",
    "\n",
    "        dLU[k+1:, k] = dLU[k+1:, k] / dLU[k, k]\n",
    "        dLU[k+1:, k+1:] = dLU[k+1:, k+1:] - np.outer(dLU[k+1:, k], dLU[k, k+1:])\n",
    "\n",
    "    L = np.eye(n) + np.tril(dLU, -1)\n",
    "    U = np.triu(dLU)\n",
    "\n",
    "    return L, U "
   ]
  },
  {
   "cell_type": "code",
   "execution_count": 8,
   "metadata": {},
   "outputs": [
    {
     "name": "stdout",
     "output_type": "stream",
     "text": [
      "||L @ U - A|| = 1.5700924586837752e-16\n"
     ]
    }
   ],
   "source": [
    "# TEST\n",
    "L, U = dlu(A)\n",
    "print('||L @ U - A|| =', np.linalg.norm(L @ U - A, ord='fro'))"
   ]
  },
  {
   "cell_type": "code",
   "execution_count": 9,
   "metadata": {},
   "outputs": [],
   "source": [
    "# Ejercicio 7"
   ]
  },
  {
   "cell_type": "code",
   "execution_count": 10,
   "metadata": {},
   "outputs": [],
   "source": [
    "def egauss_mod(A: np.ndarray, b: np.ndarray) -> tuple[np.ndarray, np.ndarray]:\n",
    "    '''\n",
    "    Calcula la eliminación Gaussiana (sin pivoteo) de un sistema Ax = b donde A es tal que \n",
    "    los únicos elementos que pueden ser no nulos son A[0, -1], A[-1, 0] y A[i, j] con |i - j| <= 1. \n",
    "    '''\n",
    "    \n",
    "    n = A.shape[0]\n",
    "    U = A.copy()\n",
    "    y = b.copy()\n",
    "\n",
    "    for k in range(n-1):\n",
    "\n",
    "        assert U[k, k] != 0, 'Error: Existe k en {0, 1, ..., n-2} tal que det(A_k) = 0.'\n",
    "        \n",
    "        v = U[[k+1, -1], k] / U[k, k]\n",
    "\n",
    "        U[[k+1, -1], k] = 0\n",
    "        U[np.ix_([k+1, -1], [k+1, -1])] = U[np.ix_([k+1, -1], [k+1, -1])] - np.outer(v , U[k, [k+1, -1]])\n",
    "\n",
    "        y[np.ix_([k+1, -1])] = y[np.ix_([k+1, -1])] - y[k] * v\n",
    "\n",
    "    return U, y"
   ]
  },
  {
   "cell_type": "code",
   "execution_count": 11,
   "metadata": {},
   "outputs": [],
   "source": [
    "n = 1000\n",
    "\n",
    "I = np.eye(n)\n",
    "E = np.diag(np.ones(n-1), 1) + np.diag(np.ones(n-1), -1)\n",
    "A = 2*I - E\n",
    "A[0, -1] = 1\n",
    "A[-1, 0] = 1\n",
    "\n",
    "b = np.random.random(n)"
   ]
  },
  {
   "cell_type": "code",
   "execution_count": 12,
   "metadata": {},
   "outputs": [
    {
     "name": "stdout",
     "output_type": "stream",
     "text": [
      "CPU times: user 19.4 ms, sys: 2.61 ms, total: 22 ms\n",
      "Wall time: 21.8 ms\n"
     ]
    }
   ],
   "source": [
    "%%time \n",
    "U, y = egauss_mod(A, b)"
   ]
  },
  {
   "cell_type": "code",
   "execution_count": 13,
   "metadata": {},
   "outputs": [
    {
     "name": "stdout",
     "output_type": "stream",
     "text": [
      "CPU times: user 651 ms, sys: 322 ms, total: 973 ms\n",
      "Wall time: 1.03 s\n"
     ]
    }
   ],
   "source": [
    "%%time \n",
    "U, y = egauss(A, b)"
   ]
  },
  {
   "cell_type": "code",
   "execution_count": 14,
   "metadata": {},
   "outputs": [],
   "source": [
    "# Ejercicio 9"
   ]
  },
  {
   "cell_type": "code",
   "execution_count": 15,
   "metadata": {},
   "outputs": [],
   "source": [
    "def egaussp(A: np.ndarray, b: np.ndarray) -> tuple[np.ndarray, np.ndarray]:\n",
    "    '''\n",
    "    Calcula la eliminación Gaussiana (con pivoteo parcial) de un sistema Ax = b.\n",
    "    '''\n",
    "    \n",
    "    n = A.shape[0]\n",
    "    U = A.copy()\n",
    "    y = b.copy()\n",
    "\n",
    "    for k in range(n-1):\n",
    "\n",
    "        l = k + np.argmax(abs(U[k:, k]))\n",
    "\n",
    "        if U[l, k] != 0:\n",
    "\n",
    "            U[[k, l]] = U[[l, k]]\n",
    "            y[[k, l]] = y[[l, k]]\n",
    "\n",
    "            v = U[k+1:, k] / U[k, k]\n",
    "            U[k+1:, k] = 0\n",
    "            U[k+1:, k+1:] = U[k+1:, k+1:] - np.outer(v, U[k, k+1:])\n",
    "            y[k+1:] = y[k+1:] - y[k] * v\n",
    "            \n",
    "    return U, y\n",
    "\n",
    "\n",
    "def dlup(A: np.ndarray) -> tuple[np.ndarray, np.ndarray, np.ndarray]:\n",
    "    '''\n",
    "    Calcula la descomposición LU (con pivoteo parcial) de una matriz A.\n",
    "    '''\n",
    "    \n",
    "    n = A.shape[0]\n",
    "    dLU = A.copy()\n",
    "    P = np.eye(n)\n",
    "\n",
    "    for k in range(n-1):\n",
    "\n",
    "        l = k + np.argmax(abs(dLU[k:, k]))\n",
    "\n",
    "        if dLU[l, k] != 0:\n",
    "\n",
    "            dLU[[k, l]] = dLU[[l, k]]\n",
    "            P[[k, l]] = P[[l, k]]\n",
    "\n",
    "            dLU[k+1:, k] = dLU[k+1:, k] / dLU[k, k]\n",
    "            dLU[k+1:, k+1:] = dLU[k+1:, k+1:] - np.outer(dLU[k+1:, k], dLU[k, k+1:])\n",
    "\n",
    "    L = np.eye(n) + np.tril(dLU, -1)\n",
    "    U = np.triu(dLU)\n",
    "\n",
    "    return L, U, P       "
   ]
  },
  {
   "cell_type": "code",
   "execution_count": 16,
   "metadata": {},
   "outputs": [],
   "source": [
    "# Ejercicio 10"
   ]
  },
  {
   "cell_type": "code",
   "execution_count": 17,
   "metadata": {},
   "outputs": [],
   "source": [
    "def sol_egauss(A: np.ndarray, b: np.ndarray) -> np.ndarray:\n",
    "    '''\n",
    "    Resuelve el sistema lineal Ax = b con A no singular.\n",
    "    '''\n",
    "\n",
    "    U, y = egaussp(A, b)\n",
    "    x = functions.sol_trsupfil(U, y)\n",
    "\n",
    "    return x"
   ]
  },
  {
   "cell_type": "code",
   "execution_count": 18,
   "metadata": {},
   "outputs": [
    {
     "name": "stdout",
     "output_type": "stream",
     "text": [
      "A =\n",
      "[[ 2. 10.  8.  8.  6.]\n",
      " [ 1.  4. -2.  4. -1.]\n",
      " [ 0.  2.  3.  2.  1.]\n",
      " [ 3.  8.  3. 10.  9.]\n",
      " [ 1.  4.  1.  2.  1.]]\n",
      "b1 = [52. 14. 12. 51. 15.]\n",
      "b2 = [50.  4. 12. 48. 12.]\n"
     ]
    }
   ],
   "source": [
    "A = np.array([[2, 10, 8, 8, 6], [1, 4, -2, 4, -1], [0, 2, 3, 2, 1], [3, 8, 3, 10, 9], [1, 4, 1, 2, 1],], dtype=float)\n",
    "b1 = np.array([52, 14, 12, 51, 15], dtype=float)\n",
    "b2 = np.array([50, 4, 12, 48, 12], dtype=float)\n",
    "\n",
    "print('A =')\n",
    "print(A)\n",
    "print('b1 =', b1)\n",
    "print('b2 =', b2)"
   ]
  },
  {
   "cell_type": "code",
   "execution_count": 19,
   "metadata": {},
   "outputs": [
    {
     "name": "stdout",
     "output_type": "stream",
     "text": [
      "x1 = [1. 2. 1. 2. 1.]\n",
      "||A @ x1 - b1|| = 1.0658141036401503e-14\n"
     ]
    }
   ],
   "source": [
    "x1 = sol_egauss(A, b1)\n",
    "\n",
    "print('x1 =', x1)\n",
    "print('||A @ x1 - b1|| =', np.linalg.norm(A @ x1 - b1, ord=2))"
   ]
  },
  {
   "cell_type": "code",
   "execution_count": 20,
   "metadata": {},
   "outputs": [
    {
     "name": "stdout",
     "output_type": "stream",
     "text": [
      "x2 = [2. 1. 2. 1. 2.]\n",
      "||A @ x2 - b2|| = 2.8435583831733384e-15\n"
     ]
    }
   ],
   "source": [
    "x2 = sol_egauss(A, b2)\n",
    "\n",
    "print('x2 =', x2)\n",
    "print('||A @ x2 - b2|| =', np.linalg.norm(A @ x2 - b2, ord=2))"
   ]
  },
  {
   "cell_type": "code",
   "execution_count": 21,
   "metadata": {},
   "outputs": [],
   "source": [
    "# Ejercicio 11"
   ]
  },
  {
   "cell_type": "code",
   "execution_count": 22,
   "metadata": {},
   "outputs": [],
   "source": [
    "def inv_lu(A: np.ndarray) -> np.ndarray:\n",
    "    '''\n",
    "    Calcula la matriz inversa de una matriz A utilizando descomposición LU con pivoteo parcial.\n",
    "    '''\n",
    "\n",
    "    n = A.shape[0]\n",
    "    L, U, P = dlup(A)\n",
    "    X = np.zeros((n, n))\n",
    "\n",
    "    for j in range(n):\n",
    "\n",
    "        # Resuelve L @ y = P @ e^j\n",
    "        y = functions.sol_trinffil(L, P[:, j])\n",
    "        # Resuelve U @ x^j = y\n",
    "        X[:, j] = functions.sol_trsupfil(U, y)\n",
    "\n",
    "    return X"
   ]
  },
  {
   "cell_type": "code",
   "execution_count": 23,
   "metadata": {},
   "outputs": [
    {
     "name": "stdout",
     "output_type": "stream",
     "text": [
      "||A @ X - I|| = 1.6687357476335705e-14\n"
     ]
    }
   ],
   "source": [
    "n = A.shape[0]\n",
    "X = inv_lu(A)\n",
    "I = np.eye(n)\n",
    "\n",
    "print('||A @ X - I|| =',np.linalg.norm(A @ X - I))"
   ]
  },
  {
   "cell_type": "code",
   "execution_count": 24,
   "metadata": {},
   "outputs": [],
   "source": [
    "# Ejercicio 13"
   ]
  },
  {
   "cell_type": "code",
   "execution_count": 25,
   "metadata": {},
   "outputs": [],
   "source": [
    "def det_lu(A: np.ndarray) -> float:\n",
    "    '''\n",
    "    Calcula el determinante de una matriz A utilizando descomposición LU con pivoteo parcial.\n",
    "    '''\n",
    "\n",
    "    _, U, _ = dlup(A)\n",
    "    det = np.prod(np.diag(U))\n",
    "\n",
    "    return det"
   ]
  },
  {
   "cell_type": "code",
   "execution_count": 26,
   "metadata": {},
   "outputs": [
    {
     "name": "stdout",
     "output_type": "stream",
     "text": [
      "det(A) = 23.999999999999982\n",
      "CPU times: user 1.12 ms, sys: 1.01 ms, total: 2.13 ms\n",
      "Wall time: 1.55 ms\n"
     ]
    }
   ],
   "source": [
    "%%time\n",
    "det = det_lu(A)\n",
    "print('det(A) =', det)"
   ]
  },
  {
   "cell_type": "code",
   "execution_count": 27,
   "metadata": {},
   "outputs": [
    {
     "name": "stdout",
     "output_type": "stream",
     "text": [
      "det(A) = 24.000000000000014\n",
      "CPU times: user 144 µs, sys: 129 µs, total: 273 µs\n",
      "Wall time: 270 µs\n"
     ]
    }
   ],
   "source": [
    "%%time\n",
    "det = np.linalg.det(A)\n",
    "print('det(A) =', det)"
   ]
  },
  {
   "cell_type": "code",
   "execution_count": 28,
   "metadata": {},
   "outputs": [],
   "source": [
    "# Ejercicio 15"
   ]
  },
  {
   "cell_type": "code",
   "execution_count": 29,
   "metadata": {},
   "outputs": [],
   "source": [
    "def circumference(p1, p2, p3):\n",
    "    '''\n",
    "    Dado tres puntos no colineales en el plano (p1 = (x1, x2), p2 = (y1, y2) y p3 = (z1, z2)) la función\n",
    "    realiza el gráfico de aquella circunferencia que pasa por los tres puntos dados.\n",
    "    '''\n",
    "\n",
    "    A = np.array([\n",
    "        [p1[0], p1[1], 1],\n",
    "        [p2[0], p2[1], 1],\n",
    "        [p3[0], p3[1], 1],\n",
    "    ], dtype=np.float64)\n",
    "\n",
    "    b = - np.array([sum(p1**2), sum(p2**2), sum(p3**2) ], dtype=np.float64)\n",
    "\n",
    "    d, e, f = sol_egauss(A, b)\n",
    "    r = np.sqrt((d**2 + e**2) / 4 - f)\n",
    "    X = np.linspace(0, 2 * np.pi, 100)\n",
    "\n",
    "    x1 = r * np.cos(X) - d / 2\n",
    "    x2 = r * np.sin(X)  - e / 2\n",
    "\n",
    "    fig, ax = plt.subplots()\n",
    "    plt.plot(x1, x2)\n",
    "    plt.plot(p1[0], p1[1], marker =\"o\")\n",
    "    plt.plot(p2[0], p2[1], marker =\"o\")\n",
    "    plt.plot(p3[0], p3[1], marker =\"o\")\n",
    "    plt.axis('equal')\n",
    "    plt.grid(True)\n",
    "    plt.show()"
   ]
  },
  {
   "cell_type": "code",
   "execution_count": 30,
   "metadata": {},
   "outputs": [
    {
     "data": {
      "image/png": "[encoded data removed]",
      "text/plain": [
       "<Figure size 640x480 with 1 Axes>"
      ]
     },
     "metadata": {},
     "output_type": "display_data"
    }
   ],
   "source": [
    "p1 = np.array([1, 0])\n",
    "p2 = np.array([0, 1])\n",
    "p3 = np.array([-1, 0])\n",
    "\n",
    "circumference(p1, p2, p3)"
   ]
  },
  {
   "cell_type": "code",
   "execution_count": null,
   "metadata": {},
   "outputs": [],
   "source": []
  }
 ],
 "metadata": {
  "kernelspec": {
   "display_name": "base",
   "language": "python",
   "name": "python3"
  },
  "language_info": {
   "codemirror_mode": {
    "name": "ipython",
    "version": 3
   },
   "file_extension": ".py",
   "mimetype": "text/x-python",
   "name": "python",
   "nbconvert_exporter": "python",
   "pygments_lexer": "ipython3",
   "version": "3.11.7"
  }
 },
 "nbformat": 4,
 "nbformat_minor": 2
}

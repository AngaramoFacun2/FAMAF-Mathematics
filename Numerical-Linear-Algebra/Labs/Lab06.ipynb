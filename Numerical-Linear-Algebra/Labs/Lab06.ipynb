{
 "cells": [
  {
   "cell_type": "code",
   "execution_count": 1,
   "metadata": {},
   "outputs": [],
   "source": [
    "import numpy as np\n",
    "import matplotlib.pyplot as plt\n",
    "\n",
    "import functions\n",
    "\n",
    "from scipy.sparse import csr_matrix"
   ]
  },
  {
   "cell_type": "code",
   "execution_count": 2,
   "metadata": {},
   "outputs": [],
   "source": [
    "plt.style.use('ggplot')"
   ]
  },
  {
   "cell_type": "code",
   "execution_count": 3,
   "metadata": {},
   "outputs": [],
   "source": [
    "# Ejercicio 1"
   ]
  },
  {
   "cell_type": "code",
   "execution_count": 4,
   "metadata": {},
   "outputs": [
    {
     "data": {
      "image/png": "[encoded data removed]",
      "text/plain": [
       "<Figure size 640x480 with 1 Axes>"
      ]
     },
     "metadata": {},
     "output_type": "display_data"
    }
   ],
   "source": [
    "A = np.array([[10, 4], [4, 6]], dtype=float)\n",
    "b = np.array([3, 9], dtype=float)\n",
    "\n",
    "x_ast = np.linalg.solve(A, b)\n",
    "\n",
    "x0 = np.array([0, 0])\n",
    "\n",
    "x1_j = [x0[0]]\n",
    "x2_j = [x0[1]]\n",
    "\n",
    "L = np.tril(A, -1)\n",
    "D = np.diag(A)\n",
    "U = np.triu(A, 1)\n",
    "\n",
    "J = (L + U) / D.reshape(-1, 1)\n",
    "y = b / D\n",
    "\n",
    "for i in range(5):\n",
    "\n",
    "    x_j = y - J @ x0\n",
    "\n",
    "    x1_j.append(x_j[0])\n",
    "    x2_j.append(x_j[1])\n",
    "\n",
    "    x0 = x_j\n",
    "\n",
    "fig, ax = plt.subplots()\n",
    "ax.scatter(x_ast[0], x_ast[1], label=r'$x^\\ast$')\n",
    "ax.scatter(x1_j, x2_j, label=r'$\\{x^k\\}$')\n",
    "ax.set_title('Método de Jacobi')\n",
    "ax.set_xlabel(r'$x_1$')\n",
    "ax.set_ylabel(r'$x_2$')\n",
    "ax.grid(True)\n",
    "ax.legend()\n",
    "plt.show()"
   ]
  },
  {
   "cell_type": "code",
   "execution_count": 5,
   "metadata": {},
   "outputs": [],
   "source": [
    "# Ejercicio 2"
   ]
  },
  {
   "cell_type": "code",
   "execution_count": 6,
   "metadata": {},
   "outputs": [],
   "source": [
    "def sol_jacobi(A: np.ndarray, b: np.ndarray, x0: np.ndarray, epsilon=1e-10, m=500) -> np.ndarray:\n",
    "    '''\n",
    "    Resuelve el sistema lineal Ax = b utilizando el método de Jacobi.\n",
    "    '''\n",
    "\n",
    "    assert (np.diag(A) != 0).all(), 'Error: Existe i en {0, 1, ..., n-1} tal que A[i, i] = 0.'\n",
    "\n",
    "    L = np.tril(A, -1)\n",
    "    D = np.diag(A)\n",
    "    U = np.triu(A, 1)\n",
    "\n",
    "    J = (L + U) / D.reshape(-1, 1)\n",
    "    y = b / D\n",
    "\n",
    "    for k in range(m):\n",
    "\n",
    "        x = y - J @ x0\n",
    "\n",
    "        if np.linalg.norm(x - x0, ord=np.inf) < epsilon:\n",
    "            break\n",
    "\n",
    "        x0 = x\n",
    "\n",
    "    print('k =', k+1)\n",
    "    \n",
    "    return x"
   ]
  },
  {
   "cell_type": "code",
   "execution_count": 7,
   "metadata": {},
   "outputs": [],
   "source": [
    "def sol_gs(A: np.ndarray, b: np.ndarray, x0: np.ndarray, epsilon=1e-10, m=1000) -> np.ndarray:\n",
    "    '''\n",
    "    Resuelve el sistema lineal Ax = b utilizando el método de Gauss-Seidel.\n",
    "    '''\n",
    "\n",
    "    assert (np.diag(A) != 0).all(), 'Error: Existe i en {0, 1, ..., n-1} tal que A[i, i] = 0.'\n",
    "\n",
    "    n = A.shape[0]\n",
    "\n",
    "    L = np.tril(A, -1)\n",
    "    D = np.diag(A)\n",
    "    U = np.triu(A, 1)\n",
    "\n",
    "    GS = (L + U) / D.reshape(-1, 1)\n",
    "    y = b / D\n",
    "    x = x0.copy()\n",
    "\n",
    "    for k in range(m):\n",
    "\n",
    "        for i in range(n):\n",
    "            x[i] = y[i] - GS[i, :] @ x\n",
    "\n",
    "        if np.linalg.norm(x - x0, ord=np.inf) < epsilon:\n",
    "            break\n",
    "\n",
    "        x0 = x.copy()\n",
    "\n",
    "    print('k =', k+1)\n",
    "    \n",
    "    return x"
   ]
  },
  {
   "cell_type": "code",
   "execution_count": 8,
   "metadata": {},
   "outputs": [
    {
     "name": "stdout",
     "output_type": "stream",
     "text": [
      "- Método Jacobi\n",
      "k = 30\n",
      "x_j = [0.33193732 0.14527283 0.32554288 0.20158286 0.36897894]\n",
      "||A @ x_j - b|| = 2.189417170546419e-10\n",
      "\n",
      "- Método Gauss-Seidel\n",
      "k = 16\n",
      "x_gs = [0.33193732 0.14527283 0.32554288 0.20158286 0.36897894]\n",
      "||A @ x_gs - b|| = 5.304060106510423e-11\n",
      "\n",
      "- NumPy\n",
      "x_np = [0.33193732 0.14527283 0.32554288 0.20158286 0.36897894]\n",
      "||A @ x_np - b|| = 3.8459253727671276e-16\n"
     ]
    }
   ],
   "source": [
    "# TEST\n",
    "n = 5\n",
    "\n",
    "A = 5 * np.eye(n) + np.random.random((n, n)) - 2 * np.random.random((n, n))\n",
    "b = np.random.random(n)\n",
    "x0 = np.zeros(n)\n",
    "\n",
    "# Método de Jacobi\n",
    "print('- Método Jacobi')\n",
    "x_j = sol_jacobi(A, b, x0)\n",
    "print('x_j =', x_j)\n",
    "print('||A @ x_j - b|| =', np.linalg.norm(A @ x_j - b))\n",
    "\n",
    "# Método de Gauss-Seidel\n",
    "print('\\n- Método Gauss-Seidel')\n",
    "x_gs = sol_gs(A, b, x0)\n",
    "print('x_gs =', x_j)\n",
    "print('||A @ x_gs - b|| =', np.linalg.norm(A @ x_gs - b))\n",
    "\n",
    "# NumPy\n",
    "print('\\n- NumPy')\n",
    "x_np = np.linalg.solve(A, b)\n",
    "print('x_np =', x_j)\n",
    "print('||A @ x_np - b|| =', np.linalg.norm(A @ x_np - b))"
   ]
  },
  {
   "cell_type": "code",
   "execution_count": 9,
   "metadata": {},
   "outputs": [],
   "source": [
    "def sol_cauchy(A: np.ndarray, b: np.ndarray, x: np.ndarray, epsilon=1e-10, m=1000) -> np.ndarray:\n",
    "    '''\n",
    "    Resuelve el sistema lineal Ax = b utilizando el método de Cauchy.\n",
    "    '''\n",
    "\n",
    "    # d^(k) = r^(k) / ||r^(k)||_2\n",
    "\n",
    "    # alpha_(k) = r^(k).T @ d^(k) / (d^(k).T @ A @ d^(k))\n",
    "\n",
    "    # x^(k+1) = x^(k) + alpha_(k) * d^(k)\n",
    "    # r^(k+1) = r^(k) - alpha_(k) * A @ d^(k)\n",
    "\n",
    "    r = b - A @ x\n",
    "    sigma = np.linalg.norm(r, ord=2)\n",
    "\n",
    "    for k in range(m):\n",
    "\n",
    "        if sigma < epsilon:\n",
    "            break\n",
    "\n",
    "        v = A @ r\n",
    "        t = sigma**2 / (r.T @ v)\n",
    "\n",
    "        x = x + t * r\n",
    "        r = r - t * v\n",
    "\n",
    "        sigma = np.linalg.norm(r, ord=2)\n",
    "\n",
    "    print('k =', k+1)\n",
    "\n",
    "    return x"
   ]
  },
  {
   "cell_type": "code",
   "execution_count": 10,
   "metadata": {},
   "outputs": [],
   "source": [
    "def sol_gastinel(A: np.ndarray, b: np.ndarray, x: np.ndarray, epsilon=1e-10, m=1000) -> np.ndarray:\n",
    "    '''\n",
    "    Resuelve el sistema lineal Ax = b utilizando el método de Gastinel.\n",
    "    '''\n",
    "\n",
    "    r = b - A @ x\n",
    "    sigma = np.linalg.norm(r, ord=1)\n",
    "\n",
    "    for k in range(m):\n",
    "\n",
    "        if sigma < epsilon:\n",
    "            break\n",
    "\n",
    "        d = np.sign(r)\n",
    "        v = A @ d\n",
    "        t = (r.T @ d) / (d.T @ v)\n",
    "\n",
    "        x = x + t * d \n",
    "        r = r - t * v\n",
    "\n",
    "        sigma = np.linalg.norm(r , ord=1)\n",
    "\n",
    "    print('k =', k+1)\n",
    "\n",
    "    return x\n"
   ]
  },
  {
   "cell_type": "code",
   "execution_count": 11,
   "metadata": {},
   "outputs": [
    {
     "name": "stdout",
     "output_type": "stream",
     "text": [
      "- Método de Cauchy\n",
      "k = 44\n",
      "x_cauchy = [ 0.17396325  0.2367922   0.08125781 -0.01810851 -0.02537629]\n",
      "||A @ x_cauchy - b|| = 5.7397747383018824e-11\n",
      "- Método de Gastinel\n",
      "k = 116\n",
      "x_gastinel = [ 0.17396325  0.2367922   0.08125781 -0.01810851 -0.02537629]\n",
      "||A @ x_gastinel - b|| = 4.7201613118514893e-11\n",
      "- NumPy\n",
      "x_np = [ 0.17396325  0.2367922   0.08125781 -0.01810851 -0.02537629]\n",
      "||A @ x_np - b|| = 2.482534153247273e-16\n"
     ]
    }
   ],
   "source": [
    "# TEST\n",
    "n = 5\n",
    "\n",
    "A = np.random.random((n, n))\n",
    "A = A.T @ A + np.eye(n)\n",
    "b = np.random.random(n)\n",
    "x = np.zeros(n)\n",
    "\n",
    "# Método de Cauchy\n",
    "print('- Método de Cauchy')\n",
    "x_cauchy = sol_cauchy(A, b, x)\n",
    "print('x_cauchy =', x_cauchy)\n",
    "print('||A @ x_cauchy - b|| =', np.linalg.norm(A @ x_cauchy - b))\n",
    "\n",
    "# Método de Gastinel\n",
    "print('- Método de Gastinel')\n",
    "x_gastinel = sol_gastinel(A, b, x)\n",
    "print('x_gastinel =', x_gastinel)\n",
    "print('||A @ x_gastinel - b|| =', np.linalg.norm(A @ x_gastinel - b))\n",
    "\n",
    "# NumPy\n",
    "print('- NumPy')\n",
    "x_np = np.linalg.solve(A, b)\n",
    "print('x_np =', x_np)\n",
    "print('||A @ x_np - b|| =', np.linalg.norm(A @ x_np - b))"
   ]
  },
  {
   "cell_type": "code",
   "execution_count": 12,
   "metadata": {},
   "outputs": [
    {
     "data": {
      "text/plain": [
       "array([[ 4., -1.,  0., ...,  0.,  0.,  0.],\n",
       "       [-1.,  4., -1., ...,  0.,  0.,  0.],\n",
       "       [ 0., -1.,  4., ...,  0.,  0.,  0.],\n",
       "       ...,\n",
       "       [ 0.,  0.,  0., ...,  4., -1.,  0.],\n",
       "       [ 0.,  0.,  0., ..., -1.,  4., -1.],\n",
       "       [ 0.,  0.,  0., ...,  0., -1.,  4.]])"
      ]
     },
     "execution_count": 12,
     "metadata": {},
     "output_type": "execute_result"
    }
   ],
   "source": [
    "# TEST\n",
    "n = 5000\n",
    "\n",
    "E = np.diag(np.ones(n-1), 1) + np.diag(np.ones(n-1), -1)\n",
    "I = np.eye(n)\n",
    "A = csr_matrix(4*I - E)\n",
    "\n",
    "b = np.random.rand(n)\n",
    "\n",
    "x = np.zeros(n)\n",
    "\n",
    "A.toarray()"
   ]
  },
  {
   "cell_type": "code",
   "execution_count": 13,
   "metadata": {},
   "outputs": [
    {
     "name": "stdout",
     "output_type": "stream",
     "text": [
      "### Método de Cauchy ###\n",
      "k = 36\n",
      "x_cauchy = [0.2452716  0.22753851 0.14524449 ... 0.25665762 0.23392654 0.11643112]\n",
      "||A @ x_cauchy - b|| = 5.784980665104006e-11\n",
      "CPU times: user 2.13 ms, sys: 1.32 ms, total: 3.45 ms\n",
      "Wall time: 2.91 ms\n"
     ]
    }
   ],
   "source": [
    "%%time\n",
    "# Método de Cauchy\n",
    "print('### Método de Cauchy ###')\n",
    "x_cauchy = sol_cauchy(A, b, x)\n",
    "print('x_cauchy =', x_cauchy)\n",
    "print('||A @ x_cauchy - b|| =', np.linalg.norm(A @ x_cauchy - b))"
   ]
  },
  {
   "cell_type": "code",
   "execution_count": 14,
   "metadata": {},
   "outputs": [
    {
     "name": "stdout",
     "output_type": "stream",
     "text": [
      "### Cholesky ####\n",
      "x_cauchy = [0.2452716  0.22753851 0.14524449 ... 0.25665762 0.23392654 0.11643112]\n",
      "||A @ x_cauchy - b|| = 5.784980665104006e-11\n",
      "CPU times: user 1min 9s, sys: 728 ms, total: 1min 10s\n",
      "Wall time: 9.92 s\n"
     ]
    }
   ],
   "source": [
    "%%time\n",
    "# Descomposición de Cholesky\n",
    "print('### Cholesky ####')\n",
    "x_cholesky = functions.sol_defpos(A.toarray(), b)\n",
    "print('x_cauchy =', x_cauchy)\n",
    "print('||A @ x_cauchy - b|| =', np.linalg.norm(A @ x_cauchy - b))"
   ]
  },
  {
   "cell_type": "code",
   "execution_count": 15,
   "metadata": {},
   "outputs": [
    {
     "name": "stdout",
     "output_type": "stream",
     "text": [
      "- NumPy\n",
      "x_np = [0.2452716  0.22753851 0.14524449 ... 0.25665762 0.23392654 0.11643112]\n",
      "||A @ x_np - b|| = 6.7042392119743615e-15\n",
      "CPU times: user 6.39 s, sys: 193 ms, total: 6.59 s\n",
      "Wall time: 903 ms\n"
     ]
    }
   ],
   "source": [
    "%%time\n",
    "# NumPy\n",
    "print('- NumPy')\n",
    "x_np = np.linalg.solve(A.toarray(), b)\n",
    "print('x_np =', x_np)\n",
    "print('||A @ x_np - b|| =', np.linalg.norm(A @ x_np - b))"
   ]
  },
  {
   "cell_type": "code",
   "execution_count": 16,
   "metadata": {},
   "outputs": [],
   "source": [
    "# Ejercicio 8"
   ]
  },
  {
   "cell_type": "code",
   "execution_count": 17,
   "metadata": {},
   "outputs": [],
   "source": [
    "def sol_gradcon(A: np.ndarray, b: np.ndarray, x: np.ndarray, epsilon=1e-10, m=1000) -> np.ndarray:\n",
    "    '''\n",
    "    Resuelve el sistema lineal Ax = b utilizando el método del gradiente conjugado.\n",
    "    '''\n",
    "\n",
    "    r = b - A @ x\n",
    "    sigma = np.linalg.norm(r, ord=2)\n",
    "    d = r.copy()\n",
    "\n",
    "    for k in range(m):\n",
    "\n",
    "        if sigma < epsilon:\n",
    "            break\n",
    "\n",
    "        v = A @ d \n",
    "        t = sigma**2 / (d.T @ v)\n",
    "        \n",
    "        x = x + t * d\n",
    "        r = r - t * v\n",
    "\n",
    "        sigma_ = np.linalg.norm(r, ord=2)\n",
    "\n",
    "        s = sigma_**2 / sigma**2\n",
    "\n",
    "        d = r + s * d\n",
    "\n",
    "        sigma = sigma_.copy()\n",
    "\n",
    "    print('k =', k+1)\n",
    "\n",
    "    return x"
   ]
  },
  {
   "cell_type": "code",
   "execution_count": 18,
   "metadata": {},
   "outputs": [
    {
     "name": "stdout",
     "output_type": "stream",
     "text": [
      "- Método de Cauchy\n",
      "k = 1000\n",
      "||A @ x_cauchy - b|| = 0.7052630981429859\n",
      "- Método del Gradiente Conjugado\n",
      "k = 71\n",
      "||A @ x_gradcon - b|| = 6.18176678559898e-11\n"
     ]
    }
   ],
   "source": [
    "# TEST\n",
    "n = 100\n",
    "\n",
    "A = np.random.random((n, n))\n",
    "A = A.T @ A + np.eye(n)\n",
    "b = np.random.random(n)\n",
    "x = np.zeros(n)\n",
    "\n",
    "# Método de Cauchy\n",
    "print('- Método de Cauchy')\n",
    "x_cauchy = sol_cauchy(A, b, x)\n",
    "print('||A @ x_cauchy - b|| =', np.linalg.norm(A @ x_cauchy - b))\n",
    "\n",
    "# Método del Gradiente Conjugado\n",
    "print('- Método del Gradiente Conjugado')\n",
    "x_gradcon = sol_gradcon(A, b, x)\n",
    "print('||A @ x_gradcon - b|| =', np.linalg.norm(A @ x_gradcon - b))"
   ]
  },
  {
   "cell_type": "code",
   "execution_count": 19,
   "metadata": {},
   "outputs": [],
   "source": [
    "# TEST\n",
    "n = 10000\n",
    "\n",
    "E = np.diag(np.ones(n-1), 1) + np.diag(np.ones(n-1), -1)\n",
    "I = np.eye(n)\n",
    "A = csr_matrix(4*I - E)\n",
    "\n",
    "b = np.random.rand(n)\n",
    "\n",
    "x = np.zeros(n)\n"
   ]
  },
  {
   "cell_type": "code",
   "execution_count": 20,
   "metadata": {},
   "outputs": [
    {
     "name": "stdout",
     "output_type": "stream",
     "text": [
      "### Método de Cauchy ###\n",
      "k = 36\n",
      "||A @ x_cauchy - b|| = 8.756288494032546e-11\n",
      "CPU times: user 5.49 ms, sys: 2.65 ms, total: 8.14 ms\n",
      "Wall time: 11.3 ms\n"
     ]
    }
   ],
   "source": [
    "%%time\n",
    "# Método de Cauchy\n",
    "print('### Método de Cauchy ###')\n",
    "x_cauchy = sol_cauchy(A, b, x)\n",
    "print('||A @ x_cauchy - b|| =', np.linalg.norm(A @ x_cauchy - b))"
   ]
  },
  {
   "cell_type": "code",
   "execution_count": 21,
   "metadata": {},
   "outputs": [
    {
     "name": "stdout",
     "output_type": "stream",
     "text": [
      "### Método del Gradiente Conjugado ###\n",
      "k = 22\n",
      "||A @ x_gradcon - b|| = 4.18123195769915e-11\n",
      "CPU times: user 2.83 ms, sys: 1.4 ms, total: 4.23 ms\n",
      "Wall time: 4.58 ms\n"
     ]
    }
   ],
   "source": [
    "%%time\n",
    "# Método del Gradiente Conjugado\n",
    "print('### Método del Gradiente Conjugado ###')\n",
    "x_gradcon = sol_gradcon(A, b, x)\n",
    "print('||A @ x_gradcon - b|| =', np.linalg.norm(A @ x_gradcon - b))"
   ]
  },
  {
   "cell_type": "code",
   "execution_count": 22,
   "metadata": {},
   "outputs": [
    {
     "name": "stdout",
     "output_type": "stream",
     "text": [
      "### Cholesky ###\n",
      "x_cauchy = [0.29797307 0.22345235 0.21484705 ... 0.09917599 0.17646169 0.20185244]\n",
      "||A @ x_cauchy - b|| = 8.756288494032546e-11\n",
      "CPU times: user 6min 31s, sys: 4.2 s, total: 6min 35s\n",
      "Wall time: 54.8 s\n"
     ]
    }
   ],
   "source": [
    "%%time\n",
    "# Descomposición de Cholesky\n",
    "print('### Cholesky ###')\n",
    "x_cholesky = functions.sol_defpos(A.toarray(), b)\n",
    "print('x_cauchy =', x_cauchy)\n",
    "print('||A @ x_cauchy - b|| =', np.linalg.norm(A @ x_cauchy - b))"
   ]
  },
  {
   "cell_type": "code",
   "execution_count": null,
   "metadata": {},
   "outputs": [],
   "source": []
  }
 ],
 "metadata": {
  "kernelspec": {
   "display_name": "base",
   "language": "python",
   "name": "python3"
  },
  "language_info": {
   "codemirror_mode": {
    "name": "ipython",
    "version": 3
   },
   "file_extension": ".py",
   "mimetype": "text/x-python",
   "name": "python",
   "nbconvert_exporter": "python",
   "pygments_lexer": "ipython3",
   "version": "3.11.7"
  }
 },
 "nbformat": 4,
 "nbformat_minor": 2
}
